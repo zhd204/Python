{
 "cells": [
  {
   "cell_type": "markdown",
   "id": "e66cc666-f223-46ab-938e-b4d88450efa4",
   "metadata": {},
   "source": [
    "## Primer on Python Decorators"
   ]
  },
  {
   "cell_type": "markdown",
   "id": "96d7e373-9e17-4831-b8c8-b91deb55619c",
   "metadata": {},
   "source": [
    "Reference:\n",
    "\n",
    "- https://realpython.com/primer-on-python-decorators/\n",
    "- https://github.com/realpython/materials/tree/master/primer-on-python-decorators"
   ]
  },
  {
   "cell_type": "markdown",
   "id": "e1699f8a-b67e-42ea-a4db-cb198fbc42c5",
   "metadata": {},
   "source": [
    "By **definition**, a decorator is a function that takes another function and extends the behavior of the latter function without explicitly modifying it."
   ]
  },
  {
   "cell_type": "markdown",
   "id": "0f0abe9b-c2b8-4073-bc32-e60b800d6580",
   "metadata": {},
   "source": [
    "## First-Class Objects"
   ]
  },
  {
   "cell_type": "markdown",
   "id": "30548716-3c8c-480d-9294-4718f08b51c7",
   "metadata": {},
   "source": [
    "In Python, functions are **first-class objects**. This means that *functions can be passed around and used as arguments*, just like any other object (string, int, float, list, and so on). Consider the following three functions:"
   ]
  },
  {
   "cell_type": "code",
   "execution_count": 1,
   "id": "4b685616-9e58-4b85-8359-f636bc42051b",
   "metadata": {},
   "outputs": [
    {
     "name": "stdout",
     "output_type": "stream",
     "text": [
      "Hello Bob\n",
      "Yo Bob, together we are the awesomest!\n",
      "Hello Bob\n",
      "Yo Bob, together we are the awesomest!\n"
     ]
    }
   ],
   "source": [
    "def say_hello(name):\n",
    "    print(f\"Hello {name}\")\n",
    "\n",
    "def be_awesome(name):\n",
    "    print(f\"Yo {name}, together we are the awesomest!\")\n",
    "\n",
    "def greet_bob(greeter_func):\n",
    "    return(greeter_func(\"Bob\"))\n",
    "\n",
    "say_hello(\"Bob\")\n",
    "be_awesome(\"Bob\")\n",
    "greet_bob(say_hello)\n",
    "greet_bob(be_awesome)"
   ]
  },
  {
   "cell_type": "markdown",
   "id": "d46acad3-0acf-44fe-95fd-64abf73908d4",
   "metadata": {},
   "source": [
    "## Inner Functions"
   ]
  },
  {
   "cell_type": "markdown",
   "id": "0b6e6e3d-8b8b-48a2-a71e-46a3c48b0a49",
   "metadata": {},
   "source": [
    "It’s possible to define functions inside other functions. Such functions are called inner functions. Here’s an example of a function with two inner functions:"
   ]
  },
  {
   "cell_type": "code",
   "execution_count": 2,
   "id": "8189773a-de52-4097-90e7-fc0de6ea4455",
   "metadata": {},
   "outputs": [],
   "source": [
    "def parent():\n",
    "    print(\"Printing from the parent() function\")\n",
    "    \n",
    "    def first_child():\n",
    "        print(\"Printing from the first_child() function\")\n",
    "        \n",
    "    def second_child():\n",
    "        print(\"printing from the second_child() function\")\n",
    "    \n",
    "    first_child()\n",
    "    second_child()"
   ]
  },
  {
   "cell_type": "code",
   "execution_count": 3,
   "id": "62e3b054-3b91-4b52-959b-c4fe62d12d65",
   "metadata": {},
   "outputs": [
    {
     "name": "stdout",
     "output_type": "stream",
     "text": [
      "Printing from the parent() function\n",
      "Printing from the first_child() function\n",
      "printing from the second_child() function\n"
     ]
    }
   ],
   "source": [
    "parent()"
   ]
  },
  {
   "cell_type": "markdown",
   "id": "80e094d3-3375-4cdf-b244-42d09230a039",
   "metadata": {},
   "source": [
    "## Returning Functions From Functions"
   ]
  },
  {
   "cell_type": "markdown",
   "id": "b4a138ad-0137-43bb-811c-e50b512471ae",
   "metadata": {},
   "source": [
    "Python also allows you to use functions as return values. The following example returns one of the inner functions from the outer parent() function:"
   ]
  },
  {
   "cell_type": "code",
   "execution_count": 4,
   "id": "0d75c4f6-ffa6-4870-aec3-83b2141357d6",
   "metadata": {},
   "outputs": [],
   "source": [
    "def parent(num):\n",
    "    def first_child():\n",
    "        return \"Hi, I am Emma\"\n",
    "\n",
    "    def second_child():\n",
    "        return \"Call me Liam\"\n",
    "\n",
    "    if num == 1:\n",
    "        return first_child\n",
    "    else:\n",
    "        return second_child"
   ]
  },
  {
   "cell_type": "markdown",
   "id": "ab082c18-8415-4f05-be0e-c9262915fa13",
   "metadata": {},
   "source": [
    "**Note that you are returning first_child without the parentheses. Recall that this means that you are returning a reference to the function first_child. In contrast first_child() with parentheses refers to the result of evaluating the function**. This can be seen in the following example:"
   ]
  },
  {
   "cell_type": "code",
   "execution_count": 5,
   "id": "e9e2444b-506b-4414-9eee-04e8319c1614",
   "metadata": {},
   "outputs": [
    {
     "name": "stdout",
     "output_type": "stream",
     "text": [
      "Hi, I am Emma\n",
      "Call me Liam\n",
      "<function parent.<locals>.first_child at 0x7fe7a0a105e0>\n",
      "<function parent.<locals>.second_child at 0x7fe7a0a10700>\n"
     ]
    }
   ],
   "source": [
    "first = parent(1)\n",
    "second = parent(2)\n",
    "print(first())\n",
    "print(second())\n",
    "\n",
    "print(first)\n",
    "print(second)"
   ]
  },
  {
   "cell_type": "markdown",
   "id": "982ae675-d11a-426b-bd1c-084739a2f10b",
   "metadata": {},
   "source": [
    "## Simple Decorators"
   ]
  },
  {
   "cell_type": "markdown",
   "id": "c1642a3e-1f53-4ff5-8b0e-fa9d03a27cde",
   "metadata": {},
   "source": [
    "Now that you’ve seen that functions are just like any other object in Python, you’re ready to move on and see the magical beast that is the Python decorator. Let’s start with an example:"
   ]
  },
  {
   "cell_type": "code",
   "execution_count": 6,
   "id": "f547f05f-6054-4a80-9040-08d8e806b900",
   "metadata": {},
   "outputs": [],
   "source": [
    "def my_decorator(func):\n",
    "    def wrapper():\n",
    "        print(\"Something is happening before the function is called.\")\n",
    "        func()\n",
    "        print(\"Something is happending after the function is called.\")\n",
    "    return wrapper\n",
    "\n",
    "def say_whee():\n",
    "    print(\"Whee!\")\n",
    "    \n",
    "\n",
    "say_whee = my_decorator(say_whee)"
   ]
  },
  {
   "cell_type": "code",
   "execution_count": 7,
   "id": "e7e4d2f3-de79-4b9b-853c-7b86d1d1fe9a",
   "metadata": {},
   "outputs": [
    {
     "name": "stdout",
     "output_type": "stream",
     "text": [
      "Something is happening before the function is called.\n",
      "Whee!\n",
      "Something is happending after the function is called.\n"
     ]
    }
   ],
   "source": [
    "say_whee()"
   ]
  },
  {
   "cell_type": "code",
   "execution_count": 8,
   "id": "bee41979-fbf1-4095-a166-f8fa47a8e648",
   "metadata": {},
   "outputs": [],
   "source": [
    "@my_decorator\n",
    "def say_whee():\n",
    "    print(\"Whee!\")"
   ]
  },
  {
   "cell_type": "code",
   "execution_count": 9,
   "id": "e15a81ad-382a-40fb-80de-7907de39a08a",
   "metadata": {},
   "outputs": [
    {
     "name": "stdout",
     "output_type": "stream",
     "text": [
      "Something is happening before the function is called.\n",
      "Whee!\n",
      "Something is happending after the function is called.\n"
     ]
    }
   ],
   "source": [
    "say_whee()"
   ]
  },
  {
   "cell_type": "code",
   "execution_count": 10,
   "id": "574febb6-399b-468c-ab58-5c763a65b801",
   "metadata": {},
   "outputs": [
    {
     "data": {
      "text/plain": [
       "<function __main__.my_decorator.<locals>.wrapper()>"
      ]
     },
     "execution_count": 10,
     "metadata": {},
     "output_type": "execute_result"
    }
   ],
   "source": [
    "say_whee"
   ]
  },
  {
   "cell_type": "markdown",
   "id": "e2cc2eab-fdd9-4556-bd16-c6da2210e0f8",
   "metadata": {},
   "source": [
    "This is so-called **decoration**. In effect, the name say_whee now points to the wrapper() inner function. Remember that you return wrapper as a function when you call my_decorator(say_whee) *<function __main__.my_decorator.<locals>.wrapper()>*. The wrapper() has a reference to the original say_whee() as func, and calls that function between the two calls to print().\n",
    "    \n",
    "Put simply: **decorators wrap a function, modifying its behavior**."
   ]
  },
  {
   "cell_type": "markdown",
   "id": "9dc82b9c-8a3f-4f80-abb2-2d464bbe066b",
   "metadata": {},
   "source": [
    "Before moving on, let’s have a look at a second example. Because wrapper() is a regular Python function, the way a decorator modifies a function can change dynamically. So as not to disturb your neighbors, the following example will only run the decorated code during the day:"
   ]
  },
  {
   "cell_type": "code",
   "execution_count": 11,
   "id": "74096bfa-1004-4516-ab02-50d6b1780f08",
   "metadata": {},
   "outputs": [],
   "source": [
    "from datetime import datetime\n",
    "\n",
    "def not_during_the_night(func):\n",
    "    def wrapper():\n",
    "        if 7 <= datetime.now().hour < 22:\n",
    "            func()\n",
    "        else:\n",
    "            pass  # Hush, the neighbors are asleep\n",
    "    return wrapper\n",
    "\n",
    "\n",
    "def say_whee():\n",
    "    print(\"Whee!\")\n",
    "\n",
    "# change the time when the code can be executed\n",
    "say_whee = not_during_the_night(say_whee)\n",
    "\n",
    "say_whee()"
   ]
  },
  {
   "cell_type": "code",
   "execution_count": 12,
   "id": "818160c2-f116-4413-b17d-d0f9537f008f",
   "metadata": {},
   "outputs": [],
   "source": [
    "@not_during_the_night\n",
    "def say_whee():\n",
    "    print(\"Whee!\")\n",
    "\n",
    "say_whee()"
   ]
  },
  {
   "cell_type": "markdown",
   "id": "b3b8e0a0-be8e-42ec-98e3-a54cd0d2d56a",
   "metadata": {},
   "source": [
    "## Reusing Decorators"
   ]
  },
  {
   "cell_type": "markdown",
   "id": "67faa09e-884b-4aed-8ef1-e96b14c905cd",
   "metadata": {},
   "source": [
    "Recall that a decorator is just a regular Python function. All the usual tools for easy reusability are available. Let’s move the decorator to its own module that can be used in many other functions."
   ]
  },
  {
   "cell_type": "code",
   "execution_count": 13,
   "id": "fd93a704-d2fe-4d36-9037-58cc85ffe442",
   "metadata": {},
   "outputs": [],
   "source": [
    "from decorators import do_twice\n",
    "\n",
    "@do_twice\n",
    "def say_whee():\n",
    "    print(\"Whee!\")"
   ]
  },
  {
   "cell_type": "code",
   "execution_count": 14,
   "id": "e153e495-2723-42d9-a9b9-809a990e1e4e",
   "metadata": {},
   "outputs": [
    {
     "name": "stdout",
     "output_type": "stream",
     "text": [
      "Whee!\n",
      "Whee!\n"
     ]
    }
   ],
   "source": [
    "say_whee()"
   ]
  },
  {
   "cell_type": "markdown",
   "id": "05f000e1-0208-483b-a914-74417ae83c7e",
   "metadata": {},
   "source": [
    "## Decorating Functions With Arguments"
   ]
  },
  {
   "cell_type": "markdown",
   "id": "7c54d505-0f39-4233-b05d-ce45a4a9ff0f",
   "metadata": {},
   "source": [
    "The practice is to use *args and **kwargs in the inner wrapper function. Then it will accept an arbitrary number of positional and keyword arguments."
   ]
  },
  {
   "cell_type": "code",
   "execution_count": 15,
   "id": "f81c3862-0d09-44a7-9f42-7570b5e882f0",
   "metadata": {},
   "outputs": [],
   "source": [
    "from decorators import do_twice\n",
    "\n",
    "@do_twice\n",
    "def greet(name):\n",
    "    print(f\"Hello {name}\")"
   ]
  },
  {
   "cell_type": "code",
   "execution_count": 16,
   "id": "bc12b63d-2402-4eab-a197-98105bd92e68",
   "metadata": {},
   "outputs": [
    {
     "name": "stdout",
     "output_type": "stream",
     "text": [
      "Hello World\n",
      "Hello World\n"
     ]
    }
   ],
   "source": [
    "greet(\"World\")"
   ]
  },
  {
   "cell_type": "markdown",
   "id": "3504b2b3-f486-47a9-bf73-10e594ff9860",
   "metadata": {},
   "source": [
    "## Returning Values From Decorated Functions"
   ]
  },
  {
   "cell_type": "markdown",
   "id": "836a4845-b837-4f64-81c7-853a8420db35",
   "metadata": {},
   "source": [
    "Make sure the wrapper function returns the return value of the decorated function."
   ]
  },
  {
   "cell_type": "code",
   "execution_count": 17,
   "id": "4fa44e2c-80a1-4804-911d-a89c7fca5f8d",
   "metadata": {},
   "outputs": [],
   "source": [
    "from decorators import do_twice\n",
    "\n",
    "@do_twice\n",
    "def return_greeting(name):\n",
    "    print(\"Creating greeting\")\n",
    "    return f\"Hi {name}\""
   ]
  },
  {
   "cell_type": "code",
   "execution_count": 18,
   "id": "df619d4b-0d45-4601-88eb-c98855e28a37",
   "metadata": {},
   "outputs": [
    {
     "name": "stdout",
     "output_type": "stream",
     "text": [
      "Creating greeting\n",
      "Creating greeting\n",
      "Hi Adam\n"
     ]
    }
   ],
   "source": [
    "hi_adam = return_greeting(\"Adam\")\n",
    "print(hi_adam)"
   ]
  },
  {
   "cell_type": "code",
   "execution_count": 19,
   "id": "d14102a7-8811-4e74-a73e-388e0708b37f",
   "metadata": {},
   "outputs": [
    {
     "name": "stdout",
     "output_type": "stream",
     "text": [
      "Creating greeting\n",
      "Creating greeting\n",
      "Hi Adam\n"
     ]
    }
   ],
   "source": [
    "def do_twice(func):\n",
    "    def wrapper_do_twice(*args, **kwargs):\n",
    "        func(*args, **kwargs)\n",
    "        return func(*args, **kwargs)\n",
    "        \n",
    "    return wrapper_do_twice\n",
    "\n",
    "@do_twice\n",
    "def return_greeting(name):\n",
    "    print(\"Creating greeting\")\n",
    "    return f\"Hi {name}\"\n",
    "\n",
    "hi_adam = return_greeting(\"Adam\")\n",
    "print(hi_adam)"
   ]
  },
  {
   "cell_type": "markdown",
   "id": "2ed70220-6be6-432e-a566-78231acfd350",
   "metadata": {},
   "source": [
    "## Introspection"
   ]
  },
  {
   "cell_type": "markdown",
   "id": "5922f0ee-9077-486c-a75a-ec9628e4cac6",
   "metadata": {},
   "source": [
    " Introspection is the ability of an object to know about its own attributes at runtime. For instance, a function knows its own name and documentation:"
   ]
  },
  {
   "cell_type": "code",
   "execution_count": 20,
   "id": "f1116303-d6f7-40fa-a60e-38fc689543ce",
   "metadata": {},
   "outputs": [
    {
     "data": {
      "text/plain": [
       "'print'"
      ]
     },
     "execution_count": 20,
     "metadata": {},
     "output_type": "execute_result"
    }
   ],
   "source": [
    "print.__name__"
   ]
  },
  {
   "cell_type": "code",
   "execution_count": 21,
   "id": "2101b8bf-6ed4-432c-bae5-d3a0e92b22da",
   "metadata": {},
   "outputs": [
    {
     "name": "stdout",
     "output_type": "stream",
     "text": [
      "Help on built-in function print in module builtins:\n",
      "\n",
      "print(...)\n",
      "    print(value, ..., sep=' ', end='\\n', file=sys.stdout, flush=False)\n",
      "    \n",
      "    Prints the values to a stream, or to sys.stdout by default.\n",
      "    Optional keyword arguments:\n",
      "    file:  a file-like object (stream); defaults to the current sys.stdout.\n",
      "    sep:   string inserted between values, default a space.\n",
      "    end:   string appended after the last value, default a newline.\n",
      "    flush: whether to forcibly flush the stream.\n",
      "\n"
     ]
    }
   ],
   "source": [
    "help(print)"
   ]
  },
  {
   "cell_type": "code",
   "execution_count": 22,
   "id": "8f975ffc-69c2-4925-b8df-aeaa3b329d80",
   "metadata": {},
   "outputs": [
    {
     "data": {
      "text/plain": [
       "<function decorators.do_twice.<locals>.wrapper_do_twice(*args, **kwargs)>"
      ]
     },
     "execution_count": 22,
     "metadata": {},
     "output_type": "execute_result"
    }
   ],
   "source": [
    "say_whee"
   ]
  },
  {
   "cell_type": "code",
   "execution_count": 23,
   "id": "bcb6931a-795c-4f71-9cc4-1dc6a68a62e6",
   "metadata": {},
   "outputs": [
    {
     "data": {
      "text/plain": [
       "'wrapper_do_twice'"
      ]
     },
     "execution_count": 23,
     "metadata": {},
     "output_type": "execute_result"
    }
   ],
   "source": [
    "say_whee.__name__"
   ]
  },
  {
   "cell_type": "code",
   "execution_count": 24,
   "id": "037fd9c0-30e9-49af-b6c2-d16c5cf99e47",
   "metadata": {},
   "outputs": [
    {
     "name": "stdout",
     "output_type": "stream",
     "text": [
      "Help on function wrapper_do_twice in module decorators:\n",
      "\n",
      "wrapper_do_twice(*args, **kwargs)\n",
      "\n"
     ]
    }
   ],
   "source": [
    "help(say_whee)"
   ]
  },
  {
   "cell_type": "markdown",
   "id": "e5320f9b-26b7-4064-8659-ae616039c3e2",
   "metadata": {},
   "source": [
    "However, after being decorated, say_whee() has gotten very confused about its identity. It now reports being the wrapper_do_twice() inner function inside the do_twice() decorator. Although technically true, this is not very useful information.\n",
    "\n",
    "To fix this, decorators should use the **functools.wraps** decorator, which will preserve information about the original function. "
   ]
  },
  {
   "cell_type": "code",
   "execution_count": 28,
   "id": "8830961d-0f3b-42be-8324-3dc6efbf85e1",
   "metadata": {},
   "outputs": [],
   "source": [
    "import functools\n",
    "def do_twice(func):\n",
    "    @functools.wraps(func)\n",
    "    def wrapper_do_twice(*args, **kwargs):\n",
    "        func(*args, **kwargs)\n",
    "        return func(*args, **kwargs)\n",
    "        \n",
    "    return wrapper_do_twice\n",
    "\n",
    "@do_twice\n",
    "def say_whee():\n",
    "    print(\"Whee!\")"
   ]
  },
  {
   "cell_type": "code",
   "execution_count": 29,
   "id": "e3fc3c09-d9d7-4041-90cc-dff0d86dd785",
   "metadata": {},
   "outputs": [
    {
     "data": {
      "text/plain": [
       "<function __main__.say_whee()>"
      ]
     },
     "execution_count": 29,
     "metadata": {},
     "output_type": "execute_result"
    }
   ],
   "source": [
    "say_whee"
   ]
  },
  {
   "cell_type": "code",
   "execution_count": 30,
   "id": "6176cbf0-cebc-4d2c-8414-84a63162e270",
   "metadata": {},
   "outputs": [
    {
     "data": {
      "text/plain": [
       "'say_whee'"
      ]
     },
     "execution_count": 30,
     "metadata": {},
     "output_type": "execute_result"
    }
   ],
   "source": [
    "say_whee.__name__"
   ]
  },
  {
   "cell_type": "code",
   "execution_count": 31,
   "id": "bfd114ac-03ca-4477-916e-5358d77272b2",
   "metadata": {},
   "outputs": [
    {
     "name": "stdout",
     "output_type": "stream",
     "text": [
      "Help on function say_whee in module __main__:\n",
      "\n",
      "say_whee()\n",
      "\n"
     ]
    }
   ],
   "source": [
    "help(say_whee)"
   ]
  },
  {
   "cell_type": "markdown",
   "id": "eca17d56-02a5-4f60-9b06-ddde4e6bf5d4",
   "metadata": {},
   "source": [
    "**Technical Detail**: The @functools.wraps decorator uses the function functools.update_wrapper() to update special attributes like __name__ and __doc__ that are used in the introspection."
   ]
  },
  {
   "cell_type": "markdown",
   "id": "15217b74-7eed-4fcd-98ef-1201619da57a",
   "metadata": {},
   "source": [
    "## Decorator Template"
   ]
  },
  {
   "cell_type": "markdown",
   "id": "d449f623-805a-4703-abce-41b7e77318dd",
   "metadata": {},
   "source": [
    "The formula below is a good boilerplate template for building more complex decorators."
   ]
  },
  {
   "cell_type": "code",
   "execution_count": 32,
   "id": "4118700d-35d6-4415-be8e-14c89222d20d",
   "metadata": {},
   "outputs": [],
   "source": [
    "import functools\n",
    "\n",
    "def decorator(func):\n",
    "    @functools.wraps(func)\n",
    "    def wrapper_decorator(*args, **kwargs):\n",
    "        # Do something before\n",
    "        value = func(*args, **kwargs)\n",
    "        # Do something after\n",
    "        return value\n",
    "    return wrapper_decorator"
   ]
  },
  {
   "cell_type": "code",
   "execution_count": null,
   "id": "799d98cd-89dd-43bc-847c-0248bbeb1f55",
   "metadata": {},
   "outputs": [],
   "source": []
  }
 ],
 "metadata": {
  "kernelspec": {
   "display_name": "Python 3",
   "language": "python",
   "name": "python3"
  },
  "language_info": {
   "codemirror_mode": {
    "name": "ipython",
    "version": 3
   },
   "file_extension": ".py",
   "mimetype": "text/x-python",
   "name": "python",
   "nbconvert_exporter": "python",
   "pygments_lexer": "ipython3",
   "version": "3.8.5"
  }
 },
 "nbformat": 4,
 "nbformat_minor": 5
}
