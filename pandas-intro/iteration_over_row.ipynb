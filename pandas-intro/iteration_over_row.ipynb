{
 "cells": [
  {
   "cell_type": "markdown",
   "metadata": {},
   "source": [
    "## Different ways to iterate over rows in Pandas Dataframe"
   ]
  },
  {
   "cell_type": "markdown",
   "metadata": {},
   "source": [
    "https://www.geeksforgeeks.org/different-ways-to-iterate-over-rows-in-pandas-dataframe/"
   ]
  },
  {
   "cell_type": "markdown",
   "metadata": {},
   "source": [
    "#### Discussion on StackOverflow about performance of iterating rows of dataframe\n",
    "\n",
    "https://stackoverflow.com/questions/16476924/how-to-iterate-over-rows-in-a-dataframe-in-pandas\n",
    "\n",
    "https://stackoverflow.com/questions/16476924/how-to-iterate-over-rows-in-a-dataframe-in-pandas"
   ]
  },
  {
   "cell_type": "code",
   "execution_count": 5,
   "metadata": {},
   "outputs": [
    {
     "name": "stdout",
     "output_type": "stream",
     "text": [
      "Given Dataframe :\n",
      "         Name  Age    Stream  Percentage\n",
      "0      Ankit   21      Math          88\n",
      "1       Amit   19  Commerce          92\n",
      "2  Aishwarya   20      Arts          95\n",
      "3   Priyanka   18   Biology          70\n"
     ]
    }
   ],
   "source": [
    "import pandas as pd\n",
    "\n",
    "# Define a dictionary containing students data\n",
    "data = {\n",
    "    \"Name\": [\"Ankit\", \"Amit\", \"Aishwarya\", \"Priyanka\"],\n",
    "    \"Age\": [21, 19, 20, 18],\n",
    "    \"Stream\": [\"Math\", \"Commerce\", \"Arts\", \"Biology\"],\n",
    "    \"Percentage\": [88, 92, 95, 70]\n",
    "}\n",
    "\n",
    "# Convert the dictionary into DataFrame\n",
    "df = pd.DataFrame(data)\n",
    "\n",
    "print(\"Given Dataframe :\\n\", df)"
   ]
  },
  {
   "cell_type": "markdown",
   "metadata": {},
   "source": [
    "#### Method #1 : Using index attribute of the Dataframe"
   ]
  },
  {
   "cell_type": "code",
   "execution_count": 9,
   "metadata": {},
   "outputs": [
    {
     "name": "stdout",
     "output_type": "stream",
     "text": [
      "Help on AxisProperty:\n",
      "\n",
      "    The index (row labels) of the DataFrame.\n",
      "\n"
     ]
    }
   ],
   "source": [
    "help(pd.DataFrame.index)"
   ]
  },
  {
   "cell_type": "code",
   "execution_count": 15,
   "metadata": {},
   "outputs": [
    {
     "name": "stdout",
     "output_type": "stream",
     "text": [
      "<class 'pandas.core.indexes.range.RangeIndex'>\n",
      "RangeIndex(start=0, stop=4, step=1)\n",
      "0\n",
      "1\n",
      "2\n",
      "3\n"
     ]
    }
   ],
   "source": [
    "print(type(df.index))\n",
    "print(df.index)\n",
    "for i in df.index:\n",
    "    print(i)"
   ]
  },
  {
   "cell_type": "code",
   "execution_count": 7,
   "metadata": {},
   "outputs": [
    {
     "name": "stdout",
     "output_type": "stream",
     "text": [
      "Iterating over rows using index attributte :\n",
      "\n",
      "Ankit Math\n",
      "Amit Commerce\n",
      "Aishwarya Arts\n",
      "Priyanka Biology\n"
     ]
    }
   ],
   "source": [
    "print(\"Iterating over rows using index attributte :\\n\")\n",
    "\n",
    "for index in df.index:\n",
    "    print(df[\"Name\"][index], df[\"Stream\"][index])"
   ]
  },
  {
   "cell_type": "markdown",
   "metadata": {},
   "source": [
    "#### Method #2 : Using loc[] function of the Dataframe"
   ]
  },
  {
   "cell_type": "code",
   "execution_count": null,
   "metadata": {},
   "outputs": [],
   "source": [
    "# Refer to help doc for more detailed examples.\n",
    "# It also supports multi-indxing with tuple structure.\n",
    "help(pd.DataFrame.loc)"
   ]
  },
  {
   "cell_type": "code",
   "execution_count": 21,
   "metadata": {},
   "outputs": [
    {
     "name": "stdout",
     "output_type": "stream",
     "text": [
      "Ankit 21\n",
      "Amit 19\n",
      "Aishwarya 20\n",
      "Priyanka 18\n"
     ]
    }
   ],
   "source": [
    "# Single label for row and column\n",
    "for index in range(len(df)):\n",
    "    print(df.loc[index, \"Name\"], df.loc[index, \"Age\"])"
   ]
  },
  {
   "cell_type": "code",
   "execution_count": 22,
   "metadata": {},
   "outputs": [
    {
     "name": "stdout",
     "output_type": "stream",
     "text": [
      "Name              Amit\n",
      "Age                 19\n",
      "Stream        Commerce\n",
      "Percentage          92\n",
      "Name: 1, dtype: object\n"
     ]
    }
   ],
   "source": [
    "# Single label. Note this returns the row as a Series.\n",
    "print(df.loc[1])"
   ]
  },
  {
   "cell_type": "code",
   "execution_count": 24,
   "metadata": {},
   "outputs": [
    {
     "name": "stdout",
     "output_type": "stream",
     "text": [
      "        Name  Age    Stream  Percentage\n",
      "1       Amit   19  Commerce          92\n",
      "2  Aishwarya   20      Arts          95\n"
     ]
    }
   ],
   "source": [
    "# List of labels. Note using ``[[]]`` returns a DataFrame\n",
    "partial_df = df.loc[[1, 2]]\n",
    "print(partial_df)"
   ]
  },
  {
   "cell_type": "code",
   "execution_count": 30,
   "metadata": {},
   "outputs": [
    {
     "name": "stdout",
     "output_type": "stream",
     "text": [
      "        Name  Age    Stream\n",
      "1       Amit   19  Commerce\n",
      "2  Aishwarya   20      Arts\n",
      "3   Priyanka   18   Biology\n"
     ]
    }
   ],
   "source": [
    "# Slice with labels for row and single label for column. As mentioned\n",
    "#  above, note that both the start and stop of the slice are included.\n",
    "\n",
    "print(df.loc[1:3, \"Name\":\"Stream\"])"
   ]
  },
  {
   "cell_type": "code",
   "execution_count": 32,
   "metadata": {},
   "outputs": [
    {
     "name": "stdout",
     "output_type": "stream",
     "text": [
      "       Name  Age   Stream  Percentage\n",
      "3  Priyanka   18  Biology          70\n"
     ]
    }
   ],
   "source": [
    "# Boolean list with the same length as the row axis\n",
    "print(df.loc[[False, False, False, True]])"
   ]
  },
  {
   "cell_type": "code",
   "execution_count": 33,
   "metadata": {},
   "outputs": [
    {
     "name": "stdout",
     "output_type": "stream",
     "text": [
      "        Name  Age    Stream  Percentage\n",
      "0      Ankit   21      Math          88\n",
      "1       Amit   19  Commerce          92\n",
      "2  Aishwarya   20      Arts          95\n"
     ]
    }
   ],
   "source": [
    "# Conditional that returns a boolean Series\n",
    "print(df.loc[df.Age > 18])"
   ]
  },
  {
   "cell_type": "code",
   "execution_count": 35,
   "metadata": {},
   "outputs": [
    {
     "name": "stdout",
     "output_type": "stream",
     "text": [
      "0        Ankit\n",
      "1         Amit\n",
      "2    Aishwarya\n",
      "Name: Name, dtype: object\n"
     ]
    }
   ],
   "source": [
    "# Conditional that returns a boolean Series with column labels specified\n",
    "print(df.loc[df.Age > 18, \"Name\"])"
   ]
  },
  {
   "cell_type": "markdown",
   "metadata": {},
   "source": [
    "#### Method #3 : Using iloc[] function of the Dataframe"
   ]
  },
  {
   "cell_type": "code",
   "execution_count": null,
   "metadata": {},
   "outputs": [],
   "source": [
    "# Refer to help doc for more detailed examples.\n",
    "help(pd.DataFrame.iloc)"
   ]
  },
  {
   "cell_type": "code",
   "execution_count": 40,
   "metadata": {},
   "outputs": [
    {
     "name": "stdout",
     "output_type": "stream",
     "text": [
      "Ankit 21 Math 88 \n",
      "Amit 19 Commerce 92 \n",
      "Aishwarya 20 Arts 95 \n",
      "Priyanka 18 Biology 70 \n"
     ]
    }
   ],
   "source": [
    "for row_index in range(len(df)):\n",
    "    row_string = \"\"\n",
    "    for colunm_index in range(len(df.index)):\n",
    "        row_string += str(df.iloc[row_index, colunm_index]) + \" \"\n",
    "    print(row_string)"
   ]
  },
  {
   "cell_type": "markdown",
   "metadata": {},
   "source": [
    "#### Method #4 : Using iterrows() method of the Dataframe"
   ]
  },
  {
   "cell_type": "code",
   "execution_count": null,
   "metadata": {},
   "outputs": [],
   "source": [
    "# Refer to help doc for more detailed examples.\n",
    "\n",
    "# iterrows(self) -> 'Iterable[Tuple[Label, Series]]'\n",
    "    # Iterate over DataFrame rows as (index, Series) pairs.\n",
    "help(pd.DataFrame.iterrows)"
   ]
  },
  {
   "cell_type": "code",
   "execution_count": 49,
   "metadata": {},
   "outputs": [
    {
     "name": "stdout",
     "output_type": "stream",
     "text": [
      "Ankit 21\n",
      "Amit 19\n",
      "Aishwarya 20\n",
      "Priyanka 18\n"
     ]
    }
   ],
   "source": [
    "for index, row in df.iterrows():\n",
    "    print(row[\"Name\"], row[\"Age\"])"
   ]
  },
  {
   "cell_type": "markdown",
   "metadata": {},
   "source": [
    "#### Method #5 : Using itertuples() method of the Dataframe"
   ]
  },
  {
   "cell_type": "code",
   "execution_count": null,
   "metadata": {},
   "outputs": [],
   "source": [
    "# Refer to help doc for more detailed examples.\n",
    "\n",
    "# itertuples(self, index: 'bool' = True, name: 'Optional[str]' = 'Pandas')\n",
    "#     Iterate over DataFrame rows as namedtuples.\n",
    "\n",
    "# Parameters\n",
    "#     ----------\n",
    "#     index : bool, default True\n",
    "#         If True, return the index as the first element of the tuple.\n",
    "#     name : str or None, default \"Pandas\"\n",
    "#         The name of the returned namedtuples or None to return regular\n",
    "#         tuples.\n",
    "    \n",
    "#     Returns\n",
    "#     -------\n",
    "#     iterator\n",
    "#         An object to iterate over namedtuples for each row in the\n",
    "#         DataFrame with the first field possibly being the index and\n",
    "#         following fields being the column values.\n",
    "help(pd.DataFrame.itertuples)"
   ]
  },
  {
   "cell_type": "code",
   "execution_count": 53,
   "metadata": {},
   "outputs": [
    {
     "name": "stdout",
     "output_type": "stream",
     "text": [
      "Ankit 21\n",
      "Amit 19\n",
      "Aishwarya 20\n",
      "Priyanka 18\n"
     ]
    }
   ],
   "source": [
    "for student in df.itertuples(index=False, name=\"Student\"):\n",
    "    print(student.Name, student.Age)"
   ]
  },
  {
   "cell_type": "markdown",
   "metadata": {},
   "source": [
    "#### Method #6 : Using apply() method of the Dataframe"
   ]
  },
  {
   "cell_type": "code",
   "execution_count": null,
   "metadata": {},
   "outputs": [],
   "source": [
    "# Refer to help doc for more detailed examples.\n",
    "\n",
    "help(pd.DataFrame.apply)"
   ]
  },
  {
   "cell_type": "code",
   "execution_count": 58,
   "metadata": {},
   "outputs": [
    {
     "name": "stdout",
     "output_type": "stream",
     "text": [
      "Name              Amit\n",
      "Age                 19\n",
      "Stream        Commerce\n",
      "Percentage          92\n",
      "dtype: object\n"
     ]
    }
   ],
   "source": [
    "# Apply the function against the row axis=0\n",
    "print(df.apply(lambda row: row[1], axis=0))"
   ]
  },
  {
   "cell_type": "code",
   "execution_count": 60,
   "metadata": {},
   "outputs": [
    {
     "name": "stdout",
     "output_type": "stream",
     "text": [
      "0        Ankit 88\n",
      "1         Amit 92\n",
      "2    Aishwarya 95\n",
      "3     Priyanka 70\n",
      "dtype: object\n"
     ]
    }
   ],
   "source": [
    "# Apply the function against the colunm axis=1\n",
    "print(df.apply(lambda row: row[\"Name\"] + \" \" + str(row[\"Percentage\"]), axis=1))"
   ]
  },
  {
   "cell_type": "code",
   "execution_count": null,
   "metadata": {},
   "outputs": [],
   "source": []
  }
 ],
 "metadata": {
  "kernelspec": {
   "display_name": "Python 3",
   "language": "python",
   "name": "python3"
  },
  "language_info": {
   "codemirror_mode": {
    "name": "ipython",
    "version": 3
   },
   "file_extension": ".py",
   "mimetype": "text/x-python",
   "name": "python",
   "nbconvert_exporter": "python",
   "pygments_lexer": "ipython3",
   "version": "3.8.5"
  },
  "pycharm": {
   "stem_cell": {
    "cell_type": "raw",
    "metadata": {
     "collapsed": false
    },
    "source": [
     "\n",
     "# Method 1: Using index attribute of the Dataframe\n",
     "print(\"hello world\")\n",
     "\n"
    ]
   }
  }
 },
 "nbformat": 4,
 "nbformat_minor": 4
}
