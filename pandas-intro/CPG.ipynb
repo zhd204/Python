{
 "cells": [
  {
   "cell_type": "code",
   "execution_count": 1,
   "id": "002576c9-ff77-4437-bf31-5403252ab509",
   "metadata": {},
   "outputs": [],
   "source": [
    "import pandas as pd"
   ]
  },
  {
   "cell_type": "code",
   "execution_count": 2,
   "id": "29fdfd80-be10-4591-b3eb-d363442e7ec7",
   "metadata": {},
   "outputs": [],
   "source": [
    "df = pd.read_csv(\"cpg_consumption_vs_production.csv\")"
   ]
  },
  {
   "cell_type": "code",
   "execution_count": 3,
   "id": "abb59d68-431c-4a4b-baa7-9635f03b31c6",
   "metadata": {},
   "outputs": [],
   "source": [
    "description_data = df[\"DESCRIPTION\"]"
   ]
  },
  {
   "cell_type": "code",
   "execution_count": 4,
   "id": "ef0ae1f0-b823-42ed-b279-b04f2d158a4d",
   "metadata": {},
   "outputs": [],
   "source": [
    "material_list = description_data.unique()"
   ]
  },
  {
   "cell_type": "code",
   "execution_count": 5,
   "id": "7837fbc9-68ac-4313-bea6-042b94ca44d3",
   "metadata": {},
   "outputs": [
    {
     "data": {
      "text/plain": [
       "array(['Egg Powder', 'Oat Meal Cookies', 'Salt', 'Oat Meal Case',\n",
       "       'Baking Soda', 'Sugar', 'Sugar Brown', 'Water', 'Vanilla',\n",
       "       'Oat Flour', 'Case A', 'Oat Meal Wrap', 'Tray A', 'Cookie Pallet',\n",
       "       'CIP', 'Chocolate Cookies', 'Chocolate Case', 'Wrap A', 'Pallet A',\n",
       "       'Ginger Cookies', 'Ginger Case', 'Sanitizer A', 'Chemical A',\n",
       "       'Chocolate Wrap', 'Flour', 'Chocolate', 'Butter', 'Butter Cookies',\n",
       "       'Butter Case', 'Scrap', 'Ginger', 'Ginger Wrap', 'Butter Wrap'],\n",
       "      dtype=object)"
      ]
     },
     "execution_count": 5,
     "metadata": {},
     "output_type": "execute_result"
    }
   ],
   "source": [
    "material_list"
   ]
  },
  {
   "cell_type": "code",
   "execution_count": 6,
   "id": "104ace57-b301-433b-b285-898ff5ea8909",
   "metadata": {},
   "outputs": [
    {
     "data": {
      "text/plain": [
       "33"
      ]
     },
     "execution_count": 6,
     "metadata": {},
     "output_type": "execute_result"
    }
   ],
   "source": [
    "len(material_list)"
   ]
  },
  {
   "cell_type": "code",
   "execution_count": 7,
   "id": "d59b9ade-764e-4373-b6ce-a170da066a48",
   "metadata": {},
   "outputs": [],
   "source": [
    "description_consumption_data = df[\"DESCRIPTION\"][df[\"TYPE\"] == \"Consumption\"]\n",
    "description_production_data = df[\"DESCRIPTION\"][df[\"TYPE\"] == \"Productions\"]"
   ]
  },
  {
   "cell_type": "code",
   "execution_count": 8,
   "id": "0d6c275e-f21f-4af4-91e7-b7384fe2eb30",
   "metadata": {},
   "outputs": [
    {
     "name": "stdout",
     "output_type": "stream",
     "text": [
      "Consumption Materials:\n",
      "['Egg Powder' 'Salt' 'Baking Soda' 'Sugar' 'Sugar Brown' 'Water' 'Vanilla'\n",
      " 'Oat Flour' 'Case A' 'Oat Meal Wrap' 'Oat Meal Cookies' 'Tray A' 'Wrap A'\n",
      " 'Chocolate Case' 'Pallet A' 'Sanitizer A' 'Chemical A'\n",
      " 'Chocolate Cookies' 'Chocolate Wrap' 'Flour' 'Chocolate' 'Butter'\n",
      " 'Oat Meal Case' 'Ginger' 'Ginger Wrap' 'Ginger Cookies' 'Ginger Case'\n",
      " 'Butter Case' 'Butter Cookies' 'Butter Wrap']\n",
      "\n",
      "Production:\n",
      "['Oat Meal Cookies' 'Oat Meal Case' 'Cookie Pallet' 'CIP'\n",
      " 'Chocolate Cookies' 'Chocolate Case' 'Ginger Cookies' 'Ginger Case'\n",
      " 'Butter Cookies' 'Butter Case' 'Scrap']\n"
     ]
    }
   ],
   "source": [
    "consumption_material_list = description_consumption_data.unique()\n",
    "production_list = description_production_data.unique()\n",
    "print(f\"Consumption Materials:\\n{consumption_material_list}\")\n",
    "print(f\"\\nProduction:\\n{production_list}\")"
   ]
  },
  {
   "cell_type": "code",
   "execution_count": 9,
   "id": "5c793627-1f88-44e4-a1f3-216e8839c88c",
   "metadata": {},
   "outputs": [
    {
     "data": {
      "text/plain": [
       "(30, 11)"
      ]
     },
     "execution_count": 9,
     "metadata": {},
     "output_type": "execute_result"
    }
   ],
   "source": [
    "len(consumption_material_list), len(production_list)"
   ]
  },
  {
   "cell_type": "code",
   "execution_count": 10,
   "id": "7568fd55-3005-4bbe-b9ac-0c5fe93d5aca",
   "metadata": {},
   "outputs": [],
   "source": [
    "pd.DataFrame(material_list).to_csv(\"material_list.csv\")\n",
    "pd.DataFrame(consumption_material_list).to_csv(\"consumption_material_list.csv\")\n",
    "pd.DataFrame(production_list).to_csv(\"production_list.csv\")"
   ]
  },
  {
   "cell_type": "code",
   "execution_count": 11,
   "id": "11808b0b-b97a-4e2a-b7a1-6f95ba4bd173",
   "metadata": {},
   "outputs": [
    {
     "name": "stdout",
     "output_type": "stream",
     "text": [
      "0       O-Cookie-0001\n",
      "1       O-Cookie-0001\n",
      "2       O-Cookie-0001\n",
      "3       O-Cookie-0001\n",
      "4       O-Cookie-0001\n",
      "            ...      \n",
      "8221    G-Cookie-0007\n",
      "8222    G-Cookie-0007\n",
      "8223    G-Cookie-0007\n",
      "8224    G-Cookie-0007\n",
      "8225    G-Cookie-0007\n",
      "Name: PO, Length: 8226, dtype: object\n"
     ]
    }
   ],
   "source": [
    "po_data = df[\"PO\"]\n",
    "print(po_data)"
   ]
  },
  {
   "cell_type": "code",
   "execution_count": 12,
   "id": "555f6bbb-b5f7-4197-b411-db8cec38a16a",
   "metadata": {},
   "outputs": [],
   "source": [
    "unique_po_list = po_data.unique()"
   ]
  },
  {
   "cell_type": "code",
   "execution_count": 13,
   "id": "e622483e-de20-49c6-a7f0-af4dedd733b5",
   "metadata": {},
   "outputs": [
    {
     "data": {
      "text/plain": [
       "array(['O-Cookie-0001', 'Pack-0002', 'CIP-0001', 'C-Cookie-0001',\n",
       "       'Pack-0001', 'CIP-0002', 'G-Cookie-0001', 'Pack-0003', 'CIP-0003',\n",
       "       'C-Cookie-0002', 'CIP-0004', 'Pack-0004', 'Pack-0005',\n",
       "       'O-Cookie-0002', 'CIP-0005', 'Pack-0006', 'G-Cookie-0002',\n",
       "       'CIP-0006', 'Pack-0007', 'C-Cookie-0003', 'CIP-0007', 'Pack-0008',\n",
       "       'B-Cookie-0001', 'Pack-0009', 'CIP-0008', 'G-Cookie-0003',\n",
       "       'CIP-0009', 'Pack-0010', 'C-Cookie-0004', 'CIP-0010', 'Pack-0011',\n",
       "       'G-Cookie-0004', 'CIP-0011', 'Pack-0012', 'O-Cookie-0003',\n",
       "       'CIP-0012', 'Pack-0013', 'C-Cookie-0005', 'CIP-0013', 'Pack-0014',\n",
       "       'O-Cookie-0004', 'CIP-0014', 'Pack-0015', 'G-Cookie-0005',\n",
       "       'CIP-0015', 'Pack-0016', 'C-Cookie-0006', 'CIP-0016', 'Pack-0017',\n",
       "       'G-Cookie-0006', 'CIP-0017', 'Pack-0018', 'B-Cookie-0002',\n",
       "       'CIP-0018', 'G-Cookie-0007', 'Pack-0019'], dtype=object)"
      ]
     },
     "execution_count": 13,
     "metadata": {},
     "output_type": "execute_result"
    }
   ],
   "source": [
    "unique_po_list"
   ]
  },
  {
   "cell_type": "code",
   "execution_count": 14,
   "id": "d9bb5a94-4a4b-4e2a-826f-bc6f1aa422a4",
   "metadata": {},
   "outputs": [
    {
     "data": {
      "text/plain": [
       "56"
      ]
     },
     "execution_count": 14,
     "metadata": {},
     "output_type": "execute_result"
    }
   ],
   "source": [
    "len(unique_po_list)"
   ]
  },
  {
   "cell_type": "code",
   "execution_count": 15,
   "id": "4db4b8ce-ba2e-4d66-b67e-9b6f480ce8cd",
   "metadata": {},
   "outputs": [],
   "source": [
    "qty = df[df[\"TYPE\"] == \"Productions\"]"
   ]
  },
  {
   "cell_type": "code",
   "execution_count": 16,
   "id": "2cfe4400-34c3-4159-8bae-9797b328fc09",
   "metadata": {},
   "outputs": [
    {
     "data": {
      "text/html": [
       "<div>\n",
       "<style scoped>\n",
       "    .dataframe tbody tr th:only-of-type {\n",
       "        vertical-align: middle;\n",
       "    }\n",
       "\n",
       "    .dataframe tbody tr th {\n",
       "        vertical-align: top;\n",
       "    }\n",
       "\n",
       "    .dataframe thead th {\n",
       "        text-align: right;\n",
       "    }\n",
       "</style>\n",
       "<table border=\"1\" class=\"dataframe\">\n",
       "  <thead>\n",
       "    <tr style=\"text-align: right;\">\n",
       "      <th></th>\n",
       "      <th>RowNum</th>\n",
       "      <th>TYPE</th>\n",
       "      <th>PO</th>\n",
       "      <th>POI</th>\n",
       "      <th>SEQ</th>\n",
       "      <th>STEP</th>\n",
       "      <th>PART</th>\n",
       "      <th>DESCRIPTION</th>\n",
       "      <th>QTY</th>\n",
       "      <th>QTY_UOM</th>\n",
       "      <th>LAST_MODIFIED</th>\n",
       "    </tr>\n",
       "  </thead>\n",
       "  <tbody>\n",
       "    <tr>\n",
       "      <th>1</th>\n",
       "      <td>1</td>\n",
       "      <td>Productions</td>\n",
       "      <td>O-Cookie-0001</td>\n",
       "      <td>O-Cookie-0001</td>\n",
       "      <td>2</td>\n",
       "      <td>040 - Cooling</td>\n",
       "      <td>3000002</td>\n",
       "      <td>Oat Meal Cookies</td>\n",
       "      <td>288.0</td>\n",
       "      <td>ea</td>\n",
       "      <td>2019-04-08 02:21:43.137</td>\n",
       "    </tr>\n",
       "    <tr>\n",
       "      <th>3</th>\n",
       "      <td>2</td>\n",
       "      <td>Productions</td>\n",
       "      <td>O-Cookie-0001</td>\n",
       "      <td>O-Cookie-0001</td>\n",
       "      <td>2</td>\n",
       "      <td>070 - CasePacking</td>\n",
       "      <td>1</td>\n",
       "      <td>Oat Meal Case</td>\n",
       "      <td>1.0</td>\n",
       "      <td>ea</td>\n",
       "      <td>2019-04-08 02:24:56.477</td>\n",
       "    </tr>\n",
       "    <tr>\n",
       "      <th>5</th>\n",
       "      <td>3</td>\n",
       "      <td>Productions</td>\n",
       "      <td>O-Cookie-0001</td>\n",
       "      <td>O-Cookie-0001</td>\n",
       "      <td>6</td>\n",
       "      <td>040 - Cooling</td>\n",
       "      <td>3000002</td>\n",
       "      <td>Oat Meal Cookies</td>\n",
       "      <td>288.0</td>\n",
       "      <td>ea</td>\n",
       "      <td>2019-04-08 02:26:24.270</td>\n",
       "    </tr>\n",
       "    <tr>\n",
       "      <th>7</th>\n",
       "      <td>4</td>\n",
       "      <td>Productions</td>\n",
       "      <td>O-Cookie-0001</td>\n",
       "      <td>O-Cookie-0001</td>\n",
       "      <td>6</td>\n",
       "      <td>070 - CasePacking</td>\n",
       "      <td>1</td>\n",
       "      <td>Oat Meal Case</td>\n",
       "      <td>1.0</td>\n",
       "      <td>ea</td>\n",
       "      <td>2019-04-08 02:29:41.647</td>\n",
       "    </tr>\n",
       "    <tr>\n",
       "      <th>9</th>\n",
       "      <td>5</td>\n",
       "      <td>Productions</td>\n",
       "      <td>O-Cookie-0001</td>\n",
       "      <td>O-Cookie-0001</td>\n",
       "      <td>10</td>\n",
       "      <td>040 - Cooling</td>\n",
       "      <td>3000002</td>\n",
       "      <td>Oat Meal Cookies</td>\n",
       "      <td>288.0</td>\n",
       "      <td>ea</td>\n",
       "      <td>2019-04-08 02:31:09.527</td>\n",
       "    </tr>\n",
       "  </tbody>\n",
       "</table>\n",
       "</div>"
      ],
      "text/plain": [
       "   RowNum         TYPE             PO            POI  SEQ               STEP  \\\n",
       "1       1  Productions  O-Cookie-0001  O-Cookie-0001    2      040 - Cooling   \n",
       "3       2  Productions  O-Cookie-0001  O-Cookie-0001    2  070 - CasePacking   \n",
       "5       3  Productions  O-Cookie-0001  O-Cookie-0001    6      040 - Cooling   \n",
       "7       4  Productions  O-Cookie-0001  O-Cookie-0001    6  070 - CasePacking   \n",
       "9       5  Productions  O-Cookie-0001  O-Cookie-0001   10      040 - Cooling   \n",
       "\n",
       "      PART       DESCRIPTION    QTY QTY_UOM            LAST_MODIFIED  \n",
       "1  3000002  Oat Meal Cookies  288.0      ea  2019-04-08 02:21:43.137  \n",
       "3        1     Oat Meal Case    1.0      ea  2019-04-08 02:24:56.477  \n",
       "5  3000002  Oat Meal Cookies  288.0      ea  2019-04-08 02:26:24.270  \n",
       "7        1     Oat Meal Case    1.0      ea  2019-04-08 02:29:41.647  \n",
       "9  3000002  Oat Meal Cookies  288.0      ea  2019-04-08 02:31:09.527  "
      ]
     },
     "execution_count": 16,
     "metadata": {},
     "output_type": "execute_result"
    }
   ],
   "source": [
    "qty.head(5)"
   ]
  },
  {
   "cell_type": "code",
   "execution_count": 17,
   "id": "161c256d-7cbd-4174-81c0-b4a378da5042",
   "metadata": {},
   "outputs": [],
   "source": [
    "# Select colunm PO, DESCRIPTION, QTY.\n",
    "qty = df[df[\"TYPE\"] == \"Productions\"][[\"PO\", \"DESCRIPTION\", \"QTY\"]]"
   ]
  },
  {
   "cell_type": "code",
   "execution_count": 18,
   "id": "4f7fd597-d4ba-407e-94d2-17122d89220a",
   "metadata": {},
   "outputs": [
    {
     "data": {
      "text/html": [
       "<div>\n",
       "<style scoped>\n",
       "    .dataframe tbody tr th:only-of-type {\n",
       "        vertical-align: middle;\n",
       "    }\n",
       "\n",
       "    .dataframe tbody tr th {\n",
       "        vertical-align: top;\n",
       "    }\n",
       "\n",
       "    .dataframe thead th {\n",
       "        text-align: right;\n",
       "    }\n",
       "</style>\n",
       "<table border=\"1\" class=\"dataframe\">\n",
       "  <thead>\n",
       "    <tr style=\"text-align: right;\">\n",
       "      <th></th>\n",
       "      <th>PO</th>\n",
       "      <th>DESCRIPTION</th>\n",
       "      <th>QTY</th>\n",
       "    </tr>\n",
       "  </thead>\n",
       "  <tbody>\n",
       "    <tr>\n",
       "      <th>1</th>\n",
       "      <td>O-Cookie-0001</td>\n",
       "      <td>Oat Meal Cookies</td>\n",
       "      <td>288.0</td>\n",
       "    </tr>\n",
       "    <tr>\n",
       "      <th>3</th>\n",
       "      <td>O-Cookie-0001</td>\n",
       "      <td>Oat Meal Case</td>\n",
       "      <td>1.0</td>\n",
       "    </tr>\n",
       "    <tr>\n",
       "      <th>5</th>\n",
       "      <td>O-Cookie-0001</td>\n",
       "      <td>Oat Meal Cookies</td>\n",
       "      <td>288.0</td>\n",
       "    </tr>\n",
       "    <tr>\n",
       "      <th>7</th>\n",
       "      <td>O-Cookie-0001</td>\n",
       "      <td>Oat Meal Case</td>\n",
       "      <td>1.0</td>\n",
       "    </tr>\n",
       "    <tr>\n",
       "      <th>9</th>\n",
       "      <td>O-Cookie-0001</td>\n",
       "      <td>Oat Meal Cookies</td>\n",
       "      <td>288.0</td>\n",
       "    </tr>\n",
       "    <tr>\n",
       "      <th>...</th>\n",
       "      <td>...</td>\n",
       "      <td>...</td>\n",
       "      <td>...</td>\n",
       "    </tr>\n",
       "    <tr>\n",
       "      <th>2393</th>\n",
       "      <td>G-Cookie-0007</td>\n",
       "      <td>Ginger Cookies</td>\n",
       "      <td>288.0</td>\n",
       "    </tr>\n",
       "    <tr>\n",
       "      <th>2395</th>\n",
       "      <td>G-Cookie-0007</td>\n",
       "      <td>Ginger Case</td>\n",
       "      <td>1.0</td>\n",
       "    </tr>\n",
       "    <tr>\n",
       "      <th>2397</th>\n",
       "      <td>G-Cookie-0007</td>\n",
       "      <td>Ginger Cookies</td>\n",
       "      <td>288.0</td>\n",
       "    </tr>\n",
       "    <tr>\n",
       "      <th>2399</th>\n",
       "      <td>G-Cookie-0007</td>\n",
       "      <td>Ginger Case</td>\n",
       "      <td>1.0</td>\n",
       "    </tr>\n",
       "    <tr>\n",
       "      <th>2401</th>\n",
       "      <td>G-Cookie-0007</td>\n",
       "      <td>Ginger Cookies</td>\n",
       "      <td>288.0</td>\n",
       "    </tr>\n",
       "  </tbody>\n",
       "</table>\n",
       "<p>1201 rows × 3 columns</p>\n",
       "</div>"
      ],
      "text/plain": [
       "                 PO       DESCRIPTION    QTY\n",
       "1     O-Cookie-0001  Oat Meal Cookies  288.0\n",
       "3     O-Cookie-0001     Oat Meal Case    1.0\n",
       "5     O-Cookie-0001  Oat Meal Cookies  288.0\n",
       "7     O-Cookie-0001     Oat Meal Case    1.0\n",
       "9     O-Cookie-0001  Oat Meal Cookies  288.0\n",
       "...             ...               ...    ...\n",
       "2393  G-Cookie-0007    Ginger Cookies  288.0\n",
       "2395  G-Cookie-0007       Ginger Case    1.0\n",
       "2397  G-Cookie-0007    Ginger Cookies  288.0\n",
       "2399  G-Cookie-0007       Ginger Case    1.0\n",
       "2401  G-Cookie-0007    Ginger Cookies  288.0\n",
       "\n",
       "[1201 rows x 3 columns]"
      ]
     },
     "execution_count": 18,
     "metadata": {},
     "output_type": "execute_result"
    }
   ],
   "source": [
    "qty"
   ]
  },
  {
   "cell_type": "code",
   "execution_count": null,
   "id": "8e9f6095-8b1b-4349-9e42-5ced919cab56",
   "metadata": {},
   "outputs": [],
   "source": []
  }
 ],
 "metadata": {
  "kernelspec": {
   "display_name": "Python 3",
   "language": "python",
   "name": "python3"
  },
  "language_info": {
   "codemirror_mode": {
    "name": "ipython",
    "version": 3
   },
   "file_extension": ".py",
   "mimetype": "text/x-python",
   "name": "python",
   "nbconvert_exporter": "python",
   "pygments_lexer": "ipython3",
   "version": "3.8.5"
  }
 },
 "nbformat": 4,
 "nbformat_minor": 5
}
