{
 "cells": [
  {
   "cell_type": "markdown",
   "id": "6dfedf17-7a97-4db9-9c39-e4f64e39a17f",
   "metadata": {},
   "source": [
    "## Example - Switch Between Frames (Navigation)\n",
    "\n",
    "https://www.delftstack.com/howto/python-tkinter/how-to-use-a-timer-in-tkinter/"
   ]
  },
  {
   "cell_type": "code",
   "execution_count": 1,
   "id": "2db6db52-fb25-488c-992b-2b115a918337",
   "metadata": {},
   "outputs": [],
   "source": [
    "try:\n",
    "    import Tkinter as tk\n",
    "except:\n",
    "    import tkinter as tk\n",
    "    \n",
    "class SampleApp(tk.Tk):\n",
    "    def __init__(self):\n",
    "        tk.Tk.__init__(self)\n",
    "        self._frame = None\n",
    "        self.switch_frame(StartPage)\n",
    "\n",
    "    def switch_frame(self, frame_class):\n",
    "        new_frame = frame_class(self)\n",
    "        if self._frame is not None:\n",
    "            self._frame.destroy()\n",
    "        self._frame = new_frame\n",
    "        self._frame.pack()\n",
    "\n",
    "class StartPage(tk.Frame):\n",
    "    def __init__(self, master):\n",
    "        tk.Frame.__init__(self, master)\n",
    "        tk.Label(self, text=\"Start page\", font=('Helvetica', 18, \"bold\")).pack(side=\"top\", fill=\"x\", pady=5)\n",
    "        tk.Button(self, text=\"Go to page one\",\n",
    "                  command=lambda: master.switch_frame(PageOne)).pack()\n",
    "        tk.Button(self, text=\"Go to page two\",\n",
    "                  command=lambda: master.switch_frame(PageTwo)).pack()\n",
    "\n",
    "class PageOne(tk.Frame):\n",
    "    def __init__(self, master):\n",
    "        tk.Frame.__init__(self, master)\n",
    "        tk.Frame.configure(self,bg='blue')\n",
    "        tk.Label(self, text=\"Page one\", font=('Helvetica', 18, \"bold\")).pack(side=\"top\", fill=\"x\", pady=5)\n",
    "        tk.Button(self, text=\"Go back to start page\",\n",
    "                  command=lambda: master.switch_frame(StartPage)).pack()\n",
    "\n",
    "class PageTwo(tk.Frame):\n",
    "    def __init__(self, master):\n",
    "        tk.Frame.__init__(self, master)\n",
    "        tk.Frame.configure(self,bg='red')\n",
    "        tk.Label(self, text=\"Page two\", font=('Helvetica', 18, \"bold\")).pack(side=\"top\", fill=\"x\", pady=5)\n",
    "        tk.Button(self, text=\"Go back to start page\",\n",
    "                  command=lambda: master.switch_frame(StartPage)).pack()\n",
    "\n",
    "if __name__ == \"__main__\":\n",
    "    app = SampleApp()\n",
    "    app.mainloop()"
   ]
  },
  {
   "cell_type": "code",
   "execution_count": null,
   "id": "3a656ca6-22f7-43f0-9fa4-e22cdb8bbce2",
   "metadata": {},
   "outputs": [],
   "source": []
  },
  {
   "cell_type": "code",
   "execution_count": null,
   "id": "743ae780-5ef2-4fab-9ef4-90f09b234499",
   "metadata": {},
   "outputs": [],
   "source": []
  }
 ],
 "metadata": {
  "kernelspec": {
   "display_name": "Python 3 (ipykernel)",
   "language": "python",
   "name": "python3"
  },
  "language_info": {
   "codemirror_mode": {
    "name": "ipython",
    "version": 3
   },
   "file_extension": ".py",
   "mimetype": "text/x-python",
   "name": "python",
   "nbconvert_exporter": "python",
   "pygments_lexer": "ipython3",
   "version": "3.8.12"
  }
 },
 "nbformat": 4,
 "nbformat_minor": 5
}
