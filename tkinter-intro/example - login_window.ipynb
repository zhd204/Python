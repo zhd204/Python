{
 "cells": [
  {
   "cell_type": "code",
   "execution_count": 1,
   "id": "b4e00a45-b24a-48b3-a155-f9c662bd8921",
   "metadata": {
    "tags": []
   },
   "outputs": [],
   "source": [
    "import tkinter as tk\n",
    "from tkinter import ttk\n",
    "\n",
    "\n",
    "class App(tk.Tk):\n",
    "    def __init__(self):\n",
    "        super().__init__()\n",
    "\n",
    "        self.geometry('300x150')\n",
    "        self.resizable(0, 0)\n",
    "        self.title('Login')\n",
    "\n",
    "        # UI options\n",
    "        paddings = {'padx': 5, 'pady': 5}\n",
    "        entry_font = {'font': ('Helvetica', 11)}\n",
    "\n",
    "        # configure the grid\n",
    "        self.columnconfigure(0, weight=1)\n",
    "        self.columnconfigure(1, weight=3)\n",
    "\n",
    "        username = tk.StringVar()\n",
    "        password = tk.StringVar()\n",
    "\n",
    "        # heading\n",
    "        heading = ttk.Label(self, text='Member Login', style='Heading.TLabel')\n",
    "        heading.grid(column=0, row=0, columnspan=2, pady=5, sticky=tk.N)\n",
    "\n",
    "        # username\n",
    "        username_label = ttk.Label(self, text=\"Username:\")\n",
    "        username_label.grid(column=0, row=1, sticky=tk.W, **paddings)\n",
    "\n",
    "        username_entry = ttk.Entry(self, textvariable=username, **entry_font)\n",
    "        username_entry.grid(column=1, row=1, sticky=tk.E, **paddings)\n",
    "\n",
    "        # password\n",
    "        password_label = ttk.Label(self, text=\"Password:\")\n",
    "        password_label.grid(column=0, row=2, sticky=tk.W, **paddings)\n",
    "\n",
    "        password_entry = ttk.Entry(\n",
    "            self, textvariable=password, show=\"*\", **entry_font)\n",
    "        password_entry.grid(column=1, row=2, sticky=tk.E, **paddings)\n",
    "\n",
    "        # login button\n",
    "        login_button = ttk.Button(self, text=\"Login\")\n",
    "        login_button.grid(column=1, row=3, sticky=tk.E, **paddings)\n",
    "\n",
    "        # configure style\n",
    "        self.style = ttk.Style(self)\n",
    "        self.style.configure('TLabel', font=('Helvetica', 11))\n",
    "        self.style.configure('TButton', font=('Helvetica', 11))\n",
    "\n",
    "        # heading style\n",
    "        self.style.configure('Heading.TLabel', font=('Helvetica', 12))\n",
    "\n",
    "\n",
    "if __name__ == \"__main__\":\n",
    "    app = App()\n",
    "    app.mainloop()"
   ]
  },
  {
   "cell_type": "code",
   "execution_count": null,
   "id": "e1c9b866-3a0b-4e4a-b8bb-f432b0940952",
   "metadata": {},
   "outputs": [],
   "source": []
  }
 ],
 "metadata": {
  "kernelspec": {
   "display_name": "Python 3",
   "language": "python",
   "name": "python3"
  },
  "language_info": {
   "codemirror_mode": {
    "name": "ipython",
    "version": 3
   },
   "file_extension": ".py",
   "mimetype": "text/x-python",
   "name": "python",
   "nbconvert_exporter": "python",
   "pygments_lexer": "ipython3",
   "version": "3.8.5"
  }
 },
 "nbformat": 4,
 "nbformat_minor": 5
}
