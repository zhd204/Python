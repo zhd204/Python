{
 "cells": [
  {
   "cell_type": "markdown",
   "id": "d72c1e8a-8bc1-4aeb-adfd-45865dd1c97d",
   "metadata": {},
   "source": [
    "## Tkinter Menu Widget\n",
    "\n",
    "For the reference of complete command options and methods:\n",
    "https://www.studytonight.com/tkinter/python-tkinter-menu-widget"
   ]
  },
  {
   "cell_type": "markdown",
   "id": "3be1f6d2-38ce-4b5b-a587-9e1f013696f1",
   "metadata": {},
   "source": [
    "## Tkinter Menu Widget Example"
   ]
  },
  {
   "cell_type": "code",
   "execution_count": 1,
   "id": "90ea497f-4125-46ac-bf2f-7c5b482d4aab",
   "metadata": {},
   "outputs": [],
   "source": [
    "import tkinter as tk\n",
    "from tkinter import Menu\n",
    "\n",
    "# root window\n",
    "root = tk.Tk()\n",
    "root.title('Menu Demo')\n",
    "\n",
    "# create a menubar\n",
    "menubar = Menu(root)\n",
    "root.config(menu=menubar)\n",
    "\n",
    "# create a menu\n",
    "file_menu = Menu(menubar)\n",
    "\n",
    "# add a menu item to the menu\n",
    "file_menu.add_command(\n",
    "    label='Exit',\n",
    "    command=root.destroy\n",
    ")\n",
    "\n",
    "\n",
    "# add the File menu to the menubar\n",
    "menubar.add_cascade(\n",
    "    label=\"File\",\n",
    "    menu=file_menu\n",
    ")\n",
    "\n",
    "root.mainloop()"
   ]
  },
  {
   "cell_type": "code",
   "execution_count": 2,
   "id": "162e6a5a-8da8-4e05-bbac-405bb3c45f12",
   "metadata": {},
   "outputs": [
    {
     "ename": "NameError",
     "evalue": "name 'recent_files' is not defined",
     "output_type": "error",
     "traceback": [
      "\u001b[0;31m---------------------------------------------------------------------------\u001b[0m",
      "\u001b[0;31mNameError\u001b[0m                                 Traceback (most recent call last)",
      "\u001b[0;32m<ipython-input-2-d1197015e5cd>\u001b[0m in \u001b[0;36m<module>\u001b[0;34m\u001b[0m\n\u001b[1;32m     49\u001b[0m \u001b[0mmenu_recent\u001b[0m \u001b[0;34m=\u001b[0m \u001b[0mMenu\u001b[0m\u001b[0;34m(\u001b[0m\u001b[0mmenu_file\u001b[0m\u001b[0;34m)\u001b[0m\u001b[0;34m\u001b[0m\u001b[0;34m\u001b[0m\u001b[0m\n\u001b[1;32m     50\u001b[0m \u001b[0mmenu_file\u001b[0m\u001b[0;34m.\u001b[0m\u001b[0madd_cascade\u001b[0m\u001b[0;34m(\u001b[0m\u001b[0mmenu\u001b[0m\u001b[0;34m=\u001b[0m\u001b[0mmenu_recent\u001b[0m\u001b[0;34m,\u001b[0m \u001b[0mlabel\u001b[0m\u001b[0;34m=\u001b[0m\u001b[0;34m\"Open Recent\"\u001b[0m\u001b[0;34m)\u001b[0m\u001b[0;34m\u001b[0m\u001b[0;34m\u001b[0m\u001b[0m\n\u001b[0;32m---> 51\u001b[0;31m \u001b[0;32mfor\u001b[0m \u001b[0mi\u001b[0m \u001b[0;32min\u001b[0m \u001b[0mrecent_files\u001b[0m\u001b[0;34m:\u001b[0m\u001b[0;34m\u001b[0m\u001b[0;34m\u001b[0m\u001b[0m\n\u001b[0m\u001b[1;32m     52\u001b[0m     \u001b[0mmenu_recent\u001b[0m\u001b[0;34m.\u001b[0m\u001b[0madd_command\u001b[0m\u001b[0;34m(\u001b[0m\u001b[0mlabel\u001b[0m\u001b[0;34m=\u001b[0m\u001b[0mos\u001b[0m\u001b[0;34m.\u001b[0m\u001b[0mpath\u001b[0m\u001b[0;34m.\u001b[0m\u001b[0mbasename\u001b[0m\u001b[0;34m(\u001b[0m\u001b[0mf\u001b[0m\u001b[0;34m)\u001b[0m\u001b[0;34m,\u001b[0m \u001b[0mcommand\u001b[0m\u001b[0;34m=\u001b[0m\u001b[0;32mlambda\u001b[0m \u001b[0mf\u001b[0m\u001b[0;34m=\u001b[0m\u001b[0mf\u001b[0m\u001b[0;34m:\u001b[0m \u001b[0mopenFile\u001b[0m\u001b[0;34m(\u001b[0m\u001b[0mf\u001b[0m\u001b[0;34m)\u001b[0m\u001b[0;34m)\u001b[0m\u001b[0;34m\u001b[0m\u001b[0;34m\u001b[0m\u001b[0m\n\u001b[1;32m     53\u001b[0m \u001b[0;34m\u001b[0m\u001b[0m\n",
      "\u001b[0;31mNameError\u001b[0m: name 'recent_files' is not defined"
     ]
    }
   ],
   "source": [
    "# Example is from https://tkdocs.com/tutorial/menus.html\n",
    "import tkinter\n",
    "from tkinter import *\n",
    "from tkinter import Menu\n",
    "\n",
    "win = Tk()\n",
    "win.title(\"Simple Menu\")\n",
    "\n",
    "\n",
    "\n",
    "# Create a menubar for a window\n",
    "menubar = Menu(win)\n",
    "win['menu'] = menubar\n",
    "\n",
    "# Plan to have \"File\" and \"Edit\" menus.\n",
    "# Add two menu widgets, each one is a child of the menuber\n",
    "menu_file = Menu(menubar)\n",
    "menu_edit = Menu(menubar)\n",
    "# Add them to the menu bar\n",
    "menubar.add_cascade(menu=menu_file, label='File')\n",
    "menubar.add_cascade(menu=menu_edit, label='Edit')\n",
    "\n",
    "\n",
    "# Adding menu items\n",
    "# Regular menu items are called command items in Tk. \n",
    "# Notice that menu items are part of the menu itself; \n",
    "# we don't have to create a separate menu widget for each one (submenus being the exception).\n",
    "def newFile():\n",
    "    pass\n",
    "\n",
    "def openFile():\n",
    "    pass\n",
    "\n",
    "def closeFile():\n",
    "    pass\n",
    "\n",
    "menu_file.add_command(label='New', command=newFile)\n",
    "menu_file.add_command(label='Open...', command=openFile)\n",
    "menu_file.add_command(label='Close', command=closeFile)\n",
    "# Each menu item has associated with it several configuration options, analogous to widget configuration options. \n",
    "# Each type of menu item has a different set of available options. \n",
    "# Cascade menu items have a menu option used to specify the submenu, \n",
    "# command menu items have a command option to specify the command to invoke when the item is chosen. \n",
    "# Both have a label option to specify the text to display for the item.\n",
    "\n",
    "\n",
    "# Cascade menu item can be used to add sub-menu.\n",
    "# Adding a sub-menu for \"recent files\"\n",
    "menu_recent = Menu(menu_file)\n",
    "menu_file.add_cascade(menu=menu_recent, label=\"Open Recent\")\n",
    "for i in recent_files:\n",
    "    menu_recent.add_command(label=os.path.basename(f), command=lambda f=f: openFile(f))\n",
    "\n",
    "# Continue with Adding sub-menu\n",
    "win.mainloop()"
   ]
  },
  {
   "cell_type": "code",
   "execution_count": 4,
   "id": "e5c55f7f-33da-4554-a5ca-8ecc1cf07578",
   "metadata": {},
   "outputs": [
    {
     "ename": "FileNotFoundError",
     "evalue": "[Errno 2] No such file or directory: 'Documents/python/udemy_100_days_of_Code/Python/tkinter-intro'",
     "output_type": "error",
     "traceback": [
      "\u001b[0;31m---------------------------------------------------------------------------\u001b[0m",
      "\u001b[0;31mFileNotFoundError\u001b[0m                         Traceback (most recent call last)",
      "\u001b[0;32m<ipython-input-4-e5b3a55406e6>\u001b[0m in \u001b[0;36m<module>\u001b[0;34m\u001b[0m\n\u001b[1;32m      2\u001b[0m \u001b[0;32mfrom\u001b[0m \u001b[0mos\u001b[0m\u001b[0;34m.\u001b[0m\u001b[0mpath\u001b[0m \u001b[0;32mimport\u001b[0m \u001b[0misfile\u001b[0m\u001b[0;34m,\u001b[0m \u001b[0mjoin\u001b[0m\u001b[0;34m\u001b[0m\u001b[0;34m\u001b[0m\u001b[0m\n\u001b[1;32m      3\u001b[0m \u001b[0mmypath\u001b[0m \u001b[0;34m=\u001b[0m \u001b[0;34m\"Documents/python/udemy_100_days_of_Code/Python/tkinter-intro\"\u001b[0m\u001b[0;34m\u001b[0m\u001b[0;34m\u001b[0m\u001b[0m\n\u001b[0;32m----> 4\u001b[0;31m \u001b[0monlyfiles\u001b[0m \u001b[0;34m=\u001b[0m \u001b[0;34m[\u001b[0m\u001b[0mf\u001b[0m \u001b[0;32mfor\u001b[0m \u001b[0mf\u001b[0m \u001b[0;32min\u001b[0m \u001b[0mlistdir\u001b[0m\u001b[0;34m(\u001b[0m\u001b[0mmypath\u001b[0m\u001b[0;34m)\u001b[0m \u001b[0;32mif\u001b[0m \u001b[0misfile\u001b[0m\u001b[0;34m(\u001b[0m\u001b[0mjoin\u001b[0m\u001b[0;34m(\u001b[0m\u001b[0mmypath\u001b[0m\u001b[0;34m,\u001b[0m \u001b[0mf\u001b[0m\u001b[0;34m)\u001b[0m\u001b[0;34m)\u001b[0m\u001b[0;34m]\u001b[0m\u001b[0;34m\u001b[0m\u001b[0;34m\u001b[0m\u001b[0m\n\u001b[0m",
      "\u001b[0;31mFileNotFoundError\u001b[0m: [Errno 2] No such file or directory: 'Documents/python/udemy_100_days_of_Code/Python/tkinter-intro'"
     ]
    }
   ],
   "source": [
    "from os import listdir\n",
    "from os.path import isfile, join\n",
    "mypath = \"Documents/python/udemy_100_days_of_Code/Python/tkinter-intro\"\n",
    "onlyfiles = [f for f in listdir(mypath) if isfile(join(mypath, f))]"
   ]
  },
  {
   "cell_type": "code",
   "execution_count": null,
   "id": "b39bd0b6-58d6-476f-a862-3ca22270f640",
   "metadata": {},
   "outputs": [],
   "source": []
  }
 ],
 "metadata": {
  "kernelspec": {
   "display_name": "Python 3",
   "language": "python",
   "name": "python3"
  },
  "language_info": {
   "codemirror_mode": {
    "name": "ipython",
    "version": 3
   },
   "file_extension": ".py",
   "mimetype": "text/x-python",
   "name": "python",
   "nbconvert_exporter": "python",
   "pygments_lexer": "ipython3",
   "version": "3.8.5"
  }
 },
 "nbformat": 4,
 "nbformat_minor": 5
}
