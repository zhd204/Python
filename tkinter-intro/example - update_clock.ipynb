{
 "cells": [
  {
   "cell_type": "markdown",
   "id": "c08bbdc3-b09b-4cc7-a3ae-af4b20ed726d",
   "metadata": {},
   "source": [
    "## Example - Update Clock\n",
    "\n",
    "https://www.delftstack.com/howto/python-tkinter/how-to-use-a-timer-in-tkinter/"
   ]
  },
  {
   "cell_type": "code",
   "execution_count": 1,
   "id": "ae5d3b60-e77c-4115-8795-52528a8824bb",
   "metadata": {},
   "outputs": [],
   "source": [
    "\n",
    "import tkinter as tk\n",
    "    \n",
    "import time\n",
    "\n",
    "class Clock():\n",
    "    def __init__(self):\n",
    "        self.root = tk.Tk()\n",
    "        self.label = tk.Label(text=\"\", font=('Helvetica', 48), fg='red')\n",
    "        self.label.pack()\n",
    "        self.update_clock()\n",
    "        self.root.mainloop()\n",
    "\n",
    "    def update_clock(self):\n",
    "        now = time.strftime(\"%H:%M:%S\")\n",
    "        self.label.configure(text=now)\n",
    "        self.root.after(1000, self.update_clock)\n",
    "\n",
    "app=Clock()"
   ]
  },
  {
   "cell_type": "markdown",
   "id": "3bb11e68-0704-4553-9c89-280d3225b85d",
   "metadata": {},
   "source": [
    "self.root.after(1000, self.update_clock) calls the function itself after 1000 ms, therefore, update_clock() function is executed at the interval of 1000 ms and displays the current time in the Tkinter label."
   ]
  },
  {
   "cell_type": "code",
   "execution_count": null,
   "id": "5a6eb93d-1b16-4d94-8d4f-f87fb2044a0c",
   "metadata": {},
   "outputs": [],
   "source": []
  }
 ],
 "metadata": {
  "kernelspec": {
   "display_name": "Python 3 (ipykernel)",
   "language": "python",
   "name": "python3"
  },
  "language_info": {
   "codemirror_mode": {
    "name": "ipython",
    "version": 3
   },
   "file_extension": ".py",
   "mimetype": "text/x-python",
   "name": "python",
   "nbconvert_exporter": "python",
   "pygments_lexer": "ipython3",
   "version": "3.8.12"
  }
 },
 "nbformat": 4,
 "nbformat_minor": 5
}
