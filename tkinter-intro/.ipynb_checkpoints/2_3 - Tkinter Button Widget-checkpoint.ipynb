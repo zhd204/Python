{
 "cells": [
  {
   "cell_type": "markdown",
   "id": "cb61992e-3776-4322-bb65-daa1c748a0f2",
   "metadata": {},
   "source": [
    "In this tutorial, we will cover the Tkinter Button widget in Python."
   ]
  },
  {
   "cell_type": "markdown",
   "id": "d72c1e8a-8bc1-4aeb-adfd-45865dd1c97d",
   "metadata": {},
   "source": [
    "## Tkinter Button Widget\n",
    "\n",
    "\n",
    "The Button widget in Tkinter is mainly used to add a button in any GUI Application. In Python, while using the Tkinter button widget, we can easily modify the style of the button like adding a background colors to it, adjusting height and width of button, or the placement of the button, etc. very easily.\n",
    "\n",
    "- You can add various types of buttons(as per your applications UI) to your application with the help of the Button Widget.\n",
    "\n",
    "- You can also **associate any method or function** with a button if you want and then that method will get called whenever you press the button.\n",
    "\n",
    "- There are many options of button widget which you can reset or set according to your requirements.\n",
    "\n",
    "The syntax of the label widget is given below,\n",
    "\n",
    "    W = Button(master,options)\n",
    "In the above syntax, the **master** parameter denotes the **parent window**. You can use many options to change the **look of the buttons** and these options are written as **comma-separated key-value pairs**."
   ]
  },
  {
   "cell_type": "markdown",
   "id": "fd6a6117-d723-46da-99ed-52024f64a13a",
   "metadata": {},
   "source": [
    "## Tkinter Button Widget Options\n",
    "\n",
    "For the reference of complete command options: https://anzeljg.github.io/rin2/book2/2405/docs/tkinter/button.html\n",
    "\n",
    "Following are the options used with button widgets:"
   ]
  },
  {
   "cell_type": "markdown",
   "id": "d691cb7a-4408-4afc-bc54-690bf3ac4b1b",
   "metadata": {},
   "source": [
    "| **Name of the option**| **Description** |\n",
    "| :----------- | :----------- |\n",
    "| activeground| This option indicates the background [**color**](https://anzeljg.github.io/rin2/book2/2405/docs/tkinter/colors.html) of the button at the time **when the mouse hovers the button.** |\n",
    "| activeforeground | This option mainly represents the font [**color**](https://anzeljg.github.io/rin2/book2/2405/docs/tkinter/colors.html) of the button when the mouse hovers the button.|\n",
    "| anchor | Where the text is positioned on the button. See [**Section 5.5, “Anchors”**](https://anzeljg.github.io/rin2/book2/2405/docs/tkinter/anchors.html). For example, anchor=tk.NE would position the text at the top right corner of the button. The **default value is CENTER** which is used to align the text in center in the provided space. |\n",
    "| bd | This option is used for the **border width** of the widget. See [**Section 5.1, “Dimensions”**](https://anzeljg.github.io/rin2/book2/2405/docs/tkinter/dimensions.html). Its **default value is 2 pixels**. |\n",
    "| bg | This option is used for the **background [**color**](https://anzeljg.github.io/rin2/book2/2405/docs/tkinter/colors.html)** of the widget |\n",
    "| bitmap | Name of one of the [**standard bitmaps**](https://anzeljg.github.io/rin2/book2/2405/docs/tkinter/bitmaps.html)to display on the button (instead of text). |\n",
    "| command | The command option is used to **set the function call** which is scheduled at the time when the function is called. |\n",
    "| cursor | This option is used to specify what type of [**cursor**](https://anzeljg.github.io/rin2/book2/2405/docs/tkinter/cursors.html) to show when the mouse is moved over the label. The default of this option is to use the standard cursor. |\n",
    "| default | tk.NORMAL is the default; use tk.DISABLED if the button is to be initially disabled (grayed out, unresponsive to mouse clicks). |\n",
    "| disabledforeground | Foreground [**color**](https://anzeljg.github.io/rin2/book2/2405/docs/tkinter/colors.html) of the button when it is disabled.|\n",
    "| fg | This option is used to specify the **foreground [color](https://anzeljg.github.io/rin2/book2/2405/docs/tkinter/colors.html) of the text** that is written inside the widget. |\n",
    "| font | This option specifies the **[font](https://tkdocs.com/shipman/fonts.html) type of text** inside the button. |\n",
    "| height | This option indicates the height of the widget. This height indicates the number of text lines in the case of text lines and it indicates the number of pixels in the case of images. |\n",
    "| image | This option indicates the [image](https://tkdocs.com/shipman/images.html) displayed on the button.|\n",
    "| high\n",
    "| justify | This option specifies the alignment of multiple lines in the label. The default value is CENTER. Other values are RIGHT, LEFT; you can justify according to your requirement |\n",
    "| padx | This option indicates the **horizontal padding of the text**. The default value of this option is 1. [**Section 5.1, “Dimensions”**](https://anzeljg.github.io/rin2/book2/2405/docs/tkinter/dimensions.html)|\n",
    "| pady | This option indicates the **vertical padding of the text**. The default value of this option is 1. [**Section 5.1, “Dimensions”**](https://anzeljg.github.io/rin2/book2/2405/docs/tkinter/dimensions.html)|\n",
    "| relief | This option indicates the **type of border ([relief style](https://anzeljg.github.io/rin2/book2/2405/docs/tkinter/relief.html))**. The default value of this option is FLAT |\n",
    "| repeatdelay | See repeatinterval, below. |\n",
    "| repeatinterval | Normally, a button fires only once when the user releases the mouse button. If you want the button to fire at regular intervals as long as the mouse button is held down, set this option to a number of milliseconds to be used between repeats, and set the repeatdelay to the number of milliseconds to wait before starting to repeat. For example, if you specify “repeatdelay=500, repeatinterval=100” the button will fire after half a second, and every tenth of a second thereafter, until the user releases the mouse button. If the user does not hold the mouse button down at least repeatdelay milliseconds, the button will fire normally. |\n",
    "| state | Set this option to tk.DISABLED to gray out the button and make it unresponsive. Has the value tk.ACTIVE when the mouse is over it. Default is tk.NORMAL. |\n",
    "| text | This option is set to the string variable and it may contain one or more than one line of text |\n",
    "| textvariable | This option is associated with a **Tkinter variable** that is (StringVar) with a label. If you change the value of this variable then **text inside the label gets updated**. |\n",
    "| underline | This option is used to underline a specific part of the text. The default value of this **option =-1(no underline)**; you can **set it to any integer value** up to n and counting starts from 0. For example, underline=1 would underline the second character of the button's text. |\n",
    "| width | This option indicates the width of the widget. |\n",
    "| wraplength | Rather than having only one line as the label text, you can just break it to any number of lines where each line has the number of characters specified to this option. |"
   ]
  },
  {
   "cell_type": "markdown",
   "id": "c5f9ebe4-8f53-4c31-92d4-24325a5dbb34",
   "metadata": {},
   "source": [
    "## Tkinter Button Widget Methods\n",
    "\n",
    "For the reference of complete methods: https://anzeljg.github.io/rin2/book2/2405/docs/tkinter/button.html\n",
    "\n",
    "Following are the methodss used with button widgets:"
   ]
  },
  {
   "cell_type": "markdown",
   "id": "6e9a7382-c05a-41a9-bb14-a56e0b1514a8",
   "metadata": {},
   "source": [
    "| **Name of the option**| **Description** |\n",
    "| :----------- | :----------- |\n",
    "| .flash() | Causes the button to flash several times between active and normal colors. Leaves the button in the state it was in originally. Ignored if the button is disabled. |\n",
    "| .invoke() | Calls the button's command callback, and returns what that function returns. Has no effect if the button is disabled or there is no callback.|"
   ]
  },
  {
   "cell_type": "markdown",
   "id": "3be1f6d2-38ce-4b5b-a587-9e1f013696f1",
   "metadata": {},
   "source": [
    "## Tkinter Button Widget Example"
   ]
  },
  {
   "cell_type": "code",
   "execution_count": 8,
   "id": "90ea497f-4125-46ac-bf2f-7c5b482d4aab",
   "metadata": {},
   "outputs": [],
   "source": [
    "import tkinter as tk\n",
    "\n",
    "\n",
    "win = tk.Tk()\n",
    "win.title(\"Tkinter Button Widget Example\")\n",
    "win.geometry(\"200x100+100+100\")\n",
    "\n",
    "b = tk.Button(win, text=\"Submit\")\n",
    "\n",
    "b.pack()\n",
    "\n",
    "win.mainloop()"
   ]
  },
  {
   "cell_type": "markdown",
   "id": "ce5ea8aa-f057-41c7-9642-41ad98a79ad2",
   "metadata": {},
   "source": [
    "In the above code example, we created a simple window of given width and height. Then we added a button widget to it with providing the window created as the master of that button and adding a text for the button."
   ]
  },
  {
   "cell_type": "markdown",
   "id": "567c3417-ebdd-47f4-807f-1edbffa5835c",
   "metadata": {},
   "source": [
    "#### Tkinter Button Widget - Add style and Event handler\n",
    "\n",
    "Below we have another code snippet where we will change the look of buttons by adding morestyle to it. Let us see how we do it:"
   ]
  },
  {
   "cell_type": "code",
   "execution_count": 12,
   "id": "49936d65-6a13-4ea6-8db6-57f845d0bbee",
   "metadata": {},
   "outputs": [],
   "source": [
    "from tkinter import *\n",
    "from tkinter import messagebox\n",
    "\n",
    "top = Tk()\n",
    "\n",
    "top.geometry(\"300x150\")\n",
    "\n",
    "def click():\n",
    "    messagebox.showinfo(\"Hello\", \"Green Button Clicked\")\n",
    "    \n",
    "a = Button(top, text=\"yellow\", activeforeground=\"yellow\", activebackground=\"white\", pady=10)\n",
    "b = Button(top, text=\"blue\", activeforeground=\"blue\", activebackground=\"white\", pady=10)\n",
    "c = Button(top, text=\"green\", activeforeground=\"green\", activebackground=\"white\", pady=10, command=click)\n",
    "d = Button(top, text=\"red\", activeforeground=\"red\", activebackground=\"white\", pady=10)\n",
    "\n",
    "a.pack(side=LEFT)\n",
    "b.pack(side=RIGHT)\n",
    "c.pack(side=TOP)\n",
    "d.pack(side=BOTTOM)\n",
    "\n",
    "top.mainloop()"
   ]
  },
  {
   "cell_type": "code",
   "execution_count": 13,
   "id": "d3e163d5-c761-45a5-a218-16574cf04037",
   "metadata": {},
   "outputs": [],
   "source": [
    "import tkinter as tk\n",
    "root = tk.Tk()\n",
    "\n",
    "button = tk.Button(root, text=\"Hello\")\n",
    "button.pack()\n",
    "\n",
    "button[\"activebackground\"] = \"red\"\n",
    "button[\"background\"] = \"silver\"\n",
    "\n",
    "root.after(1000, button.flash)\n",
    "root.mainloop()"
   ]
  },
  {
   "cell_type": "code",
   "execution_count": 16,
   "id": "50eaacc9-66a7-417b-8899-7b986bcb8e31",
   "metadata": {},
   "outputs": [
    {
     "name": "stdout",
     "output_type": "stream",
     "text": [
      "stop_flash\n"
     ]
    }
   ],
   "source": [
    "import tkinter as tk\n",
    "root = tk.Tk()\n",
    "\n",
    "def stop_flash():\n",
    "    print('stop_flash')\n",
    "    root.after_cancel(flasher)\n",
    "\n",
    "button = tk.Button(root, text=\"Hello\", command=stop_flash,\n",
    "   background='silver', activebackground='red')\n",
    "button.pack()\n",
    "\n",
    "def flash():\n",
    "    global flasher\n",
    "    button.flash()\n",
    "    flasher = root.after(1000, flash)\n",
    "\n",
    "flasher = root.after(1000, flash)\n",
    "root.mainloop()"
   ]
  },
  {
   "cell_type": "code",
   "execution_count": null,
   "id": "11f37999-ee8a-492d-b7dd-0756df489ef9",
   "metadata": {},
   "outputs": [],
   "source": []
  }
 ],
 "metadata": {
  "kernelspec": {
   "display_name": "Python 3",
   "language": "python",
   "name": "python3"
  },
  "language_info": {
   "codemirror_mode": {
    "name": "ipython",
    "version": 3
   },
   "file_extension": ".py",
   "mimetype": "text/x-python",
   "name": "python",
   "nbconvert_exporter": "python",
   "pygments_lexer": "ipython3",
   "version": "3.8.5"
  }
 },
 "nbformat": 4,
 "nbformat_minor": 5
}
