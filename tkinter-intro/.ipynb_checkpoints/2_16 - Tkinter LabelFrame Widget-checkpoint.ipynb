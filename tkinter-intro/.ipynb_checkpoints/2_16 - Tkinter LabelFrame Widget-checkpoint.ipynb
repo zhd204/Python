{
 "cells": [
  {
   "cell_type": "markdown",
   "id": "d72c1e8a-8bc1-4aeb-adfd-45865dd1c97d",
   "metadata": {},
   "source": [
    "## Tkinter LabelFrame Widget\n",
    "\n",
    "For the reference of complete command options and methods:\n",
    "https://anzeljg.github.io/rin2/book2/2405/docs/tkinter/labelframe.html"
   ]
  },
  {
   "cell_type": "markdown",
   "id": "3be1f6d2-38ce-4b5b-a587-9e1f013696f1",
   "metadata": {},
   "source": [
    "## Tkinter LabelFrame Widget Example"
   ]
  },
  {
   "cell_type": "code",
   "execution_count": 1,
   "id": "ab2f6b30-db8d-41ea-8aa5-81c2d7e3c27a",
   "metadata": {},
   "outputs": [],
   "source": [
    "from tkinter import *  \n",
    "  \n",
    "win = Tk()  \n",
    "win.geometry(\"300x200\")  \n",
    "  \n",
    "labelframe1 = LabelFrame(win, text=\"Happy Thoughts!!!\")  \n",
    "labelframe1.pack(fill=\"both\", expand=\"yes\")  \n",
    "  \n",
    "toplabel = Label(labelframe1, text=\"You can put your happy thoughts here\")  \n",
    "toplabel.pack()  \n",
    "  \n",
    "labelframe2 = LabelFrame(win, text = \"Changes You want!!\")  \n",
    "labelframe2.pack(fill=\"both\", expand = \"yes\")  \n",
    "  \n",
    "bottomlabel = Label(labelframe2, text = \"You can put here the changes you want,If any!\")  \n",
    "bottomlabel.pack()  \n",
    "  \n",
    "win.mainloop()  "
   ]
  },
  {
   "cell_type": "code",
   "execution_count": 2,
   "id": "4beee080-afd6-4bf2-8fcb-ef9098fc1caf",
   "metadata": {},
   "outputs": [],
   "source": [
    "# https://www.pythontutorial.net/tkinter/tkinter-labelframe/\n",
    "\n",
    "import tkinter as tk\n",
    "from tkinter import ttk\n",
    "\n",
    "\n",
    "# root window\n",
    "root = tk.Tk()\n",
    "root.geometry('300x200')\n",
    "root.resizable(False, False)\n",
    "root.title('LabelFrame Demo')\n",
    "\n",
    "# label frame\n",
    "lf = ttk.LabelFrame(\n",
    "    root,\n",
    "    text='Alignment')\n",
    "\n",
    "lf.grid(column=0, row=0, padx=20, pady=20)\n",
    "\n",
    "alignment = tk.StringVar()\n",
    "\n",
    "# left radio button\n",
    "left_radio = ttk.Radiobutton(\n",
    "    lf,\n",
    "    text='Left',\n",
    "    value='left',\n",
    "    variable=alignment\n",
    ")\n",
    "left_radio.grid(column=0, row=0, ipadx=10, ipady=10)\n",
    "\n",
    "# center radio button\n",
    "center_radio = ttk.Radiobutton(\n",
    "    lf,\n",
    "    text='Center',\n",
    "    value='center',\n",
    "    variable=alignment\n",
    ")\n",
    "\n",
    "center_radio.grid(column=1, row=0, ipadx=10, ipady=10)\n",
    "\n",
    "# right alignment radiobutton\n",
    "right_radio = ttk.Radiobutton(\n",
    "    lf,\n",
    "    text='Right',\n",
    "    value='right',\n",
    "    variable=alignment\n",
    ")\n",
    "right_radio.grid(column=2, row=0, ipadx=10, ipady=10)\n",
    "\n",
    "root.mainloop()\n"
   ]
  },
  {
   "cell_type": "code",
   "execution_count": null,
   "id": "d6bed45d-c816-480e-963d-6a0f1860274e",
   "metadata": {},
   "outputs": [],
   "source": []
  }
 ],
 "metadata": {
  "kernelspec": {
   "display_name": "Python 3",
   "language": "python",
   "name": "python3"
  },
  "language_info": {
   "codemirror_mode": {
    "name": "ipython",
    "version": 3
   },
   "file_extension": ".py",
   "mimetype": "text/x-python",
   "name": "python",
   "nbconvert_exporter": "python",
   "pygments_lexer": "ipython3",
   "version": "3.8.5"
  }
 },
 "nbformat": 4,
 "nbformat_minor": 5
}
