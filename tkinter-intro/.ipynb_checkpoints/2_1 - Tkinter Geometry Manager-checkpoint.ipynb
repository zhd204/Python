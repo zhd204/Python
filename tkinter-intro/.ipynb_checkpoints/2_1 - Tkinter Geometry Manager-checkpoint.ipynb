{
 "cells": [
  {
   "cell_type": "markdown",
   "id": "cb61992e-3776-4322-bb65-daa1c748a0f2",
   "metadata": {},
   "source": [
    "In this tutorial, we will learn how to control the **layout of the Application** with the help of the Tkinter **Geometry Managers**."
   ]
  },
  {
   "cell_type": "markdown",
   "id": "d72c1e8a-8bc1-4aeb-adfd-45865dd1c97d",
   "metadata": {},
   "source": [
    "## Controlling Tkinter Application Layout\n",
    "\n",
    "\n",
    "In order to **organize or arrange or place all the widgets** in the parent window, Tkinter provides us the **geometric configuration** of the widgets. The GUI Application Layout is mainly controlled by Geometric Managers of Tkinter.\n",
    "\n",
    "It is important to note here that ***each window and Frame in your application is allowed to use only one geometry manager***. Also, different frames can use different geometry managers, even if they're already assigned to a frame or window using another geometry manager.\n",
    "\n",
    "There are mainly three methods in Geometry Managers:\n",
    "\n",
    "![title](images/geometry_manager.jpeg)"
   ]
  },
  {
   "cell_type": "markdown",
   "id": "fd6a6117-d723-46da-99ed-52024f64a13a",
   "metadata": {},
   "source": [
    "## 1. Tkinter pack() Geometry Manager\n",
    "\n",
    "The pack() method mainly uses a **packing algorithm** in order to place widgets in a Frame or window in a specified order.\n",
    "\n",
    "This method is mainly used to **organize the widgets in a block**.\n",
    "\n",
    "\n",
    "#### Packing Algorithm:\n",
    "\n",
    "The steps of Packing algorithm are as follows:\n",
    "\n",
    "- Firstly this algorithm will compute a rectangular area known as a Parcel which is tall (or wide) enough to hold the widget and then it will fill the remaining width (or height) in the window with blank space.\n",
    "\n",
    "- It will center the widget until any different location is specified.\n",
    "\n",
    "This method is powerful but it is difficult to visualize.\n",
    "\n",
    "Here is the syntax for using pack() function:\n",
    "        \n",
    "       widget.pack(options)  \n",
    "The possible options as a parameter to this method are given below:\n",
    "\n",
    "- **fill**\n",
    "    The default value of this option is set to NONE. Also, we can set it to X or Y in order to determine whether the widget contains any extra space.\n",
    "\n",
    "- **side**\n",
    "    This option specifies which side to pack the widget against. If you want to pack widgets vertically, use TOP which is the default value. If you want to pack widgets horizontally, use LEFT.\n",
    "\n",
    "- **expand**\n",
    "    This option is used to specify whether the widgets should be expanded to fill any extra space in the geometry master or not. Its default value is false. If it is false then the widget is not expanded otherwise widget expands to fill extra space."
   ]
  },
  {
   "cell_type": "markdown",
   "id": "d691cb7a-4408-4afc-bc54-690bf3ac4b1b",
   "metadata": {},
   "source": [
    "#### Tkinter pack() Geometry Manager Example:\n",
    "\n",
    "Let us discuss an example where we will see what happens when you pack() three colored Frame widgets(here is the Tkinter Frame Widget) into a window:"
   ]
  },
  {
   "cell_type": "code",
   "execution_count": 4,
   "id": "a012a8b8-ea83-4101-8fa2-3c2c13625f11",
   "metadata": {},
   "outputs": [],
   "source": [
    "import tkinter as tk\n",
    "\n",
    "win = tk.Tk()\n",
    "win.title(\"Geometry Manager Example\")\n",
    "win.geometry(\"400x300+200+200\")\n",
    "\n",
    "# add an orange frame\n",
    "frame1 = tk.Frame(master=win, width=100, height=100, bg=\"orange\")\n",
    "frame1.pack()\n",
    "\n",
    "# add a blue frame\n",
    "frame2 = tk.Frame(master=win, width=50, height=50, bg=\"blue\")\n",
    "frame2.pack()\n",
    "\n",
    "# add a green frame\n",
    "frame3 = tk.Frame(master=win, width=25, height=25, bg=\"green\")\n",
    "frame3.pack()\n",
    "\n",
    "win.mainloop()"
   ]
  },
  {
   "cell_type": "markdown",
   "id": "7677f62a-d5b0-483b-9592-a87376882ed8",
   "metadata": {},
   "source": [
    "According to the output of the above code, the pack() method just places each Frame below the previous one by default, in the same order in which they're assigned to the window."
   ]
  },
  {
   "cell_type": "markdown",
   "id": "5670597b-392f-4d37-b4c3-d81c2d3d619d",
   "metadata": {},
   "source": [
    "#### Tkinter pack() with Parameters Examples:"
   ]
  },
  {
   "cell_type": "markdown",
   "id": "ab2c6f08-46fd-4500-b3ed-1246bd42deb7",
   "metadata": {},
   "source": [
    "- **fill**\n",
    "   \n",
    "| **fill direction**| **option syntx** |\n",
    "| :----------- | :----------- |\n",
    "| horizontal | tk.X |\n",
    "| vertical | tk.Y |\n",
    "| both | tk.BOTH|\n",
    "\n",
    "- **side**\n",
    "   \n",
    "| **fill direction**| **option syntx** |\n",
    "| :----------- | :----------- |\n",
    "| top(default) | tk.TOP |\n",
    "| bottom | tk.BOTTOM |\n",
    "| left | tk.LEFT |\n",
    "| right | tk.RIGHT |\n",
    "\n",
    "- **exapnd**\n",
    "   \n",
    "| **fill direction**| **option syntx** |\n",
    "| :----------- | :----------- |\n",
    "| true | True|\n",
    "| false(default) | False |"
   ]
  },
  {
   "cell_type": "code",
   "execution_count": 10,
   "id": "e4506c7a-8615-4f2a-a7f0-0a1784ce845f",
   "metadata": {},
   "outputs": [],
   "source": [
    "# You can set the fill argument in order to specify in which direction you want the frames should fill. \n",
    "# If you want to fill in the horizontal direction then the option is tk.X, whereas, tk.Y is used to fill vertically.\n",
    "# To fill in both directions tk.BOTH is used.\n",
    "\n",
    "import tkinter as tk\n",
    "\n",
    "win = tk.Tk()\n",
    "win.title(\"Geometry Manager Example\")\n",
    "#win.geometry(\"400x300+200+200\")\n",
    "win.minsize(400, 300)\n",
    "\n",
    "\n",
    "frame1 = tk.Frame(master=win, height=80, bg=\"red\")\n",
    "frame1.pack(fill=tk.X)\n",
    "\n",
    "\n",
    "frame2 = tk.Frame(master=win, height=50, bg=\"yellow\")\n",
    "frame2.pack(fill=tk.X)\n",
    "\n",
    "\n",
    "frame3 = tk.Frame(master=win, height=40, bg=\"blue\")\n",
    "frame3.pack(fill=tk.X)\n",
    "\n",
    "win.mainloop()"
   ]
  },
  {
   "cell_type": "code",
   "execution_count": 25,
   "id": "64bc1e27-2d53-4714-9cfa-e44d82cefa7b",
   "metadata": {},
   "outputs": [],
   "source": [
    "import tkinter as tk\n",
    "\n",
    "win = tk.Tk()\n",
    "win.title(\"Geometry Manager Example\")\n",
    "#win.geometry(\"400x300+200+200\")\n",
    "win.minsize(400, 300)\n",
    "\n",
    "\n",
    "frame1 = tk.Frame(master=win, width=200, height=100, bg=\"Yellow\")\n",
    "# setting fill, side and expand\n",
    "frame1.pack(fill=tk.BOTH, side=tk.LEFT, expand=True)\n",
    "\n",
    "frame2 = tk.Frame(master=win, width=100, height=50, bg=\"blue\")\n",
    "frame2.pack(fill=tk.BOTH, side=tk.RIGHT, expand=True)\n",
    "\n",
    "frame3 = tk.Frame(master=win, width=50, bg=\"green\")\n",
    "frame3.pack(fill=tk.BOTH, side=tk.BOTTOM, expand=True)\n",
    "\n",
    "win.mainloop()"
   ]
  },
  {
   "cell_type": "code",
   "execution_count": 34,
   "id": "c65dbdb3-15b8-4771-ad9b-612345bc0233",
   "metadata": {},
   "outputs": [],
   "source": [
    "# Generate a windows with 4 buttons.\n",
    "# 3 buttons on the first row\n",
    "# 1 button on the second row\n",
    "import tkinter as tk\n",
    "\n",
    "root = tk.Tk()\n",
    "frame = tk.Frame(root)\n",
    "frame.pack()\n",
    "\n",
    "bottomframe = tk.Frame(root)\n",
    "bottomframe.pack( side = BOTTOM )\n",
    "\n",
    "redbutton = Button(frame, text=\"Red\", fg=\"red\")\n",
    "redbutton.pack( side = LEFT)\n",
    "\n",
    "greenbutton = Button(frame, text=\"green\", fg=\"green\")\n",
    "greenbutton.pack( side = LEFT )\n",
    "\n",
    "bluebutton = Button(frame, text=\"Blue\", fg=\"blue\")\n",
    "bluebutton.pack( side = LEFT )\n",
    "\n",
    "blackbutton = Button(bottomframe, text=\"Black\", fg=\"black\")\n",
    "blackbutton.pack( side = BOTTOM)\n",
    "\n",
    "root.mainloop()"
   ]
  },
  {
   "cell_type": "markdown",
   "id": "d10d501f-f205-43bc-9c33-1fc8def3b2e2",
   "metadata": {},
   "source": [
    "## 2. Tkinter grid() Geometry Manager\n",
    "\n",
    "The most used geometry manager is grid() because it provides all the power of pack() function but in an easier and maintainable way.\n",
    "\n",
    "The grid() geometry manager is mainly used to split either a window or frame into rows and columns.\n",
    "\n",
    "- You can **easily specify the location of a widget** just by calling grid() function and passing the **row and column indices** to the row and column keyword arguments, respectively.\n",
    "\n",
    "- Index of both the row and column starts from 0, so a row index of 2 and a column index of 2 tells the grid() function to place a widget in the third column of the third row(0 is first, 1 is second and 2 means third).\n",
    "\n",
    "Here is the syntax of the grid() function::\n",
    "        \n",
    "       widget.grid(options)  \n",
    "The possible options as a parameter to this method are given below:\n",
    "\n",
    "- **Column**\n",
    "    This option specifies the column number in which the widget is to be placed. The index of leftmost column is 0.\n",
    "\n",
    "- **Row**\n",
    "    This option specifies the row number in which the widget is to be placed. The topmost row is represented by 0.\n",
    "\n",
    "- **Columnspan**\n",
    "    This option specifies the width of the widget. It mainly represents the number of columns up to which, the column is expanded.\n",
    "    \n",
    "- **Rowspan**\n",
    "    This option specifies the height of the widget. It mainly represents the number of rows up to which, the row is expanded.\n",
    "    \n",
    "- **padx, pady**\n",
    "    This option mainly represents the number of pixels of padding to be added to **the widget just outside the widget's border**.\n",
    "    \n",
    "- **ipadx, ipady**\n",
    "    This option is mainly used to represents the number of pixels of padding to be added to **the widget inside the widget's border**.\n",
    "\n",
    "- **Sticky**\n",
    "    If any cell is larger than a widget, then sticky is mainly used to specify the position of the widget inside the cell. It is basically concatenation of the sticky letters which represents the position of the widget. It may be N, E, W, S, NE, NW, NS, EW, ES."
   ]
  },
  {
   "cell_type": "markdown",
   "id": "bcd82461-3476-431a-b995-4675012853ce",
   "metadata": {},
   "source": [
    "#### Tkinter grid() Geometry Manager Example:\n",
    "\n",
    "The following code script will help you to create a **5 × 3** grid of frames with Label widgets packed into them:"
   ]
  },
  {
   "cell_type": "code",
   "execution_count": 21,
   "id": "2b23cd99-c06e-4da9-9a04-027ee8630bdb",
   "metadata": {},
   "outputs": [],
   "source": [
    "import tkinter as tk\n",
    "\n",
    "win = tk.Tk()\n",
    "win.title(\"Geometry Manager Grid() Example\")\n",
    "# win.minsize(400, 300)\n",
    "\n",
    "for i in range(5):\n",
    "    for j in range(6):\n",
    "        frame = tk.Frame(\n",
    "            master = win,\n",
    "            relief = tk.RAISED,\n",
    "            borderwidth = 1\n",
    "        )\n",
    "        frame.grid(row=i, column=j, padx=5, pady=5, ipadx=5, ipady=5)\n",
    "        label = tk.Label(master=frame, text=f\"Row {i}\\nColumn {j}\")\n",
    "#         label = tk.Label(master=frame, width=25, height=5, text=f\"Row {i}\\nColumn {j}\")\n",
    "      \n",
    "        label.pack()\n",
    "\n",
    "win.mainloop()"
   ]
  },
  {
   "cell_type": "code",
   "execution_count": null,
   "id": "541165f2-270b-4dcf-92b4-d7e56ccd5ff3",
   "metadata": {},
   "outputs": [],
   "source": []
  }
 ],
 "metadata": {
  "kernelspec": {
   "display_name": "Python 3",
   "language": "python",
   "name": "python3"
  },
  "language_info": {
   "codemirror_mode": {
    "name": "ipython",
    "version": 3
   },
   "file_extension": ".py",
   "mimetype": "text/x-python",
   "name": "python",
   "nbconvert_exporter": "python",
   "pygments_lexer": "ipython3",
   "version": "3.8.5"
  }
 },
 "nbformat": 4,
 "nbformat_minor": 5
}
