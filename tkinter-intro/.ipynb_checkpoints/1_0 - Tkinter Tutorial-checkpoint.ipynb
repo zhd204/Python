{
 "cells": [
  {
   "cell_type": "markdown",
   "id": "07359655-c120-4b26-8f16-0c502338fa40",
   "metadata": {},
   "source": [
    "# Tkinter Tutorial\n",
    "\n",
    "https://www.studytonight.com/tkinter\n",
    "\n",
    "Tkinter is a standard library in python used for creating Graphical User Interface (GUI) for Desktop Applications. With the help of Tkinter developing desktop applications is not a tough task.\n",
    "\n",
    "This tutorial will guide you to understand the working of the Tkinter module, its various components like Windows, Widgets and Frames and will then introduce you to all the available Tkinter widgets used for developing desktop applications.\n",
    "\n",
    "At the end of the tutorial we have few practical Tkinter projects for beginners like Calculator App, Text Editor App and Music Player App."
   ]
  },
  {
   "cell_type": "markdown",
   "id": "cb61992e-3776-4322-bb65-daa1c748a0f2",
   "metadata": {},
   "source": []
  }
 ],
 "metadata": {
  "kernelspec": {
   "display_name": "Python 3",
   "language": "python",
   "name": "python3"
  },
  "language_info": {
   "codemirror_mode": {
    "name": "ipython",
    "version": 3
   },
   "file_extension": ".py",
   "mimetype": "text/x-python",
   "name": "python",
   "nbconvert_exporter": "python",
   "pygments_lexer": "ipython3",
   "version": "3.8.5"
  }
 },
 "nbformat": 4,
 "nbformat_minor": 5
}
