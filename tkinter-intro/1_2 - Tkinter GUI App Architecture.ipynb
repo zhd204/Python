{
 "cells": [
  {
   "cell_type": "markdown",
   "id": "7bcedb8d-04c2-4ca7-b924-f1e3167c196d",
   "metadata": {},
   "source": [
    "In this tutorial, we will cover the basics of the Tkinter module, to explain what is a Tkinter Window, Widgets, and Frames which are the building blocks of GUI application in Tkinter."
   ]
  },
  {
   "cell_type": "markdown",
   "id": "fea0c41b-08fb-4dd7-8318-d630cde1c834",
   "metadata": {},
   "source": [
    "## Introduction to Tkinter Windows and Widgets"
   ]
  },
  {
   "cell_type": "markdown",
   "id": "c6ea0f2d-8ee0-493b-ae6d-f768bea1003c",
   "metadata": {},
   "source": [
    "Let's dive in a little deeper, to understand some basics about the Tkinter module and how it works."
   ]
  },
  {
   "cell_type": "code",
   "execution_count": null,
   "id": "9e459b5c-64ad-424f-abd6-0068ce35a020",
   "metadata": {},
   "outputs": [],
   "source": [
    "# from IPython.display import Image\n",
    "# Image(\"images/app_gui_architecture.png\")"
   ]
  },
  {
   "cell_type": "markdown",
   "id": "ea3bcb2c-3198-4529-9b47-3cd1984f7aad",
   "metadata": {},
   "source": [
    "![title](images/app_gui_architecture.png)\n",
    "\n",
    "- The top-level window object in GUI Programming contains all of the little window objects that will be part of your complete GUI.\n",
    "\n",
    "- The little window objects can be text labels, buttons, list boxes, etc., and these individual little GUI components are known as Widgets.\n",
    "\n",
    "- So, having a top-level window object will act as a container where you will put all your widgets. In Python, you'd typically do so like this using the following code: win = tkinter.Tk()\n",
    "\n",
    "- The object that is returned by making a call to tkinter.Tk() is usually referred to as the Root Window.\n",
    "\n",
    "- Top-level windows are mainly stand-alone as part of your application, also you can have more than one top-level window for your GUI, but only one of them should be your root window.\n",
    "\n",
    "- First of all, you need to design all your widgets completely, and then add the real functionality.\n",
    "\n",
    "- The widgets can either be stand-alone or can be containers. If one widget contains other widgets, it is considered the parent of those widgets.\n",
    "\n",
    "- Similarly, if a widget is contained within another widget, it's known as a child of the parent, the parent is the next immediate enclosing container widget.\n",
    "\n",
    "- The widgets also have some associated behaviors, such as when a button is pressed, or text is filled into a text field, so we have events attached to these actions.\n",
    "\n",
    "- The behavior of widgets generates events, and the GUI's response to events is known as Callbacks - because they 'call' a function just to handle the event that occurred."
   ]
  },
  {
   "cell_type": "markdown",
   "id": "6f77436b-c8aa-4fe8-89f6-47ef3a2deaa7",
   "metadata": {},
   "source": [
    "## Tkinter Event-Driven Processing\n",
    "\n",
    "In Tkinter, we have windows and widgets coming together to form a GUI application. But the GUI application is just the frontend of the application. You would want to execute some code logic when the end-user uses those widgets.\n",
    "\n",
    "Whenever an action is performed on any widget, an event is generated, which we can handle to perform any operation.\n",
    "\n",
    "- Events(behavior of widgets) can include pressing a button, movement of the mouse, hitting the return or Enter key, gaining or losing 'focus', etc.\n",
    "\n",
    "- The entire system of events that occurs from the beginning until the end of any GUI application is what drives it and hence it is also known as **Event-Driven Processing**.\n",
    "\n",
    "- Let us take a simple mouse movement example: Suppose that the pointer of the mouse is just sitting somewhere on top of your GUI application. If you will move the mouse to another part of your application, something has to cause the movement of the mouse to be replicated by the cursor on your screen(on top of your GUI application). These are 'cursor move' events that the system must process to portray your cursor moving across the window. At the time you will stop moving the mouse, no more events need to be processed, so everything just stays still on the screen again."
   ]
  },
  {
   "cell_type": "markdown",
   "id": "41dd2238-c23d-4320-9f52-269a710ba277",
   "metadata": {},
   "source": [
    "Here are some basic definitions through which you will be able to understand the concept of Windows, widgets, and frames in Tkinter."
   ]
  },
  {
   "cell_type": "markdown",
   "id": "9924ff4a-6446-477d-a54b-928c0eab152a",
   "metadata": {},
   "source": [
    "#### Tkinter Windows\n",
    "The term \"Window\" has different meanings in the different contexts, But generally \"Window\" refers to a rectangular area somewhere on the user's display screen through which you can interact.\n",
    "\n",
    "Then there comes the concept of Top Level Window in Tkinter."
   ]
  },
  {
   "cell_type": "markdown",
   "id": "4113c1d2-4b69-4028-a865-f77d6f3b47ba",
   "metadata": {},
   "source": [
    "#### Tkinter Top-Level Window\n",
    "The Top-Level Window is a window that exists independently on the screen. You can decorate the top-level window with the standard frame and controls for the desktop manager. It can usually be moved around the desktop, and also you can resize it if you want to do so.\n",
    "\n",
    "Then there comes the concept of Widgets. Let us try to understand it."
   ]
  },
  {
   "cell_type": "markdown",
   "id": "fa3a77ea-f3a9-4732-8225-84c992dc4928",
   "metadata": {},
   "source": [
    "#### Tkinter Widgets\n",
    "\n",
    "The term \"Widgets\" is a generic term that refers to the building blocks that make up an application in a graphical user interface.\n",
    "\n",
    "Let us list out the core widgets with their categories:\n",
    "\n",
    "- Container\n",
    "\n",
    "    Under this category, the widgets that lies are frame, labelframe, toplevel, and paned window.\n",
    "\n",
    "- Buttons\n",
    "\n",
    "    Under the category of Buttons, there are buttons, radiobuttons, checkbuttons (checkbox), and menubuttons.\n",
    "\n",
    "- Text Widgets\n",
    "\n",
    "    Under the category of text widgets, there are labels, messages, text.\n",
    "\n",
    "- Entry Widgets\n",
    "\n",
    "    Under this category, the widgets are scale, scrollbar, Listbox, slider, spinbox, entry (single-line), optionmenu, text (multiline), and canvas (vector and pixel graphics).\n",
    "\n",
    "Now let us move on to Frames in Tkinter."
   ]
  },
  {
   "cell_type": "markdown",
   "id": "55caeb5e-043d-4c3d-b49f-da6ee01d9cf7",
   "metadata": {},
   "source": [
    "#### Tkinter Frames\n",
    "\n",
    "A frame is basically a rectangular area that can contain other widgets. In Tkinter, there is a Frame widget that is the basic unit of organization for complex layouts. It is a widget which has no special styling or GUI component of its own. It is just used to hold other Tkinter widgets in case of complex GUI layouts.\n",
    "\n",
    "**Note**: It is important to note here that whenever any widget is created, there is also a parent-child relationship that is created. Just take an example, if you place a button inside a frame, the frame widget is called the parent of the Button widget."
   ]
  },
  {
   "cell_type": "markdown",
   "id": "f5f37658-7a1f-488b-8408-1a7bfb3a7210",
   "metadata": {},
   "source": [
    "## Tkinter Basic Example"
   ]
  },
  {
   "cell_type": "markdown",
   "id": "558bcf61-0b3c-41ec-8d73-022c8b08c7ed",
   "metadata": {},
   "source": [
    "Let us take an example where we will create a Tkinter application with a simple Text widget:"
   ]
  },
  {
   "cell_type": "code",
   "execution_count": 5,
   "id": "a7215711-c397-4a36-9606-7c8be8f7d253",
   "metadata": {},
   "outputs": [],
   "source": [
    "from tkinter import *\n",
    "win = Tk(className=\" Tkinter Basic Example\") # Create the root(base) window\n",
    "win.geometry(\"400x600\")\n",
    "w = Label(win, text=\"Hello, Welcome to tkinter!\") # Create a label with words\n",
    "w.pack() # Put the label into the windows\n",
    "\n",
    "win.mainloop() # Start the event loop"
   ]
  },
  {
   "cell_type": "markdown",
   "id": "cb61992e-3776-4322-bb65-daa1c748a0f2",
   "metadata": {},
   "source": []
  }
 ],
 "metadata": {
  "kernelspec": {
   "display_name": "Python 3",
   "language": "python",
   "name": "python3"
  },
  "language_info": {
   "codemirror_mode": {
    "name": "ipython",
    "version": 3
   },
   "file_extension": ".py",
   "mimetype": "text/x-python",
   "name": "python",
   "nbconvert_exporter": "python",
   "pygments_lexer": "ipython3",
   "version": "3.8.5"
  }
 },
 "nbformat": 4,
 "nbformat_minor": 5
}
