{
 "cells": [
  {
   "cell_type": "markdown",
   "id": "6a94ac35-a403-46e1-b9e9-3789497408dd",
   "metadata": {},
   "source": [
    "https://www.tcl.tk/man/tcl8.6/TkCmd/colors.html"
   ]
  },
  {
   "cell_type": "code",
   "execution_count": null,
   "id": "9b76eb97-f003-43c6-a98f-3712adbe750d",
   "metadata": {},
   "outputs": [],
   "source": []
  }
 ],
 "metadata": {
  "kernelspec": {
   "display_name": "Python 3",
   "language": "python",
   "name": "python3"
  },
  "language_info": {
   "codemirror_mode": {
    "name": "ipython",
    "version": 3
   },
   "file_extension": ".py",
   "mimetype": "text/x-python",
   "name": "python",
   "nbconvert_exporter": "python",
   "pygments_lexer": "ipython3",
   "version": "3.8.5"
  }
 },
 "nbformat": 4,
 "nbformat_minor": 5
}
