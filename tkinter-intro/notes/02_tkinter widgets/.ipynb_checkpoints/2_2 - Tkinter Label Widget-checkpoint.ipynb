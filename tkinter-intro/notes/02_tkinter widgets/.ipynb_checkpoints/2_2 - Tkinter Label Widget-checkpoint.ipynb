{
 "cells": [
  {
   "cell_type": "markdown",
   "id": "cb61992e-3776-4322-bb65-daa1c748a0f2",
   "metadata": {},
   "source": [
    "In this tutorial, we will cover the Tkinter Label widget in Python, which is used to create a Label in the GUI application in which we can show any text or image."
   ]
  },
  {
   "cell_type": "markdown",
   "id": "d72c1e8a-8bc1-4aeb-adfd-45865dd1c97d",
   "metadata": {},
   "source": [
    "## Tkinter Label Widget\n",
    "\n",
    "\n",
    "The **label widget** in Tkinter is used to display boxes where you can place your **images and text**.\n",
    "\n",
    "- The label widget is mainly used to **provide a message** about the **other widgets** used in the Python Application to the user.\n",
    "\n",
    "- You can **change or update** the text inside the label widget anytime you want.\n",
    "\n",
    "- This widget uses **only one font at the time** of displaying some text.\n",
    "\n",
    "- You can perform other tasks like **underline some part of the text** and you can also **span text to multiple lines**.\n",
    "\n",
    "- There are various options available to configure the text or the part of the text shown in the Label.\n",
    "\n",
    "The syntax of the label widget is given below,\n",
    "\n",
    "    W = Label(master,options)\n",
    "In the above syntax, the **master** parameter denotes the **parent window**. You can use many options to configure the text and these options are written as **comma-separated key-value pairs**."
   ]
  },
  {
   "cell_type": "markdown",
   "id": "fd6a6117-d723-46da-99ed-52024f64a13a",
   "metadata": {},
   "source": [
    "## Tkinter Label Widget Options\n",
    "\n",
    "For the reference of complete command options: https://anzeljg.github.io/rin2/book2/2405/docs/tkinter/label.html\n",
    "\n",
    "Following are the options used with label widgets:"
   ]
  },
  {
   "cell_type": "markdown",
   "id": "d691cb7a-4408-4afc-bc54-690bf3ac4b1b",
   "metadata": {},
   "source": [
    "| **Name of the option**| **Description** |\n",
    "| :----------- | :----------- |\n",
    "| anchor | This option is mainly used for controlling the position of text in the provided widget size. The **default value is CENTER** which is used to align the text in center in the provided space. |\n",
    "| bd | This option is used for the **border width** of the widget. Its **default value is 2 pixels**. |\n",
    "| bitmap | This option is used to set the bitmap equals to the graphical object specified so that now the **label can represent the graphics** instead of text. |\n",
    "| bg | This option is used for the **background color** of the widget |\n",
    "| cursor | This option is used to specify what type of cursor to show when the mouse is moved over the label. The default of this option is to use the standard cursor. |\n",
    "| fg | This option is used to specify the **foreground color of the text** that is written inside the widget. |\n",
    "| font | This option specifies the **font type of text** inside the label. |\n",
    "| height | This option indicates the height of the widget |\n",
    "| image | This option indicates the image that is shown as the label. |\n",
    "| justify | This option specifies the alignment of multiple lines in the label. The default value is CENTER. Other values are RIGHT, LEFT; you can justify according to your requirement |\n",
    "| padx | This option indicates the **horizontal padding of the text**. The default value of this option is 1. |\n",
    "| pady | This option indicates the **vertical padding of the text**. The default value of this option is 1. |\n",
    "| relief | This option indicates the **type of border**. The default value of this option is FLAT |\n",
    "| text | This option is set to the string variable and it may contain one or more than one line of text |\n",
    "| textvariable | This option is associated with a **Tkinter variable** that is (StringVar) with a label. If you change the value of this variable then **text inside the label gets updated**. |\n",
    "| underline | This option is used to underline a specific part of the text. The default value of this **option =-1(no underline)**; you can **set it to any integer value** up to n and counting starts from 0. |\n",
    "| width | This option indicates the width of the widget. |\n",
    "| wraplength | Rather than having only one line as the label text, you can just break it to any number of lines where each line has the number of characters specified to this option. |"
   ]
  },
  {
   "cell_type": "markdown",
   "id": "3be1f6d2-38ce-4b5b-a587-9e1f013696f1",
   "metadata": {},
   "source": [
    "## Tkinter Label Widget Example"
   ]
  },
  {
   "cell_type": "code",
   "execution_count": 7,
   "id": "90ea497f-4125-46ac-bf2f-7c5b482d4aab",
   "metadata": {},
   "outputs": [],
   "source": [
    "import tkinter as tk\n",
    "import random\n",
    "\n",
    "win = tk.Tk()\n",
    "win.title(\"Tkinter Label Widget Example\")\n",
    "win.geometry(\"400x300\")\n",
    "\n",
    "var = tk.StringVar()\n",
    "label = tk.Label(win, textvariable=var, relief=tk.RAISED)\n",
    "\n",
    "if random.randint(1, 100) % 2 == 0:\n",
    "    var.set(\"Hey! Good morning!\")\n",
    "else:\n",
    "    var.set(\"Hey! Good evening!\")\n",
    "\n",
    "label.pack()\n",
    "win.mainloop()"
   ]
  },
  {
   "cell_type": "markdown",
   "id": "ce5ea8aa-f057-41c7-9642-41ad98a79ad2",
   "metadata": {},
   "source": [
    "In the above code, we created a simple variable StringVar() and then assigned a value to it, and this variable is assigned as value to the textvariable option of the Label widget."
   ]
  },
  {
   "cell_type": "code",
   "execution_count": 12,
   "id": "49936d65-6a13-4ea6-8db6-57f845d0bbee",
   "metadata": {},
   "outputs": [],
   "source": [
    "from tkinter import *\n",
    "\n",
    "win = Tk()\n",
    "\n",
    "win.geometry(\"400x250\")\n",
    "\n",
    "username = Label(win, text=\"Username\").place(x=30, y=50)\n",
    "\n",
    "password = Label(win, text=\"Password\").place(x=30, y=90)\n",
    "\n",
    "submitbutton = Button(win, text=\"Submit\", activebackground=\"red\", activeforeground=\"blue\").place(x=30, y=120)\n",
    "\n",
    "e1 = Entry(win, width=20).place(x=100, y=50)\n",
    "e2 = Entry(win, width=20).place(x=100, y=90)\n",
    "\n",
    "win.mainloop()"
   ]
  },
  {
   "cell_type": "markdown",
   "id": "fde34611-d91f-4f44-a75b-d2a3b3bee1c5",
   "metadata": {},
   "source": [
    "Whenever you will run the above code, after putting values into username and password label, **when you will click on the submit button then its color gets changed to red.**\n",
    "\n",
    "***NOTE: the arguments activebackground and activeforeground do not seem work***"
   ]
  }
 ],
 "metadata": {
  "kernelspec": {
   "display_name": "Python 3",
   "language": "python",
   "name": "python3"
  },
  "language_info": {
   "codemirror_mode": {
    "name": "ipython",
    "version": 3
   },
   "file_extension": ".py",
   "mimetype": "text/x-python",
   "name": "python",
   "nbconvert_exporter": "python",
   "pygments_lexer": "ipython3",
   "version": "3.8.5"
  }
 },
 "nbformat": 4,
 "nbformat_minor": 5
}
