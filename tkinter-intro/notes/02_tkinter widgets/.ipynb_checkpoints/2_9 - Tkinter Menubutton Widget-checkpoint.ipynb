{
 "cells": [
  {
   "cell_type": "markdown",
   "id": "d72c1e8a-8bc1-4aeb-adfd-45865dd1c97d",
   "metadata": {},
   "source": [
    "## Tkinter Menubutton Widget\n",
    "\n",
    "For the reference of complete command options and methods:\n",
    "https://anzeljg.github.io/rin2/book2/2405/docs/tkinter/menubutton.html\n",
    "\n",
    "https://www.pythontutorial.net/tkinter/tkinter-menubutton/"
   ]
  },
  {
   "cell_type": "markdown",
   "id": "3be1f6d2-38ce-4b5b-a587-9e1f013696f1",
   "metadata": {},
   "source": [
    "## Tkinter Menubutton Widget Example"
   ]
  },
  {
   "cell_type": "code",
   "execution_count": 1,
   "id": "90ea497f-4125-46ac-bf2f-7c5b482d4aab",
   "metadata": {},
   "outputs": [],
   "source": [
    "from tkinter import *\n",
    "import tkinter\n",
    "\n",
    "win = Tk()\n",
    "\n",
    "mbtn = Menubutton(win, text=\"Courses\", relief=RAISED)\n",
    "mbtn.grid()\n",
    "mbtn.menu = Menu(mbtn, tearoff = 0)\n",
    "mbtn[\"menu\"] = mbtn.menu\n",
    "\n",
    "pythonVar = IntVar()\n",
    "javaVar = IntVar()\n",
    "phpVar = IntVar()\n",
    "\n",
    "mbtn.menu.add_checkbutton(label=\"Python\", variable=pythonVar)\n",
    "mbtn.menu.add_checkbutton(label=\"Java\", variable=javaVar)\n",
    "mbtn.menu.add_checkbutton(label=\"PHP\", variable=phpVar)\n",
    "\n",
    "\n",
    "mbtn.pack()\n",
    "win.mainloop()"
   ]
  },
  {
   "cell_type": "code",
   "execution_count": 2,
   "id": "e5c55f7f-33da-4554-a5ca-8ecc1cf07578",
   "metadata": {},
   "outputs": [],
   "source": [
    "from tkinter import *\n",
    "\n",
    "top = Tk()\n",
    "\n",
    "mb = Menubutton(top, text=\"condiments\", relief=RAISED)\n",
    "mb.grid()\n",
    "other=  Menu(mb)\n",
    "mb[\"menu\"] =  other\n",
    "\n",
    "mayoVar = IntVar()\n",
    "ketchVar = IntVar()\n",
    "\n",
    "other.add_checkbutton(label=\"mayo\", variable=mayoVar)\n",
    "other.add_checkbutton(label=\"ketchup\", variable=ketchVar)\n",
    "\n",
    "mb.pack()\n",
    "top.mainloop()"
   ]
  },
  {
   "cell_type": "markdown",
   "id": "41c012ea-590f-4d7b-b957-6ab8aea0dfff",
   "metadata": {},
   "source": [
    "#### To create a Menubutton widget, you follow these steps:\n",
    "\n",
    "- create a MenuButton widget:\n",
    "\n",
    "        menu_button = ttk.Menubutton(container, **options)\n",
    "\n",
    "\n",
    "- create a new instance of the Menu class:\n",
    "\n",
    "        menu = tk.Menu(menu_button, tearoff=False)\n",
    "\n",
    "\n",
    "- add one or more menu items to the menu instance. And you can add Checkbutton or Radiobutton widgets to the menu.\n",
    "\n",
    "- assign the Menu to the MenuButton instance:\n",
    "\n",
    "        menu_button[\"menu\"] = menu"
   ]
  },
  {
   "cell_type": "code",
   "execution_count": 13,
   "id": "c7366d19-e97c-411b-8c2a-5dfe2705d084",
   "metadata": {},
   "outputs": [],
   "source": [
    "import tkinter as tk\n",
    "from tkinter import ttk\n",
    "\n",
    "class App(tk.Tk):\n",
    "    def __init__(self):\n",
    "        super().__init__()\n",
    "        \n",
    "        self.geometry(\"300x250\")\n",
    "        self.attributes(\"-topmost\", 1)\n",
    "        self.title(\"Menu Button Demo\")\n",
    "        \n",
    "        # menu button variable\n",
    "        self.selected_color = tk.StringVar()\n",
    "        self.selected_color.trace('w', self.menu_item_selected)\n",
    "        # use lambda to avoid adding function menu_item_selected\n",
    "        # self.selected_color.trace('w', lambda *args: self.configure(bg=self.selected_color.get()))\n",
    "        \n",
    "        # create the menu button\n",
    "        self.create_menu_button()\n",
    "    \n",
    "    def menu_item_selected(self, *args):\n",
    "        \"\"\" handle menu selected event \"\"\"\n",
    "        self.configure(bg=self.selected_color.get())\n",
    "       \n",
    "    \n",
    "    def create_menu_button(self):\n",
    "        \"\"\" create a menu button \"\"\"\n",
    "        # menu variable\n",
    "        colors = ('Red', 'Green', 'Blue')\n",
    "        \n",
    "        # create the menu button\n",
    "        menu_button = ttk.Menubutton(self, text='Select a color')\n",
    "        \n",
    "        # create a menu instance\n",
    "        mbn_menu = tk.Menu(menu_button)\n",
    "        \n",
    "        for color in colors:\n",
    "            mbn_menu.add_radiobutton(\n",
    "                label=color,\n",
    "                value=color,\n",
    "                variable=self.selected_color\n",
    "            )\n",
    "            \n",
    "        # associate the menu instance with the menu button\n",
    "        menu_button[\"menu\"] = mbn_menu\n",
    "        \n",
    "        menu_button.pack(expand=True)\n",
    "        \n",
    "\n",
    "if __name__ == \"__main__\":\n",
    "    app = App()\n",
    "    app.mainloop()\n",
    "    \n",
    "    \n",
    "        "
   ]
  },
  {
   "cell_type": "code",
   "execution_count": null,
   "id": "7fab1798-3227-4e4d-be28-c6976bc7b35e",
   "metadata": {},
   "outputs": [],
   "source": []
  }
 ],
 "metadata": {
  "kernelspec": {
   "display_name": "Python 3 (ipykernel)",
   "language": "python",
   "name": "python3"
  },
  "language_info": {
   "codemirror_mode": {
    "name": "ipython",
    "version": 3
   },
   "file_extension": ".py",
   "mimetype": "text/x-python",
   "name": "python",
   "nbconvert_exporter": "python",
   "pygments_lexer": "ipython3",
   "version": "3.8.12"
  }
 },
 "nbformat": 4,
 "nbformat_minor": 5
}
