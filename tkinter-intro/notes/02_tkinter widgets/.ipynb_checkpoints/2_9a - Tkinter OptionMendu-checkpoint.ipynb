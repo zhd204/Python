{
 "cells": [
  {
   "cell_type": "markdown",
   "id": "d72c1e8a-8bc1-4aeb-adfd-45865dd1c97d",
   "metadata": {},
   "source": [
    "## Tkinter OptionMenu Widget\n",
    "\n",
    "For the reference of complete command options and methods:\n",
    "https://www.pythontutorial.net/tkinter/tkinter-optionmenu/\n",
    "\n",
    "https://anzeljg.github.io/rin2/book2/2405/docs/tkinter/optionmenu.html"
   ]
  },
  {
   "cell_type": "markdown",
   "id": "3be1f6d2-38ce-4b5b-a587-9e1f013696f1",
   "metadata": {},
   "source": [
    "## Tkinter OptionMenu Widget Example"
   ]
  },
  {
   "cell_type": "markdown",
   "id": "41c012ea-590f-4d7b-b957-6ab8aea0dfff",
   "metadata": {},
   "source": [
    "#### To create a new OptionMenu widget, you use the OptionMenu constructor:\n",
    "\n",
    "        OptionMenu(container, variable, default=None, *values, **kwargs)\n",
    "\n",
    "\n",
    "The OptionMenu constructor accepts a number of parameters:\n",
    "\n",
    "- *container* is the parent widget of the OptionMenu widget.\n",
    "- *variable* is a tk.StringVar object that holds the currently selected option of the OptionMenu.\n",
    "- *default* is the default option that the widget displays initially.\n",
    "- *values* is a list of values that appear on the drop-down menu.\n",
    "- *kwargs* is the widget specific configuration.\n",
    "\n",
    "The OptionMenu allows you to change the direction of the drop-down menu via the direction option. The valid directions are 'above', 'below', 'left', 'right', or 'flush'.\n",
    "\n",
    "The OptionMenu widget also supports the command option. This allows you to assign a callback that will be called after an item is selected.\n",
    "\n",
    "Like other **ttk widgets**, you can specify the style name for the OptionMenu using the **style** option."
   ]
  },
  {
   "cell_type": "code",
   "execution_count": 13,
   "id": "c7366d19-e97c-411b-8c2a-5dfe2705d084",
   "metadata": {},
   "outputs": [],
   "source": [
    "import tkinter as tk\n",
    "from tkinter import ttk\n",
    "\n",
    "class App(tk.Tk):\n",
    "    def __init__(self):\n",
    "        super().__init__()\n",
    "        \n",
    "        self.geometry(\"360x80\")\n",
    "        self.attributes(\"-topmost\", 1)\n",
    "        self.title(\"Option Menu Demo\")\n",
    "        \n",
    "        # option menu variable\n",
    "        self.selected_option = tk.StringVar()\n",
    "      \n",
    "        # use lambda to avoid adding function menu_item_selected\n",
    "        # self.selected_option.trace('w', lambda *args: self.configure(bg=self.selected_option.get()))\n",
    "        \n",
    "        # list of option values\n",
    "        self.languages = ('Python','JavaScript', 'Java',\n",
    "                        'Swift', 'GoLang', 'C#', 'C++', 'Scala')\n",
    "        \n",
    "        # create the option menu\n",
    "        self.create_option_menu()\n",
    "        \n",
    "        self.selected_option.trace('w', self.menu_item_selected)\n",
    "    \n",
    "    def menu_item_selected(self, *args):\n",
    "        \"\"\" handle menu selected event \"\"\"\n",
    "        self.output_label.configure(text=f\"You selected: {self.selected_option.get()}\")\n",
    "       \n",
    "    \n",
    "    def create_option_menu(self):\n",
    "        \"\"\" create an option menu \"\"\"\n",
    "        \n",
    "        # padding for widgets using the grid layout\n",
    "        paddings = {'padx': 5, 'pady': 5}\n",
    "        \n",
    "        # label\n",
    "        intro_label = ttk.Label(self, text=\"Select your most favorite language:\")\n",
    "        intro_label.grid(column=0, row=0, sticky=tk.W, **paddings)\n",
    "        \n",
    "        # create the option menu\n",
    "        option_menu = ttk.OptionMenu(\n",
    "            self, \n",
    "            self.selected_option,\n",
    "            self.languages[0],\n",
    "            *self.languages\n",
    "        )\n",
    "        \n",
    "        option_menu.grid(column=1, row=0, sticky=tk.W, **paddings)\n",
    "      \n",
    "        # output label \n",
    "        self.output_label = ttk.Label(self, foreground='red')\n",
    "        self.output_label.grid(column=0, row=1, sticky=tk.W, **paddings)\n",
    "        \n",
    "\n",
    "if __name__ == \"__main__\":\n",
    "    app = App()\n",
    "    app.mainloop()\n",
    "    \n",
    "    \n",
    "        "
   ]
  },
  {
   "cell_type": "code",
   "execution_count": null,
   "id": "7fab1798-3227-4e4d-be28-c6976bc7b35e",
   "metadata": {},
   "outputs": [],
   "source": []
  },
  {
   "cell_type": "code",
   "execution_count": null,
   "id": "2fede8cf-a184-4523-beaf-8c1282362a69",
   "metadata": {},
   "outputs": [],
   "source": []
  }
 ],
 "metadata": {
  "kernelspec": {
   "display_name": "Python 3 (ipykernel)",
   "language": "python",
   "name": "python3"
  },
  "language_info": {
   "codemirror_mode": {
    "name": "ipython",
    "version": 3
   },
   "file_extension": ".py",
   "mimetype": "text/x-python",
   "name": "python",
   "nbconvert_exporter": "python",
   "pygments_lexer": "ipython3",
   "version": "3.8.12"
  }
 },
 "nbformat": 4,
 "nbformat_minor": 5
}
