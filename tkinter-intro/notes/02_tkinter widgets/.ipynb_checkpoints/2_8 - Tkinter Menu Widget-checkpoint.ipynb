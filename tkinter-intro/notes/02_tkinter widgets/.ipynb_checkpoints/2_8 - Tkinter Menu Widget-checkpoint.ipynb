{
 "cells": [
  {
   "cell_type": "markdown",
   "id": "d72c1e8a-8bc1-4aeb-adfd-45865dd1c97d",
   "metadata": {},
   "source": [
    "## Tkinter Menu Widget\n",
    "\n",
    "For the reference of complete command options and methods:\n",
    "https://www.studytonight.com/tkinter/python-tkinter-menu-widget"
   ]
  },
  {
   "cell_type": "markdown",
   "id": "3be1f6d2-38ce-4b5b-a587-9e1f013696f1",
   "metadata": {},
   "source": [
    "## Tkinter Menu Widget Example"
   ]
  },
  {
   "cell_type": "code",
   "execution_count": 2,
   "id": "90ea497f-4125-46ac-bf2f-7c5b482d4aab",
   "metadata": {},
   "outputs": [],
   "source": [
    "import tkinter as tk\n",
    "from tkinter import Menu\n",
    "\n",
    "# root window\n",
    "root = tk.Tk()\n",
    "root.title('Menu Demo')\n",
    "\n",
    "# create a menubar\n",
    "menubar = Menu(root)\n",
    "root.config(menu=menubar)\n",
    "\n",
    "# create a menu\n",
    "file_menu = Menu(menubar)\n",
    "\n",
    "# add a menu item to the menu\n",
    "file_menu.add_command(\n",
    "    label='Exit',\n",
    "    command=root.destroy\n",
    ")\n",
    "\n",
    "\n",
    "# add the File menu to the menubar\n",
    "menubar.add_cascade(\n",
    "    label=\"File\",\n",
    "    menu=file_menu\n",
    ")\n",
    "\n",
    "root.mainloop()"
   ]
  },
  {
   "cell_type": "code",
   "execution_count": 2,
   "id": "ddd7ae4d-6aa7-488a-9581-e8bf02227177",
   "metadata": {},
   "outputs": [
    {
     "name": "stdout",
     "output_type": "stream",
     "text": [
      "['tkinter.pdf', '2_6 - Tkinter Entry Widget.ipynb', '2_0 - Tkinter Widgets.ipynb', '2_2 - Tkinter Label Widget.ipynb', 'example - login_window.ipynb', '1_2 - Tkinter GUI App Architecture.ipynb', '.DS_Store', '2_5 - Tkinter RadioButton Widget.ipynb', '2_8 - Tkinter Menu Widget.ipynb', '2_1 - Tkinter Geometry Manager.ipynb', 'example - open_file_dialog.ipynb', '1_0 - Tkinter Tutorial.ipynb', 'basic-widget.py', '2_4 - Tkinter CheckButton Widget.ipynb', 'available_colors.ipynb', 'example - open_file_dialog_text.txt', 'available_fonts.ipynb', '1_1 - Introduction to Tkinter.ipynb', '1_3 - Tkinter Windows.ipynb', '2_3 - Tkinter Button Widget.ipynb', '2_7 - Tkinter Message Widget.ipynb']\n"
     ]
    }
   ],
   "source": [
    "# To list every file in specified folder\n",
    "# https://stackoverflow.com/questions/3207219/how-do-i-list-all-files-of-a-directory\n",
    "# https://stackoverflow.com/questions/3207219/how-do-i-list-all-files-of-a-directory\n",
    "\n",
    "from os import listdir\n",
    "from os.path import isfile, join\n",
    "# join method joins various path components \n",
    "# isFile method checks whether the specified path is an existing file\n",
    "\n",
    "mypath = \"/Users/admin/Documents/python/udemy_100_days_of_Code/Python/tkinter-intro\"\n",
    "onlyfiles = [f for f in listdir(mypath) if isfile(join(mypath, f))]\n",
    "print(onlyfiles)"
   ]
  },
  {
   "cell_type": "code",
   "execution_count": 1,
   "id": "2f2fc469-d82c-4faa-b22f-f349f4cf639e",
   "metadata": {},
   "outputs": [
    {
     "name": "stdout",
     "output_type": "stream",
     "text": [
      "['tkinter.pdf', '2_6 - Tkinter Entry Widget.ipynb', '2_0 - Tkinter Widgets.ipynb', '2_2 - Tkinter Label Widget.ipynb', 'example - login_window.ipynb', '1_2 - Tkinter GUI App Architecture.ipynb', '.DS_Store', '2_5 - Tkinter RadioButton Widget.ipynb', '2_8 - Tkinter Menu Widget.ipynb', '2_1 - Tkinter Geometry Manager.ipynb', 'example - open_file_dialog.ipynb', '1_0 - Tkinter Tutorial.ipynb', 'basic-widget.py', '2_4 - Tkinter CheckButton Widget.ipynb', 'available_colors.ipynb', 'example - open_file_dialog_text.txt', 'available_fonts.ipynb', '1_1 - Introduction to Tkinter.ipynb', '1_3 - Tkinter Windows.ipynb', '2_3 - Tkinter Button Widget.ipynb', '2_7 - Tkinter Message Widget.ipynb']\n"
     ]
    }
   ],
   "source": [
    "def only_files(file_path):\n",
    "    from os import listdir\n",
    "    from os.path import isfile, join\n",
    "    \n",
    "    onlyfiles = [f for f in listdir(file_path) if isfile(join(file_path, f))]\n",
    "    return onlyfiles\n",
    "\n",
    "mypath = \"/Users/admin/Documents/python/udemy_100_days_of_Code/Python/tkinter-intro\"\n",
    "print(only_files(mypath))"
   ]
  },
  {
   "cell_type": "code",
   "execution_count": 2,
   "id": "162e6a5a-8da8-4e05-bbac-405bb3c45f12",
   "metadata": {},
   "outputs": [
    {
     "name": "stdout",
     "output_type": "stream",
     "text": [
      "New\n",
      "{'activebackground': ('activebackground', '', '', '', ''), 'activeforeground': ('activeforeground', '', '', '', ''), 'accelerator': ('accelerator', '', '', '', ''), 'background': ('background', '', '', '', ''), 'bitmap': ('bitmap', '', '', '', ''), 'columnbreak': ('columnbreak', '', '', 0, 0), 'command': ('command', '', '', '', '140302631509056new_file_win'), 'compound': ('compound', 'compound', 'Compound', <index object: 'none'>, 'none'), 'font': ('font', '', '', '', ''), 'foreground': ('foreground', '', '', '', ''), 'hidemargin': ('hidemargin', '', '', 0, 0), 'image': ('image', '', '', '', ''), 'label': ('label', '', '', '', 'New'), 'state': ('state', '', '', <index object: 'normal'>, 'normal'), 'underline': ('underline', '', '', -1, -1)}\n"
     ]
    }
   ],
   "source": [
    "# Example is from https://tkdocs.com/tutorial/menus.html\n",
    "import tkinter\n",
    "from tkinter import *\n",
    "from tkinter import Menu\n",
    "import os\n",
    "from os import *\n",
    "\n",
    "win = Tk()\n",
    "win.title(\"Simple Menu\")\n",
    "\n",
    "\n",
    "\n",
    "# Create a menubar for a window\n",
    "menubar = Menu(win)\n",
    "win['menu'] = menubar\n",
    "\n",
    "# Plan to have \"File\" and \"Edit\" menus.\n",
    "# Add two menu widgets, each one is a child of the menuber\n",
    "menu_file = Menu(menubar)\n",
    "menu_edit = Menu(menubar)\n",
    "# Add them to the menu bar\n",
    "menubar.add_cascade(menu=menu_file, label='File')\n",
    "menubar.add_cascade(menu=menu_edit, label='Edit')\n",
    "\n",
    "\n",
    "# Adding menu items\n",
    "# Regular menu items are called command items in Tk. \n",
    "# Notice that menu items are part of the menu itself; \n",
    "# we don't have to create a separate menu widget for each one (submenus being the exception).\n",
    "def new_file_win():\n",
    "    pass\n",
    "\n",
    "def open_file_win():\n",
    "    pass\n",
    "\n",
    "def close_file_win():\n",
    "    pass\n",
    "\n",
    "menu_file.add_command(label='New', command=new_file_win)\n",
    "menu_file.add_command(label='Open...', command=open_file_win)\n",
    "menu_file.add_command(label='Close', command=close_file_win)\n",
    "\n",
    "menu_edit.add_command(label='Copy')\n",
    "menu_edit.add_command(label='Paste')\n",
    "\n",
    "# Each menu item has associated with it several configuration options, analogous to widget configuration options. \n",
    "# Each type of menu item has a different set of available options. \n",
    "# Cascade menu items have a menu option used to specify the submenu, \n",
    "# command menu items have a command option to specify the command to invoke when the item is chosen. \n",
    "# Both have a label option to specify the text to display for the item.\n",
    "\n",
    "\n",
    "# Cascade menu item can be used to add sub-menu.\n",
    "# Adding a sub-menu for \"recent files\"\n",
    "menu_recent = Menu(menu_file)\n",
    "menu_file.add_cascade(menu=menu_recent, label=\"Open Recent\")\n",
    "\n",
    "\n",
    "\n",
    "def openFile():\n",
    "    pass\n",
    "\n",
    "\n",
    "directory_path = \"/Users/admin/Documents/python/udemy_100_days_of_Code/Python/tkinter-intro\"\n",
    "recent_files = only_files(directory_path)\n",
    "for f in recent_files:\n",
    "    full_file_path = os.path.join(directory_path,f)\n",
    "    menu_recent.add_command(label=os.path.basename(f), command= lambda f=f: openFile(f))\n",
    "    \n",
    "# A third type of menu item is the separator, which produces the dividing line you often see between different menu items.\n",
    "menu_file.add_separator()\n",
    "\n",
    "# Checkbutton and Radiobutton items\n",
    "check = StringVar()\n",
    "menu_file.add_checkbutton(label='Check', variable=check, onvalue=1, offvalue=0)\n",
    "\n",
    "radio = StringVar()\n",
    "menu_file.add_radiobutton(label='One', variable=radio, value=1)\n",
    "menu_file.add_radiobutton(label='Two', variable=radio, value=2)\n",
    "\n",
    "# As well as adding items to the end of menus, you can also insert them in the middle of menus via the insert index type ?option value...? method; \n",
    "# here index is the position (0..n-1) of the item you want to insert before. \n",
    "# You can also delete one or more menu items using the delete index ?endidx? method.\n",
    "menu_recent.delete(0, 'end')\n",
    "\n",
    "# get label of top entry in menu\n",
    "print( menu_file.entrycget(0, 'label'))\n",
    "# show all options for an item\n",
    "print( menu_file.entryconfigure(0))\n",
    "\n",
    "# You can disable a menu item so that users cannot select it. \n",
    "# This can be done via the state option, setting it to the value disabled. \n",
    "# Use a value of normal to re-enable the item.\n",
    "menu_file.entryconfigure('Close', state=DISABLED) # greyed out in the menu\n",
    "\n",
    "# Change label \"Open Recent\" to \"Hide Bookmarks\"\n",
    "menu_file.entryconfigure(3, label='Hide Bookmarks')\n",
    "\n",
    "# Accelerator keys\n",
    "# The accelerator option is used to indicate a keyboard equivalent that corresponds to a menu item. \n",
    "# This does not actually create the accelerator, but only displays it next to the menu item. \n",
    "# You still need to create an event binding for the accelerator yourself.\n",
    "menu_edit.entryconfigure(\"Paste\", accelerator='Command+V')\n",
    "\n",
    "# Underline\n",
    "# On Windows and X11, you can also use other keys to jump to particular menus or menu items. \n",
    "# The keys that trigger these jumps are indicated by an underlined letter in the menu item's label. \n",
    "# To add one of these to a menu item, use the underline configuration option for the item. \n",
    "# Its value should be the index of the character you'd like underlined (from 0 to the length of the string - 1). \n",
    "# Unlike with accelerator keys, the menu will watch for the keystroke, so no separate event binding is needed.\n",
    "\n",
    "menu_edit.add_command(label='Path Browser', underline=5) # underline \"B\" (\"B\" is the 5th letter in the label. MacOS does not seem to show the underline)\n",
    "win.mainloop()"
   ]
  },
  {
   "cell_type": "markdown",
   "id": "a2bd8773-c7c2-4cea-b885-589dea528037",
   "metadata": {},
   "source": [
    "#### Menu Virtual Events (???)\n",
    "\n",
    "Platform conventions for menus suggest standard menus and items that should be available in most applications. For example, most applications have an \"Edit\" menu, with menu items for \"Copy,\" \"Paste,\" etc. Tk widgets like entry or text will react appropriately when those menu items are chosen. But if you're building your own menus, how do you make that work? What command would you assign to a \"Copy\" menu item?\n",
    "\n",
    "Tk handles this with virtual events. As you'll recall from the Tk Concepts chapter, these are high-level application events, as opposed to low-level operating system events. Tk's widgets will watch for specific events. When you build your menus, you can generate those events rather than directly invoking a callback function. Your application can create event bindings to watch for those events too.\n",
    "\n",
    "Here's a minimal example showing how we'd add two items to an \"Edit\" menu, the standard \"Paste\" item, and an application-specific \"Find...\" item that will open a dialog to find or search for something. We'll include an entry widget so that we can check that \"Paste\" works."
   ]
  },
  {
   "cell_type": "code",
   "execution_count": 3,
   "id": "4354afdf-5b80-4b04-94aa-e4428e28ace6",
   "metadata": {},
   "outputs": [],
   "source": [
    "from tkinter import *\n",
    "from tkinter import ttk, messagebox\n",
    "\n",
    "root = Tk()\n",
    "ttk.Entry(root).grid()\n",
    "m = Menu(root)\n",
    "m_edit = Menu(m)\n",
    "m.add_cascade(menu=m_edit, label=\"Edit\")\n",
    "m_edit.add_command(label=\"Paste\", command=lambda: root.focus_get().event_generate(\"<<Paste>>\"))\n",
    "m_edit.add_command(label=\"Find...\", command=lambda: root.event_generate(\"<<OpenFindDialog>>\"))\n",
    "root['menu'] = m\n",
    "\n",
    "def launchFindDialog(*args):\n",
    "    messagebox.showinfo(message=\"I hope you find what you're looking for!\")\n",
    "    \n",
    "root.bind(\"<<OpenFindDialog>>\", launchFindDialog)\n",
    "root.mainloop()"
   ]
  },
  {
   "cell_type": "code",
   "execution_count": null,
   "id": "29038895-5b0b-462a-940e-89f308910451",
   "metadata": {},
   "outputs": [],
   "source": []
  }
 ],
 "metadata": {
  "kernelspec": {
   "display_name": "Python 3",
   "language": "python",
   "name": "python3"
  },
  "language_info": {
   "codemirror_mode": {
    "name": "ipython",
    "version": 3
   },
   "file_extension": ".py",
   "mimetype": "text/x-python",
   "name": "python",
   "nbconvert_exporter": "python",
   "pygments_lexer": "ipython3",
   "version": "3.8.5"
  }
 },
 "nbformat": 4,
 "nbformat_minor": 5
}
