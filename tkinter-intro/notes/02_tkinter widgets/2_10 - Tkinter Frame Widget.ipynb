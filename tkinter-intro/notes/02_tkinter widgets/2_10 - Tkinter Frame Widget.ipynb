{
 "cells": [
  {
   "cell_type": "markdown",
   "id": "d72c1e8a-8bc1-4aeb-adfd-45865dd1c97d",
   "metadata": {},
   "source": [
    "## Tkinter Frame Widget\n",
    "\n",
    "For the reference of complete command options and methods:\n",
    "https://anzeljg.github.io/rin2/book2/2405/docs/tkinter/frame.html"
   ]
  },
  {
   "cell_type": "markdown",
   "id": "3be1f6d2-38ce-4b5b-a587-9e1f013696f1",
   "metadata": {},
   "source": [
    "## Tkinter Frame Widget Example"
   ]
  },
  {
   "cell_type": "code",
   "execution_count": 1,
   "id": "90ea497f-4125-46ac-bf2f-7c5b482d4aab",
   "metadata": {},
   "outputs": [],
   "source": [
    "from tkinter import *\n",
    "\n",
    "root = Tk()\n",
    "root.geometry(\"300x150\")\n",
    "\n",
    "w = Label(root, text = \"StudyTonight\", font = \"80\")\n",
    "w.pack()\n",
    "\n",
    "frame = Frame(root)\n",
    "frame.pack()\n",
    "\n",
    "bottomframe = Frame(root)\n",
    "bottomframe.pack(side=BOTTOM)\n",
    "\n",
    "button1 = Button(frame, text=\"Block1\", fg=\"red\")\n",
    "button1.pack(side=LEFT)\n",
    "\n",
    "button2 = Button(frame, text=\"Block2\", fg=\"brown\")\n",
    "button2.pack(side=LEFT)\n",
    "\n",
    "button3 = Button(frame, text =\"Block3\", fg =\"blue\") \n",
    "button3.pack(side = LEFT) \n",
    "\n",
    "button4 = Button(bottomframe, text =\"Block4\", fg =\"orange\") \n",
    "button4.pack(side = BOTTOM) \n",
    "\n",
    "button5 = Button(bottomframe, text =\"Block5\", fg =\"orange\") \n",
    "button5.pack(side = BOTTOM) \n",
    "\n",
    "button6 = Button(bottomframe, text =\"Block6\", fg =\"orange\") \n",
    "button6.pack(side = BOTTOM) \n",
    "\n",
    "root.mainloop()"
   ]
  },
  {
   "cell_type": "code",
   "execution_count": null,
   "id": "529438fd-f416-4ac8-bf95-1af649ee3e9f",
   "metadata": {},
   "outputs": [],
   "source": []
  }
 ],
 "metadata": {
  "kernelspec": {
   "display_name": "Python 3 (ipykernel)",
   "language": "python",
   "name": "python3"
  },
  "language_info": {
   "codemirror_mode": {
    "name": "ipython",
    "version": 3
   },
   "file_extension": ".py",
   "mimetype": "text/x-python",
   "name": "python",
   "nbconvert_exporter": "python",
   "pygments_lexer": "ipython3",
   "version": "3.8.12"
  }
 },
 "nbformat": 4,
 "nbformat_minor": 5
}
