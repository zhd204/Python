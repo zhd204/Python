{
 "cells": [
  {
   "cell_type": "markdown",
   "id": "d72c1e8a-8bc1-4aeb-adfd-45865dd1c97d",
   "metadata": {},
   "source": [
    "## Tkinter Spinbox Widget\n",
    "\n",
    "For the reference of complete command options and methods:\n",
    "https://anzeljg.github.io/rin2/book2/2405/docs/tkinter/spinbox.html\n",
    "\n",
    "https://www.pythontutorial.net/tkinter/tkinter-spinbox/"
   ]
  },
  {
   "cell_type": "markdown",
   "id": "3be1f6d2-38ce-4b5b-a587-9e1f013696f1",
   "metadata": {},
   "source": [
    "## Tkinter Spinbox Widget Example"
   ]
  },
  {
   "cell_type": "code",
   "execution_count": 1,
   "id": "ab2f6b30-db8d-41ea-8aa5-81c2d7e3c27a",
   "metadata": {},
   "outputs": [],
   "source": [
    "from tkinter import *\n",
    "\n",
    "win = Tk() \n",
    "win.geometry(\"300x200\") \n",
    "\n",
    "w = Label(win, text ='StudyTonight', fg=\"navyblue\",font = \"50\") \n",
    "w.pack() \n",
    "\n",
    "sp = Spinbox(win, from_= 0, to = 50) \n",
    "sp.pack() \n",
    "\n",
    "win.mainloop() "
   ]
  },
  {
   "cell_type": "code",
   "execution_count": 23,
   "id": "9fbc00a8-3b48-4d8b-a83f-f835de45d52f",
   "metadata": {},
   "outputs": [],
   "source": [
    "# https://www.pythontutorial.net/tkinter/tkinter-spinbox/\n",
    "import tkinter as tk\n",
    "from tkinter import ttk\n",
    "\n",
    "\n",
    "# root window\n",
    "root = tk.Tk()\n",
    "root.geometry('300x200')\n",
    "root.resizable(False, False)\n",
    "root.title('Spinbox Demo')\n",
    "\n",
    "current_value = tk.StringVar(value=0)\n",
    "\n",
    "def value_changed():\n",
    "    return current_value.get()\n",
    "\n",
    "def update_value():\n",
    "    label.configure(text=f'current value: {value_changed()}')\n",
    "    \n",
    "# Label\n",
    "label = tk.Label(root, text=f'current value: {value_changed()}')\n",
    "label.pack()\n",
    "\n",
    "# Spinbox\n",
    "spin_box = ttk.Spinbox(\n",
    "    root,\n",
    "    from_=0,\n",
    "    to=30,\n",
    "    textvariable=current_value,\n",
    "    command=update_value,\n",
    "    wrap=True)\n",
    "# Set wrap=True to set the current value to the minimum value when it reaches the maximum value and vice versa.\n",
    "\n",
    "spin_box.pack()\n",
    "\n",
    "root.mainloop()"
   ]
  },
  {
   "cell_type": "code",
   "execution_count": 24,
   "id": "b476cc41-5f9e-487a-81a8-b837230d9320",
   "metadata": {
    "tags": []
   },
   "outputs": [],
   "source": [
    "# https://www.pythontutorial.net/tkinter/tkinter-spinbox/\n",
    "\n",
    "import tkinter as tk\n",
    "from tkinter import ttk\n",
    "\n",
    "\n",
    "# root window\n",
    "root = tk.Tk()\n",
    "root.geometry('300x200')\n",
    "root.resizable(False, False)\n",
    "root.title('Spinbox Demo')\n",
    "\n",
    "\n",
    "# Spinbox\n",
    "current_value = tk.StringVar()\n",
    "spin_box = ttk.Spinbox(\n",
    "    root,\n",
    "    from_=0,\n",
    "    to=50,\n",
    "    values=(0, 10, 20, 30, 40, 50), # Setting up discrete steps\n",
    "    textvariable=current_value,\n",
    "    wrap=True)\n",
    "# Set wrap=True to set the current value to the minimum value when it reaches the maximum value and vice versa.\n",
    "\n",
    "spin_box.pack()\n",
    "\n",
    "root.mainloop()"
   ]
  },
  {
   "cell_type": "code",
   "execution_count": null,
   "id": "cc7381ef-3cc0-448f-8a97-3853cf337367",
   "metadata": {},
   "outputs": [],
   "source": []
  }
 ],
 "metadata": {
  "kernelspec": {
   "display_name": "Python 3",
   "language": "python",
   "name": "python3"
  },
  "language_info": {
   "codemirror_mode": {
    "name": "ipython",
    "version": 3
   },
   "file_extension": ".py",
   "mimetype": "text/x-python",
   "name": "python",
   "nbconvert_exporter": "python",
   "pygments_lexer": "ipython3",
   "version": "3.8.5"
  }
 },
 "nbformat": 4,
 "nbformat_minor": 5
}
