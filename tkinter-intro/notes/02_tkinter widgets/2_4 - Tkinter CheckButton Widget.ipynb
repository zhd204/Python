{
 "cells": [
  {
   "cell_type": "markdown",
   "id": "d72c1e8a-8bc1-4aeb-adfd-45865dd1c97d",
   "metadata": {},
   "source": [
    "## Tkinter Checkbutton Widget\n",
    "\n",
    "For the reference of complete command options and methods:\n",
    "https://anzeljg.github.io/rin2/book2/2405/docs/tkinter/checkbutton.html\n",
    "\n",
    "If you want to display a number of options in a form, where users can check to select any option, we can use the Tkinter Checkbutton widget. It allows you to select **multiple options or a single option** at a time just by clicking the button corresponding to each option.\n",
    "\n",
    "For example, in a form, you see option to fill in your Gender, it has options, Male, Female, Others, etc., and you can tick on any of the options, that is a checkbox.\n",
    "It can either contain **text or image**. There are a number of options available to configure the Checkbutton widget as per your requirement.\n",
    "\n",
    "The syntax of the label widget is given below,\n",
    "\n",
    "    W = Checkbutton(master,options)\n",
    "In the above syntax, the **master** parameter denotes the **parent window**. You can use many options to configure your checkbutton widget and these options are written as **comma-separated key-value pairs**."
   ]
  },
  {
   "cell_type": "markdown",
   "id": "3be1f6d2-38ce-4b5b-a587-9e1f013696f1",
   "metadata": {},
   "source": [
    "## Tkinter Checkbutton Widget Example"
   ]
  },
  {
   "cell_type": "code",
   "execution_count": 26,
   "id": "90ea497f-4125-46ac-bf2f-7c5b482d4aab",
   "metadata": {},
   "outputs": [],
   "source": [
    "from tkinter import *\n",
    "\n",
    "root = Tk()\n",
    "root.geometry(\"300x300\")\n",
    "\n",
    "w = Label(root, text=\"Hello\", fg=\"Blue\", font='100')\n",
    "w.pack()\n",
    "\n",
    "# Define control variables\n",
    "Checkbutton1 = IntVar() \n",
    "Checkbutton2 = IntVar()\n",
    "Checkbutton3 = IntVar()\n",
    "\n",
    "Button1 = Checkbutton(root, text=\"Homepage\", variable=Checkbutton1, onvalue=1, offvalue=0, height=2, width=10)\n",
    "\n",
    "Button2 = Checkbutton(root, text=\"Tutorials\", variable=Checkbutton2, onvalue=1, offvalue=0, height=2, width=10)\n",
    "\n",
    "Button3 = Checkbutton(root, text=\"Contacts\", variable=Checkbutton3, onvalue=1, offvalue=0, height=2, width=10)\n",
    "\n",
    "Button1.pack()\n",
    "Button2.pack()\n",
    "Button3.pack()\n",
    "\n",
    "root.mainloop()"
   ]
  },
  {
   "cell_type": "code",
   "execution_count": null,
   "id": "6535c42c-5f2e-4565-8bda-83a8dc55df12",
   "metadata": {},
   "outputs": [],
   "source": []
  }
 ],
 "metadata": {
  "kernelspec": {
   "display_name": "Python 3",
   "language": "python",
   "name": "python3"
  },
  "language_info": {
   "codemirror_mode": {
    "name": "ipython",
    "version": 3
   },
   "file_extension": ".py",
   "mimetype": "text/x-python",
   "name": "python",
   "nbconvert_exporter": "python",
   "pygments_lexer": "ipython3",
   "version": "3.8.5"
  }
 },
 "nbformat": 4,
 "nbformat_minor": 5
}
