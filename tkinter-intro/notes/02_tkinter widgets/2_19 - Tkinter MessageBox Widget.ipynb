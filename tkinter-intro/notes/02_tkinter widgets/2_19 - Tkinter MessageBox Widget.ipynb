{
 "cells": [
  {
   "cell_type": "markdown",
   "id": "d72c1e8a-8bc1-4aeb-adfd-45865dd1c97d",
   "metadata": {},
   "source": [
    "## Tkinter MessageBox Widget\n",
    "\n",
    "For the reference of complete command options and methods:\n",
    "https://anzeljg.github.io/rin2/book2/2405/docs/tkinter/tkMessageBox.html\n",
    "\n",
    "Syntax:\n",
    "\n",
    "    messagebox.function_name(title, message [, options])  \n",
    "    \n",
    "function_name:\n",
    "- .askokcancel(title, message, options)\n",
    "- .askquestion(title, message, options)\n",
    "- .askretrycancel(title, message, options)\n",
    "- .askyesno(title, message, options)\n",
    "- .showerror(title, message, options)\n",
    "- .showinfo(title, message, options)\n",
    "- .showwarning(title, message, options)"
   ]
  },
  {
   "cell_type": "markdown",
   "id": "3be1f6d2-38ce-4b5b-a587-9e1f013696f1",
   "metadata": {},
   "source": [
    "## Tkinter MessageBox Widget Example"
   ]
  },
  {
   "cell_type": "code",
   "execution_count": 1,
   "id": "ab2f6b30-db8d-41ea-8aa5-81c2d7e3c27a",
   "metadata": {},
   "outputs": [],
   "source": [
    "from tkinter import *  \n",
    "  \n",
    "from tkinter import messagebox  \n",
    "  \n",
    "win = Tk()  \n",
    "win.geometry(\"200x200\")  \n",
    "messagebox.showwarning(\"warning\",\"This is a Warning\")  \n",
    "  \n",
    "win.mainloop() "
   ]
  },
  {
   "cell_type": "code",
   "execution_count": 3,
   "id": "a9595c94-1f2e-4378-bd09-f2b050fcc52c",
   "metadata": {},
   "outputs": [],
   "source": [
    "from tkinter import *  \n",
    "from tkinter import messagebox  \n",
    "  \n",
    "win = Tk()  \n",
    "win.geometry(\"100x100\")  \n",
    "messagebox.askquestion(\"Confirm\",\"Are you sure about it?\")  \n",
    "win.mainloop()  "
   ]
  },
  {
   "cell_type": "code",
   "execution_count": null,
   "id": "d8cd891d-370a-4f9c-829f-38b1a7ae99b6",
   "metadata": {},
   "outputs": [],
   "source": []
  }
 ],
 "metadata": {
  "kernelspec": {
   "display_name": "Python 3 (ipykernel)",
   "language": "python",
   "name": "python3"
  },
  "language_info": {
   "codemirror_mode": {
    "name": "ipython",
    "version": 3
   },
   "file_extension": ".py",
   "mimetype": "text/x-python",
   "name": "python",
   "nbconvert_exporter": "python",
   "pygments_lexer": "ipython3",
   "version": "3.8.12"
  }
 },
 "nbformat": 4,
 "nbformat_minor": 5
}
