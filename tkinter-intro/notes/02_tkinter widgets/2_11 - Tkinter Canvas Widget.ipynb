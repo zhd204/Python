{
 "cells": [
  {
   "cell_type": "markdown",
   "id": "d72c1e8a-8bc1-4aeb-adfd-45865dd1c97d",
   "metadata": {},
   "source": [
    "## Tkinter Canvas Widget\n",
    "\n",
    "For the reference of complete command options and methods:\n",
    "https://anzeljg.github.io/rin2/book2/2405/docs/tkinter/canvas.html\n",
    "\n",
    "https://tkdocs.com/tutorial/canvas.html"
   ]
  },
  {
   "cell_type": "markdown",
   "id": "3be1f6d2-38ce-4b5b-a587-9e1f013696f1",
   "metadata": {},
   "source": [
    "## Tkinter Canvas Widget Example"
   ]
  },
  {
   "cell_type": "code",
   "execution_count": 1,
   "id": "90ea497f-4125-46ac-bf2f-7c5b482d4aab",
   "metadata": {},
   "outputs": [],
   "source": [
    "from tkinter import *   \n",
    "  \n",
    "# window named top\n",
    "top = Tk()  \n",
    "# set height and width of window \n",
    "top.geometry(\"600x600\")  \n",
    "  \n",
    "#creating a simple canvas with canvas widget  \n",
    "cv = Canvas(top, bg = \"yellow\", width = \"600\", height = \"600\")  \n",
    "\n",
    "# arc − Creates an arc item, which can be a chord, a pieslice or a simple arc.\n",
    "coord = 10, 50, 240, 210\n",
    "arc = cv.create_arc(coord, start=0, extent=150, fill=\"blue\")\n",
    "\n",
    "# image − Creates an image item, which can be an instance of either the BitmapImage or the PhotoImage classes.\n",
    "filename = PhotoImage(file = \"sun-waving.gif\")\n",
    "image = cv.create_image(400, 150, image=filename)\n",
    "\n",
    "# oval − Creates a circle or an ellipse at the given coordinates. \n",
    "# It takes two pairs of coordinates; the top left and bottom right corners of the bounding rectangle for the oval.\n",
    "# oval = canvas.create_oval(x0, y0, x1, y1, options)\n",
    "oval = cv.create_oval(50, 200, 250, 400)\n",
    "\n",
    "# line − Creates a line item.\n",
    "# line = canvas.create_line(x0, y0, x1, y1, ..., xn, yn, options)\n",
    "line = cv.create_line(50, 150, 150, 150, 250, 150)\n",
    "\n",
    "# polygon − Creates a polygon item that must have at least three vertices.\n",
    "# polygon = canvas.create_polygon(x0, y0, x1, y1,...xn, yn, options)\n",
    "polygon = cv.create_polygon(300, 500, 500, 500, 400, 300)\n",
    "\n",
    "cv.pack()\n",
    "top.mainloop()"
   ]
  },
  {
   "cell_type": "code",
   "execution_count": 2,
   "id": "529438fd-f416-4ac8-bf95-1af649ee3e9f",
   "metadata": {},
   "outputs": [],
   "source": [
    "import tkinter\n",
    "\n",
    "# init tk\n",
    "root = tkinter.Tk()\n",
    "\n",
    "# creating canvas\n",
    "mCanvas = tkinter.Canvas(root, bg=\"white\", height=300, width=300)\n",
    "\n",
    "# drawing two arcs\n",
    "# extent : Width of the slice in degrees. The slice starts at the angle given by the start option and extends counterclockwise for extent degrees.\n",
    "# fill : By default, the interior of an arc is transparent, and fill='' will select this behavior. \n",
    "# You can also set this option to any color and the interior of the arc will be filled with that color.\n",
    "coord = 10, 10, 300, 300\n",
    "arc1 = mCanvas.create_arc(coord, start=0, extent=150, fill=\"pink\")\n",
    "arc2 = mCanvas.create_arc(coord, start=150, extent=215, fill=\"blue\")\n",
    "\n",
    "# adding canvas to window and display it\n",
    "mCanvas.pack()\n",
    "root.mainloop()"
   ]
  },
  {
   "cell_type": "code",
   "execution_count": null,
   "id": "a33a5722-3cc1-4ef8-89a4-2ab81b927171",
   "metadata": {},
   "outputs": [],
   "source": []
  }
 ],
 "metadata": {
  "kernelspec": {
   "display_name": "Python 3 (ipykernel)",
   "language": "python",
   "name": "python3"
  },
  "language_info": {
   "codemirror_mode": {
    "name": "ipython",
    "version": 3
   },
   "file_extension": ".py",
   "mimetype": "text/x-python",
   "name": "python",
   "nbconvert_exporter": "python",
   "pygments_lexer": "ipython3",
   "version": "3.8.12"
  }
 },
 "nbformat": 4,
 "nbformat_minor": 5
}