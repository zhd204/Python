{
 "cells": [
  {
   "cell_type": "markdown",
   "id": "d72c1e8a-8bc1-4aeb-adfd-45865dd1c97d",
   "metadata": {},
   "source": [
    "## Tkinter Menubutton Widget\n",
    "\n",
    "For the reference of complete command options and methods:\n",
    "https://anzeljg.github.io/rin2/book2/2405/docs/tkinter/menubutton.html"
   ]
  },
  {
   "cell_type": "markdown",
   "id": "3be1f6d2-38ce-4b5b-a587-9e1f013696f1",
   "metadata": {},
   "source": [
    "## Tkinter Menubutton Widget Example"
   ]
  },
  {
   "cell_type": "code",
   "execution_count": null,
   "id": "90ea497f-4125-46ac-bf2f-7c5b482d4aab",
   "metadata": {},
   "outputs": [],
   "source": [
    "from tkinter import *\n",
    "import tkinter\n",
    "\n",
    "win = Tk()\n",
    "\n",
    "mbtn = Menubutton(win, text=\"Courses\", relief=RAISED)\n",
    "mbtn.grid()\n",
    "mbtn.menu = Menu(mbtn, tearoff = 0)\n",
    "mbtn[\"menu\"] = mbtn.menu\n",
    "\n",
    "pythonVar = IntVar()\n",
    "javaVar = IntVar()\n",
    "phpVar = IntVar()\n",
    "\n",
    "mbtn.menu.add_checkbutton(label=\"Python\", variable=pythonVar)\n",
    "mbtn.menu.add_checkbutton(label=\"Java\", variable=javaVar)\n",
    "mbtn.menu.add_checkbutton(label=\"PHP\", variable=phpVar)\n",
    "\n",
    "\n",
    "mbtn.pack()\n",
    "win.mainloop()"
   ]
  },
  {
   "cell_type": "code",
   "execution_count": null,
   "id": "e5c55f7f-33da-4554-a5ca-8ecc1cf07578",
   "metadata": {},
   "outputs": [],
   "source": [
    "from tkinter import *\n",
    "\n",
    "top = Tk()\n",
    "\n",
    "mb = Menubutton(top, text=\"condiments\", relief=RAISED)\n",
    "mb.grid()\n",
    "other=  Menu(mb)\n",
    "mb[\"menu\"] =  other\n",
    "\n",
    "mayoVar = IntVar()\n",
    "ketchVar = IntVar()\n",
    "\n",
    "other.add_checkbutton(label=\"mayo\", variable=mayoVar)\n",
    "other.add_checkbutton(label=\"ketchup\", variable=ketchVar)\n",
    "\n",
    "mb.pack()\n",
    "top.mainloop()"
   ]
  },
  {
   "cell_type": "code",
   "execution_count": null,
   "id": "5029c471-38eb-4caa-a755-57f88032ec5b",
   "metadata": {},
   "outputs": [],
   "source": []
  }
 ],
 "metadata": {
  "kernelspec": {
   "display_name": "Python 3",
   "language": "python",
   "name": "python3"
  },
  "language_info": {
   "codemirror_mode": {
    "name": "ipython",
    "version": 3
   },
   "file_extension": ".py",
   "mimetype": "text/x-python",
   "name": "python",
   "nbconvert_exporter": "python",
   "pygments_lexer": "ipython3",
   "version": "3.8.5"
  }
 },
 "nbformat": 4,
 "nbformat_minor": 5
}
