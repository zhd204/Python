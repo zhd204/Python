{
 "cells": [
  {
   "cell_type": "markdown",
   "id": "cb61992e-3776-4322-bb65-daa1c748a0f2",
   "metadata": {},
   "source": [
    "In this tutorial, we will cover an overview of Tkinter widgets in Python. These widgets are the functional units on any Tkinter GUI application."
   ]
  },
  {
   "cell_type": "markdown",
   "id": "d72c1e8a-8bc1-4aeb-adfd-45865dd1c97d",
   "metadata": {},
   "source": [
    "## Tkinter Widgets\n",
    "\n",
    "\n",
    "There are various controls, such as buttons, labels, scrollbars, radio buttons, and text boxes used in a GUI application. These little components or controls of Graphical User Interface (GUI) are known as widgets in Tkinter.\n",
    "\n",
    "![title](images/widgets.jpeg)"
   ]
  },
  {
   "cell_type": "markdown",
   "id": "fd6a6117-d723-46da-99ed-52024f64a13a",
   "metadata": {},
   "source": [
    "These are 19 widgets available in Python Tkinter module. Below we have all the widgets listed down with a basic description:"
   ]
  },
  {
   "cell_type": "markdown",
   "id": "d691cb7a-4408-4afc-bc54-690bf3ac4b1b",
   "metadata": {},
   "source": [
    "| **Name of Widget**| **Description** |\n",
    "| :----------- | :----------- |\n",
    "| Button | If you want to add a button in your application then Button widget will be used. |\n",
    "| Canvas | To draw a complex layout and pictures (like graphics, text, etc.)Canvas Widget will be used. |\n",
    "| CheckButton | If you want to display a number of options as checkboxes then Checkbutton widget is used. It allows you to select multiple options at a time. |\n",
    "| Entry | To display a **single-line text field** that accepts values from the user Entry widget will be used. |\n",
    "| Frame | In order to group and organize another widgets Frame widget will be used. Basically it acts as **a container that holds other widgets**. |\n",
    "| Label | To Provide a **single line caption** to another widget Label widget will be used. It can **contain images** too. |\n",
    "| ListBox | To provide a user with a list of options the Listbox widget will be used. |\n",
    "| Menu | To provides commands to the user Menu widget will be used. Basically these **commands are inside the Menubutton**. This widget mainly creates **all kinds of Menus** required in the application. |\n",
    "| Menubutton | The Menubutton widget is used to display the menu items to the user. |\n",
    "| Messgae | The **message widget** mainly displays a message box to the user. Basically it is a **multi-line text which is non-editable**. |\n",
    "| Radiobutton | If you want the number of options to be displayed as radio buttons then the Radiobutton widget will be used. You can **select one at a time**. |\n",
    "| Scale | Scale widget is mainly a **graphical slider** that allows you to select values from the scale. |\n",
    "| Scrollbar | To scroll the window up and down the scrollbar widget in python will be used. |\n",
    "| Text | The text widget mainly provides **a multi-line text field** to the user where users **can enter or edit**the text and it is different from Entry and Message. |\n",
    "| Toplevel | The Toplevel widget is mainly used to provide us with **a separate window container**. |\n",
    "| SpinBox | The SpinBox acts as an entry to the \"Entry widget\" in which value can be input just by selecting a fixed value of numbers. |\n",
    "| PanedWindow | The PanedWindow is also **a container widget** that is mainly used to handle different panes. Panes arranged inside it can either Horizontal or vertical. |\n",
    "| LabelFrame | The LabelFrame widget is also **a container widget** used to mainly handle the complex widgets. |\n",
    "| MessageBox | The MessageBox widget is mainly used to display messages in the Desktop applications. |"
   ]
  }
 ],
 "metadata": {
  "kernelspec": {
   "display_name": "Python 3",
   "language": "python",
   "name": "python3"
  },
  "language_info": {
   "codemirror_mode": {
    "name": "ipython",
    "version": 3
   },
   "file_extension": ".py",
   "mimetype": "text/x-python",
   "name": "python",
   "nbconvert_exporter": "python",
   "pygments_lexer": "ipython3",
   "version": "3.8.5"
  }
 },
 "nbformat": 4,
 "nbformat_minor": 5
}
