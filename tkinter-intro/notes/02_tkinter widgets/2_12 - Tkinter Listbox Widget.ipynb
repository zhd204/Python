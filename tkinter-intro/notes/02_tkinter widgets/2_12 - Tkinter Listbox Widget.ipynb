{
 "cells": [
  {
   "cell_type": "markdown",
   "id": "d72c1e8a-8bc1-4aeb-adfd-45865dd1c97d",
   "metadata": {},
   "source": [
    "## Tkinter Scale Widget\n",
    "\n",
    "For the reference of complete command options and methods:\n",
    "https://anzeljg.github.io/rin2/book2/2405/docs/tkinter/listbox.html"
   ]
  },
  {
   "cell_type": "markdown",
   "id": "3be1f6d2-38ce-4b5b-a587-9e1f013696f1",
   "metadata": {},
   "source": [
    "## Tkinter Listbox Widget Example"
   ]
  },
  {
   "cell_type": "code",
   "execution_count": 5,
   "id": "90ea497f-4125-46ac-bf2f-7c5b482d4aab",
   "metadata": {},
   "outputs": [
    {
     "name": "stdout",
     "output_type": "stream",
     "text": [
      "('Python', 'Java', 'C', 'C++')\n"
     ]
    }
   ],
   "source": [
    "from tkinter import *   \n",
    "\n",
    "top = Tk()\n",
    "top.geometry(\"200x250\")\n",
    "lbl = Label(top, text=\"List of Programming Languages\")\n",
    "\n",
    "list_variable = StringVar()\n",
    "listbox = Listbox(top, listvariable=list_variable)\n",
    "\n",
    "listbox.insert(1, \"Python\")\n",
    "listbox.insert(2, \"Java\")\n",
    "listbox.insert(3, \"C\")\n",
    "listbox.insert(4, \"C++\")\n",
    "\n",
    "lbl.pack()\n",
    "listbox.pack()\n",
    "\n",
    "print(list_variable.get())\n",
    "top.mainloop()"
   ]
  },
  {
   "cell_type": "code",
   "execution_count": 3,
   "id": "529438fd-f416-4ac8-bf95-1af649ee3e9f",
   "metadata": {},
   "outputs": [],
   "source": [
    "import tkinter as tk\n",
    "\n",
    "win = tk.Tk()\n",
    "yScroll = tk.Scrollbar(win, orient=tk.VERTICAL)\n",
    "yScroll.grid(row=0, column=1, sticky=tk.N+tk.S)\n",
    "\n",
    "xScroll = tk.Scrollbar(win, orient=tk.HORIZONTAL)\n",
    "xScroll.grid(row=1, column=0, sticky=tk.E+tk.W)\n",
    "\n",
    "#If you want to allow the user to scroll the listbox horizontally/vertically,\n",
    "# you can link your listbox widget to a horizontal/vertical scrollbar. \n",
    "# Set this option to the .set method of the scrollbar. \n",
    "listbox = tk.Listbox(win, xscrollcommand=xScroll.set, yscrollcommand=yScroll.set)\n",
    "\n",
    "for values in range(100):\n",
    "    listbox.insert(tk.END, str(values) * 20) # Scrollbar does not show up if the contents fit in.\n",
    "    \n",
    "listbox.grid(row=0, column=0, sticky=tk.N+tk.S+tk.E+tk.W)\n",
    "# To make the listbox horizontally scrollable, set the command option of the associated horizontal scrollbar to this method. \n",
    "xScroll['command'] = listbox.xview\n",
    "# To make the listbox vertically scrollable, set the command option of the associated vertical scrollbar to this method.\n",
    "yScroll['command'] = listbox.yview\n",
    "\n",
    "win.mainloop()"
   ]
  },
  {
   "cell_type": "code",
   "execution_count": 10,
   "id": "a33a5722-3cc1-4ef8-89a4-2ab81b927171",
   "metadata": {},
   "outputs": [],
   "source": [
    "from tkinter import *\n",
    "  \n",
    "  \n",
    "# Creating the root window\n",
    "root = Tk()\n",
    "  \n",
    "# Creating a Listbox and\n",
    "# attaching it to root window\n",
    "listbox = Listbox(root)\n",
    "  \n",
    "# Adding Listbox to the left\n",
    "# side of root window\n",
    "listbox.pack(side = LEFT, fill = BOTH)\n",
    "  \n",
    "# Creating a Scrollbar and \n",
    "# attaching it to root window\n",
    "scrollbar = Scrollbar(root)\n",
    "  \n",
    "# Adding Scrollbar to the right\n",
    "# side of root window\n",
    "scrollbar.pack(side = RIGHT, fill = BOTH)\n",
    "  \n",
    "# Insert elements into the listbox\n",
    "for values in range(100):\n",
    "    listbox.insert(END, values)\n",
    "      \n",
    "# Attaching Listbox to Scrollbar\n",
    "# Since we need to have a vertical \n",
    "# scroll we use yscrollcommand\n",
    "listbox.config(yscrollcommand = scrollbar.set)\n",
    "  \n",
    "# setting scrollbar command parameter \n",
    "# to listbox.yview method its yview because\n",
    "# we need to have a vertical view\n",
    "scrollbar.config(command = listbox.yview)\n",
    "  \n",
    "root.mainloop()"
   ]
  },
  {
   "cell_type": "code",
   "execution_count": null,
   "id": "aa92d7db-3046-40b2-a805-ce63dd39df42",
   "metadata": {},
   "outputs": [],
   "source": []
  }
 ],
 "metadata": {
  "kernelspec": {
   "display_name": "Python 3",
   "language": "python",
   "name": "python3"
  },
  "language_info": {
   "codemirror_mode": {
    "name": "ipython",
    "version": 3
   },
   "file_extension": ".py",
   "mimetype": "text/x-python",
   "name": "python",
   "nbconvert_exporter": "python",
   "pygments_lexer": "ipython3",
   "version": "3.8.5"
  }
 },
 "nbformat": 4,
 "nbformat_minor": 5
}
