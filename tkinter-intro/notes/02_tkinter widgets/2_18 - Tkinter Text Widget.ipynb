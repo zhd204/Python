{
 "cells": [
  {
   "cell_type": "markdown",
   "id": "d72c1e8a-8bc1-4aeb-adfd-45865dd1c97d",
   "metadata": {},
   "source": [
    "## Tkinter Text Widget\n",
    "\n",
    "For the reference of complete command options and methods:\n",
    "https://anzeljg.github.io/rin2/book2/2405/docs/tkinter/text.html"
   ]
  },
  {
   "cell_type": "markdown",
   "id": "3be1f6d2-38ce-4b5b-a587-9e1f013696f1",
   "metadata": {},
   "source": [
    "## Tkinter Text Widget Example"
   ]
  },
  {
   "cell_type": "code",
   "execution_count": 2,
   "id": "ab2f6b30-db8d-41ea-8aa5-81c2d7e3c27a",
   "metadata": {},
   "outputs": [],
   "source": [
    "import tkinter as tk \n",
    "from tkinter import *\n",
    "\n",
    "win = Tk() \n",
    "\n",
    "#to specify size of window. \n",
    "win.geometry(\"250x170\") \n",
    "\n",
    "# To Create a text widget and specify size. \n",
    "T = Text(win, height = 6, width = 53) \n",
    "\n",
    "# TO Create label \n",
    "l = Label(win, text = \"Quote for the Day\") \n",
    "l.config(font =(\"Courier\", 14)) \n",
    "\n",
    "Quote = \"\"\"Success usually comes to those who are too busy to be looking for it\"\"\"\n",
    "\n",
    "# Create a button for the next text. \n",
    "b1 = Button(win, text = \"Next\") \n",
    "\n",
    "# Create an Exit button. \n",
    "b2 = Button(win, text = \"Exit\", command = win.destroy) \n",
    "\n",
    "l.pack() \n",
    "T.pack() \n",
    "b1.pack() \n",
    "b2.pack() \n",
    "\n",
    "# Insert the Quote \n",
    "T.insert(tk.END, Quote) \n",
    "\n",
    "tk.mainloop() "
   ]
  },
  {
   "cell_type": "code",
   "execution_count": 3,
   "id": "beafa701-1f0b-47cb-a4f9-a4ea568df18a",
   "metadata": {},
   "outputs": [],
   "source": [
    "from tkinter import Tk, Text\n",
    "\n",
    "root = Tk()\n",
    "root.resizable(False, False)\n",
    "root.title(\"Text Widget Example\")\n",
    "\n",
    "text = Text(root, height=8)\n",
    "text.pack()\n",
    "\n",
    "# position format 'line.column', e.g. 1.0 means line 1 and character 0\n",
    "text.insert('1.0', 'This is a Text widget demo') \n",
    "\n",
    "root.mainloop()"
   ]
  },
  {
   "cell_type": "code",
   "execution_count": null,
   "id": "6333491c-0124-4860-96e1-4301b511f930",
   "metadata": {},
   "outputs": [],
   "source": []
  }
 ],
 "metadata": {
  "kernelspec": {
   "display_name": "Python 3 (ipykernel)",
   "language": "python",
   "name": "python3"
  },
  "language_info": {
   "codemirror_mode": {
    "name": "ipython",
    "version": 3
   },
   "file_extension": ".py",
   "mimetype": "text/x-python",
   "name": "python",
   "nbconvert_exporter": "python",
   "pygments_lexer": "ipython3",
   "version": "3.8.12"
  }
 },
 "nbformat": 4,
 "nbformat_minor": 5
}
