{
 "cells": [
  {
   "cell_type": "markdown",
   "id": "d72c1e8a-8bc1-4aeb-adfd-45865dd1c97d",
   "metadata": {},
   "source": [
    "## Tkinter PanedWindow Widget\n",
    "\n",
    "For the reference of complete command options and methods:\n",
    "https://anzeljg.github.io/rin2/book2/2405/docs/tkinter/panedwindow.html\n",
    "\n",
    "https://anzeljg.github.io/rin2/book2/2405/docs/tkinter/pane-options.html"
   ]
  },
  {
   "cell_type": "markdown",
   "id": "3be1f6d2-38ce-4b5b-a587-9e1f013696f1",
   "metadata": {},
   "source": [
    "## Tkinter PanedWindow Widget Example"
   ]
  },
  {
   "cell_type": "code",
   "execution_count": 1,
   "id": "ab2f6b30-db8d-41ea-8aa5-81c2d7e3c27a",
   "metadata": {},
   "outputs": [],
   "source": [
    "from tkinter import *\n",
    "\n",
    "# event handler for button\n",
    "\n",
    "def addition():\n",
    "    x = int(e1.get()) # Entry, .get() method returns the entry's current text as a string\n",
    "    y = int(e2.get())\n",
    "    leftdata = str(x+y)\n",
    "    leftinput.insert(1, leftdata)\n",
    "    \n",
    "# first paned window\n",
    "w1 = PanedWindow()\n",
    "w1.pack(fill=BOTH, expand=1)\n",
    "\n",
    "leftinput = Entry(w1, bd=5)\n",
    "w1.add(leftinput)\n",
    "\n",
    "# second paned window\n",
    "w2 = PanedWindow(w1, orient=VERTICAL)\n",
    "w1.add(w2)\n",
    "\n",
    "e1 = Entry(w2)\n",
    "e2 = Entry(w2)\n",
    "\n",
    "w2.add(e1)\n",
    "w2.add(e2)\n",
    "\n",
    "bottomBtn = Button(w2, text='Addition', command=addition)\n",
    "w2.add(bottomBtn)\n",
    "\n",
    "mainloop()"
   ]
  },
  {
   "cell_type": "code",
   "execution_count": 2,
   "id": "c6484987-ba5c-491a-b419-c68201ac497c",
   "metadata": {},
   "outputs": [],
   "source": [
    "from tkinter import *\n",
    "\n",
    "win = Tk()\n",
    "\n",
    "pw = PanedWindow(orient=VERTICAL)\n",
    "\n",
    "# creating button widget\n",
    "top = Button(pw, text=\"Just Click Me!!!\\nI am a Button\")\n",
    "top.pack(side=TOP)\n",
    "\n",
    "# adding button widget to the panedwindow\n",
    "pw.add(top)\n",
    "\n",
    "# creating checkbutton widget\n",
    "bot = Checkbutton(pw, text=\"I am a Checkbutton Choose Me!\")\n",
    "bot.pack(side=TOP)\n",
    "pw.add(bot)\n",
    "\n",
    "label = Label(pw, text=\"I am a label\")\n",
    "label.pack(side=TOP)\n",
    "pw.add(label)\n",
    "\n",
    "string = StringVar()\n",
    "\n",
    "entry = Entry(pw, textvariable=string, font=('arial', 15, 'bold'))\n",
    "entry.pack()\n",
    "\n",
    "# this is used to force focus on particular widget\n",
    "# that means widget is already selected for some operations\n",
    "# refer to universal widget methods - https://anzeljg.github.io/rin2/book2/2405/docs/tkinter/universal.html\n",
    "entry.focus_force()\n",
    "\n",
    "pw.add(entry)\n",
    "pw.pack(fill=BOTH, expand=True)\n",
    "\n",
    "# to show sash\n",
    "pw.configure(sashrelief=RAISED)\n",
    "# pw.configure(showhandle=True)\n",
    "\n",
    "mainloop()"
   ]
  },
  {
   "cell_type": "code",
   "execution_count": 3,
   "id": "97c6a984-38f7-43c6-b0e9-86c19d03e664",
   "metadata": {},
   "outputs": [],
   "source": [
    "from tkinter import *\n",
    "\n",
    "m1 = PanedWindow()\n",
    "m1.pack(fill=BOTH, expand=1)\n",
    "\n",
    "left = Label(m1, text=\"left pane\")\n",
    "m1.add(left)\n",
    "\n",
    "m2 = PanedWindow(m1, orient=VERTICAL)\n",
    "m1.add(m2)\n",
    "\n",
    "bottom = Label(m2, text=\"bottom pane\")\n",
    "m2.add(bottom)\n",
    "\n",
    "top = Label(m2, text=\"top pane\")\n",
    "m2.add(top)\n",
    "\n",
    "# bottom = Label(m2, text=\"bottom pane\")\n",
    "# m2.add(bottom)\n",
    "\n",
    "mainloop()"
   ]
  },
  {
   "cell_type": "code",
   "execution_count": null,
   "id": "3786c0bc-d52e-455d-b7bd-cba2fb39f6bd",
   "metadata": {},
   "outputs": [],
   "source": []
  }
 ],
 "metadata": {
  "kernelspec": {
   "display_name": "Python 3 (ipykernel)",
   "language": "python",
   "name": "python3"
  },
  "language_info": {
   "codemirror_mode": {
    "name": "ipython",
    "version": 3
   },
   "file_extension": ".py",
   "mimetype": "text/x-python",
   "name": "python",
   "nbconvert_exporter": "python",
   "pygments_lexer": "ipython3",
   "version": "3.8.12"
  }
 },
 "nbformat": 4,
 "nbformat_minor": 5
}
