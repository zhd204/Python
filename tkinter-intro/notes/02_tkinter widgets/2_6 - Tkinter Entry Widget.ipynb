{
 "cells": [
  {
   "cell_type": "markdown",
   "id": "1e089412-fbdb-494d-b16f-09f035dedea3",
   "metadata": {},
   "source": [
    "## Tkinter Entry Widget\n",
    "\n",
    "For the reference of complete command options and methods:\n",
    "https://anzeljg.github.io/rin2/book2/2405/docs/tkinter/entry.html"
   ]
  },
  {
   "cell_type": "markdown",
   "id": "a6cee545-1d7e-4d38-ae76-b00dec8feed0",
   "metadata": {},
   "source": [
    "## Tkinter Entry Widget Example"
   ]
  },
  {
   "cell_type": "code",
   "execution_count": 2,
   "id": "162e6a5a-8da8-4e05-bbac-405bb3c45f12",
   "metadata": {},
   "outputs": [],
   "source": [
    "from tkinter import *\n",
    "\n",
    "win = Tk()\n",
    "\n",
    "win.geometry(\"400x250\")\n",
    "\n",
    "name = Label(win, text=\"Name\").place(x=30, y=50)\n",
    "email = Label(win, text=\"Email\").place(x=30, y=90)\n",
    "password = Label(win, text=\"Password\").place(x=30, y=130)\n",
    "\n",
    "submitbtn = Button(win, text=\"Submit\", activebackground=\"red\", activeforeground=\"blue\").place(x=30, y=170)\n",
    "\n",
    "entry1 = Entry(win).place(x=100, y=50)\n",
    "entry2 = Entry(win).place(x=100, y=90)\n",
    "entry2 = Entry(win).place(x=100, y=130)\n",
    "\n",
    "mainloop()"
   ]
  },
  {
   "cell_type": "code",
   "execution_count": 3,
   "id": "c9cc619e-45ac-486c-9232-0f14a23bd521",
   "metadata": {},
   "outputs": [],
   "source": [
    "# Reference https://anzeljg.github.io/rin2/book2/2405/docs/tkinter/entry-scrolling.html\n",
    "from tkinter import * \n",
    "\n",
    "win = Tk()\n",
    "entry = Entry(win,width=20)\n",
    "entry.grid(row=0, sticky=E + W)\n",
    "\n",
    "def scrollHandler(*L):\n",
    "    op, howMany = L[0], L[1]\n",
    "    \n",
    "    if op == \"scroll\":\n",
    "        units = L[2]\n",
    "        entry.xview_scroll(howMany, units)\n",
    "    elif op == \"moveto\":\n",
    "        entry.xview_moveto(howMany)\n",
    "\n",
    "entryScroll = Scrollbar(orient=HORIZONTAL, command=scrollHandler)\n",
    "entryScroll.grid(row=1, sticky=E + W)\n",
    "entry['xscrollcommand'] = entryScroll.set\n",
    "\n",
    "mainloop()"
   ]
  },
  {
   "cell_type": "code",
   "execution_count": null,
   "id": "245345cb-86a0-476d-b09a-b08fe37f519a",
   "metadata": {},
   "outputs": [],
   "source": []
  }
 ],
 "metadata": {
  "kernelspec": {
   "display_name": "Python 3 (ipykernel)",
   "language": "python",
   "name": "python3"
  },
  "language_info": {
   "codemirror_mode": {
    "name": "ipython",
    "version": 3
   },
   "file_extension": ".py",
   "mimetype": "text/x-python",
   "name": "python",
   "nbconvert_exporter": "python",
   "pygments_lexer": "ipython3",
   "version": "3.8.12"
  }
 },
 "nbformat": 4,
 "nbformat_minor": 5
}
