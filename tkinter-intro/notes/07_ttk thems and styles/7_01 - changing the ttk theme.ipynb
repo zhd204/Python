{
 "cells": [
  {
   "cell_type": "markdown",
   "id": "1e089412-fbdb-494d-b16f-09f035dedea3",
   "metadata": {},
   "source": [
    "## Tkinter Themes\n",
    "\n",
    "For the reference of complete command options and methods: https://www.pythontutorial.net/tkinter/tkinter-theme/\n",
    "\n",
    "\n",
    "https://anzeljg.github.io/rin2/book2/2405/docs/tkinter/ttk-themes.html"
   ]
  },
  {
   "cell_type": "markdown",
   "id": "a6cee545-1d7e-4d38-ae76-b00dec8feed0",
   "metadata": {
    "tags": []
   },
   "source": [
    "## Tkinter Changing Themes Example\n",
    "\n",
    "- create a new instance of the ttk.Style class:\n",
    "\n",
    "        style = ttk.Style(root)\n",
    "\n",
    "\n",
    "- get the available themes by calling the theme_names() method:\n",
    "\n",
    "        style.theme_names()\n",
    "\n",
    "\n",
    "- to get the current theme, you use the theme_use() method:\n",
    "\n",
    "        current_theme = style.theme_use()\n",
    "        \n",
    "\n",
    "Note that every operating system (OS) such as Windows, macOS, and Linux comes with its own predefined themes. If you use the theme_names() and theme_use() methods on different OS, you’ll get different results.\n",
    "\n",
    "- to change the current theme to a new one, you pass the new theme name to the theme_use() method:\n",
    "\n",
    "        style.theme_use(theme_name)"
   ]
  },
  {
   "cell_type": "code",
   "execution_count": 13,
   "id": "90ea497f-4125-46ac-bf2f-7c5b482d4aab",
   "metadata": {},
   "outputs": [],
   "source": [
    "import tkinter as tk\n",
    "from tkinter import ttk\n",
    "\n",
    "class App(tk.Tk):\n",
    "    def __init__(self):\n",
    "        super().__init__()\n",
    "        \n",
    "        # root window\n",
    "        self.title(\"Theme Demo\")\n",
    "        self.geometry(\"400x300\")\n",
    "        self.attributes(\"-topmost\", 1)\n",
    "        self.style = ttk.Style(self)\n",
    "        \n",
    "        # print(self.style.theme_names())\n",
    "        # print(self.style.theme_use())\n",
    "        \n",
    "        # label\n",
    "        label = ttk.Label(self, text=\"Name:\")\n",
    "        label.grid(column=0, row=0, padx=10, pady=10, sticky='w')\n",
    "        \n",
    "        # entry\n",
    "        self.textbox = ttk.Entry(self)\n",
    "        self.textbox.grid(column=1, row=0, padx=10, pady=10, sticky='w')\n",
    "        self.textbox.insert(tk.END, self.style.theme_use())\n",
    "        \n",
    "        # button\n",
    "        btn = ttk.Button(self, text='Show')\n",
    "        btn.grid(column=1, row=1, padx=10, pady=10, sticky='w')\n",
    "        \n",
    "        # radio button\n",
    "        self.selected_theme = tk.StringVar()\n",
    "        theme_frame = ttk.LabelFrame(self, text='Themes')\n",
    "        theme_frame.grid(column=0, row=1, padx=10, pady=10, ipadx=20, ipady=20, sticky='w')\n",
    "        \n",
    "        for theme_name in self.style.theme_names():\n",
    "            rb = ttk.Radiobutton(\n",
    "                theme_frame,\n",
    "                text=theme_name,\n",
    "                value=theme_name,\n",
    "                variable=self.selected_theme,\n",
    "                command=self.change_theme)\n",
    "            rb.pack(expand=True, fill='both')\n",
    "        \n",
    "    def change_theme(self):\n",
    "        self.style.theme_use(self.selected_theme.get())\n",
    "        self.textbox.delete(0, tk.END)\n",
    "        self.textbox.insert(tk.END, self.style.theme_use())\n",
    "\n",
    "if __name__ == \"__main__\":\n",
    "    app = App()\n",
    "    app.mainloop()\n",
    "    \n"
   ]
  },
  {
   "cell_type": "code",
   "execution_count": null,
   "id": "a0eba35b-fefe-434c-b732-3f946c682647",
   "metadata": {},
   "outputs": [],
   "source": []
  }
 ],
 "metadata": {
  "kernelspec": {
   "display_name": "Python 3 (ipykernel)",
   "language": "python",
   "name": "python3"
  },
  "language_info": {
   "codemirror_mode": {
    "name": "ipython",
    "version": 3
   },
   "file_extension": ".py",
   "mimetype": "text/x-python",
   "name": "python",
   "nbconvert_exporter": "python",
   "pygments_lexer": "ipython3",
   "version": "3.8.12"
  }
 },
 "nbformat": 4,
 "nbformat_minor": 5
}
