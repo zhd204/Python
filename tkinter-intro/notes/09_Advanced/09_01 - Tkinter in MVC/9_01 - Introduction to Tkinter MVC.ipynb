{
 "cells": [
  {
   "cell_type": "markdown",
   "id": "1e089412-fbdb-494d-b16f-09f035dedea3",
   "metadata": {},
   "source": [
    "## Introduction to Tkinter MVC\n",
    "\n",
    "For the reference of complete command options and methods: https://www.pythontutorial.net/tkinter/tkinter-mvc/\n",
    "\n",
    "\n"
   ]
  },
  {
   "cell_type": "markdown",
   "id": "a6cee545-1d7e-4d38-ae76-b00dec8feed0",
   "metadata": {
    "tags": []
   },
   "source": [
    "#### MVC\n",
    "\n",
    "![title](tkinter-mvc-design-pattern.png)\n",
    "\n",
    "- **Model**\n",
    "\n",
    "A model in MVC represents the data. A model deals with getting data from or writing data into storage such as a database or file. The model may also contain the logic to validate the data to ensure data integrity.\n",
    "\n",
    "The model must not depend on the view and controller. In other words, you can reuse the model in other non-Tkinter applications such as web and mobile apps.\n",
    "\n",
    "- **View**\n",
    "\n",
    "A view is the user interface that representing the data in the model. The view doesn’t directly communicate with the model. Ideally, a view should have very little logic to display data.\n",
    "\n",
    "The view communicates with the controller directly. In Tinker applications, the view is the root window that consists of widgets.\n",
    "\n",
    "- **Controller**\n",
    "\n",
    "A controller acts as the intermediary between the views and models. The controller routes data between the views and models.\n",
    "\n",
    "For example, if users click the save button on the view, the controller routes the “save” action to the model to save the data into a database and notify the view to display a message.\n",
    "\n"
   ]
  },
  {
   "cell_type": "markdown",
   "id": "e49481f4-a8bb-428a-b13c-3cd8930621ff",
   "metadata": {},
   "source": [
    "#### Example"
   ]
  },
  {
   "cell_type": "markdown",
   "id": "5140c876-7f13-44ca-acbf-3a85f91306ac",
   "metadata": {},
   "source": [
    "![title](tkinter-mvc-1.png)\n",
    "\n",
    "![title](tkinter-mvc-2.png)\n",
    "\n",
    "![title](tkinter-mvc-3.png)"
   ]
  },
  {
   "cell_type": "code",
   "execution_count": null,
   "id": "33fb3b52-96ad-4f27-b4bc-3def6e850708",
   "metadata": {},
   "outputs": [],
   "source": []
  }
 ],
 "metadata": {
  "kernelspec": {
   "display_name": "Python 3 (ipykernel)",
   "language": "python",
   "name": "python3"
  },
  "language_info": {
   "codemirror_mode": {
    "name": "ipython",
    "version": 3
   },
   "file_extension": ".py",
   "mimetype": "text/x-python",
   "name": "python",
   "nbconvert_exporter": "python",
   "pygments_lexer": "ipython3",
   "version": "3.8.12"
  }
 },
 "nbformat": 4,
 "nbformat_minor": 5
}
