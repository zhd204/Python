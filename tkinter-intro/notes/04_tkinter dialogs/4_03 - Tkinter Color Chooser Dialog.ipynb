{
 "cells": [
  {
   "cell_type": "markdown",
   "id": "1e089412-fbdb-494d-b16f-09f035dedea3",
   "metadata": {},
   "source": [
    "## Tkinter Color Chooser Dialog\n",
    "\n",
    "For the reference of complete command options and methods: https://www.pythontutorial.net/tkinter/tkinter-color-chooser/\n",
    "\n",
    "\n",
    "https://anzeljg.github.io/rin2/book2/2405/docs/tkinter/tkColorChooser.html"
   ]
  },
  {
   "cell_type": "markdown",
   "id": "a6cee545-1d7e-4d38-ae76-b00dec8feed0",
   "metadata": {
    "tags": []
   },
   "source": [
    "## Tkinter Color Chooser Dialog Example\n",
    "\n",
    "If you select a color, the askcolor() function returns a tuple that contains two values that represent the selected color:\n",
    "\n",
    "- The first value is the RGB representation.\n",
    "- The second value is a hexadecimal representation."
   ]
  },
  {
   "cell_type": "code",
   "execution_count": 4,
   "id": "90ea497f-4125-46ac-bf2f-7c5b482d4aab",
   "metadata": {},
   "outputs": [
    {
     "name": "stdout",
     "output_type": "stream",
     "text": [
      "((0, 249, 0), '#00f900')\n"
     ]
    }
   ],
   "source": [
    "import tkinter as tk\n",
    "from tkinter import ttk\n",
    "from tkinter.colorchooser import askcolor\n",
    "\n",
    "\n",
    "# create the main window\n",
    "root = tk.Tk()\n",
    "root.title(\"Tkinter Color Chooser\")\n",
    "root.geometry(\"300x150\")\n",
    "root.attributes(\"-topmost\", 1)\n",
    "\n",
    "def change_color():\n",
    "    colors = askcolor(title=\"Tkinter Color Chooser\")\n",
    "    print(colors)\n",
    "    root.configure(bg=colors[1])\n",
    "\n",
    "# chanage color button\n",
    "color_select_btn = ttk.Button(\n",
    "    root,\n",
    "    text=\"Select a Color\",\n",
    "    command=change_color\n",
    ")\n",
    "                   \n",
    "color_select_btn.pack(expand=True)\n",
    "    \n",
    "root.mainloop()"
   ]
  },
  {
   "cell_type": "code",
   "execution_count": null,
   "id": "a0eba35b-fefe-434c-b732-3f946c682647",
   "metadata": {},
   "outputs": [],
   "source": [
    "import tkinter.colorchooser\n",
    "\n",
    "help(tkinter.colorchooser)"
   ]
  },
  {
   "cell_type": "code",
   "execution_count": null,
   "id": "95e40d7e-2bed-4076-abcd-6d5bfe84d940",
   "metadata": {},
   "outputs": [],
   "source": []
  }
 ],
 "metadata": {
  "kernelspec": {
   "display_name": "Python 3 (ipykernel)",
   "language": "python",
   "name": "python3"
  },
  "language_info": {
   "codemirror_mode": {
    "name": "ipython",
    "version": 3
   },
   "file_extension": ".py",
   "mimetype": "text/x-python",
   "name": "python",
   "nbconvert_exporter": "python",
   "pygments_lexer": "ipython3",
   "version": "3.8.12"
  }
 },
 "nbformat": 4,
 "nbformat_minor": 5
}
