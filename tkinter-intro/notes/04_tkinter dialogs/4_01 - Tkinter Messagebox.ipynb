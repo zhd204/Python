{
 "cells": [
  {
   "cell_type": "markdown",
   "id": "1e089412-fbdb-494d-b16f-09f035dedea3",
   "metadata": {},
   "source": [
    "## Tkinter Messagebox\n",
    "\n",
    "For the reference of complete command options and methods:\n",
    "\n",
    "\n",
    "https://anzeljg.github.io/rin2/book2/2405/docs/tkinter/tkMessageBox.html"
   ]
  },
  {
   "cell_type": "markdown",
   "id": "a6cee545-1d7e-4d38-ae76-b00dec8feed0",
   "metadata": {
    "tags": []
   },
   "source": [
    "## Tkinter Messagebox Example\n",
    "\n",
    "https://www.pythontutorial.net/tkinter/tkinter-messagebox/\n",
    "- showerror\n",
    "- showinfo\n",
    "- showwarning"
   ]
  },
  {
   "cell_type": "code",
   "execution_count": 1,
   "id": "90ea497f-4125-46ac-bf2f-7c5b482d4aab",
   "metadata": {},
   "outputs": [],
   "source": [
    "import tkinter as tk\n",
    "from tkinter import ttk\n",
    "from tkinter.messagebox import showerror, showinfo, showwarning\n",
    "\n",
    "# create the main window\n",
    "root = tk.Tk()\n",
    "root.title(\"Tkinter MessageBox\")\n",
    "root.geometry(\"300x150\")\n",
    "root.attributes(\"-topmost\", 1)\n",
    "\n",
    "# filed options\n",
    "options = {\"fill\": \"both\", \"padx\": 10, \"pady\": 10, \"ipadx\": 5}\n",
    "\n",
    "# show error button\n",
    "ttk.Button(\n",
    "    root,\n",
    "    text=\"Show an error message\",\n",
    "    command=lambda: showerror(\n",
    "        title=\"error\",\n",
    "        message=\"This is an error message.\"\n",
    "    )\n",
    ").pack(**options)\n",
    "\n",
    "\n",
    "# show info button\n",
    "ttk.Button(\n",
    "    root,\n",
    "    text=\"Show an information message\",\n",
    "    command=lambda: showinfo(\n",
    "        title=\"Information\",\n",
    "        message=\"This is an information message.\"\n",
    "    )\n",
    ").pack(**options)\n",
    "\n",
    "\n",
    "# show warning button\n",
    "ttk.Button(\n",
    "    root,\n",
    "    text=\"Show a warning message\",\n",
    "    command=lambda: showwarning(\n",
    "        title=\"Warning\",\n",
    "        message=\"This is a warning message.\"\n",
    "    )\n",
    ").pack(**options)\n",
    "\n",
    "root.mainloop()"
   ]
  },
  {
   "cell_type": "markdown",
   "id": "b187731f-258c-43cd-aa08-ca227e87bc80",
   "metadata": {
    "tags": []
   },
   "source": [
    "## Tkinter Messagebox - askyesno() Example\n",
    "\n",
    "https://www.pythontutorial.net/tkinter/tkinter-askyesno/"
   ]
  },
  {
   "cell_type": "code",
   "execution_count": 2,
   "id": "b8cf5155-c98f-49e9-9b50-d2becfd7d884",
   "metadata": {},
   "outputs": [],
   "source": [
    "import tkinter as tk\n",
    "from tkinter import ttk\n",
    "from tkinter.messagebox import askyesno\n",
    "\n",
    "class App(tk.Tk):\n",
    "    def __init__(self):\n",
    "        super().__init__()\n",
    "        \n",
    "        self.title(\"Tkinter Yes/No Dialog\")\n",
    "        self.geometry(\"300x150\")\n",
    "        self.attributes(\"-topmost\", 1)\n",
    "        \n",
    "        # quit button\n",
    "        quit_btn = ttk.Button(self, text=\"Quit\", command=self.confirm)\n",
    "        quit_btn.pack(expand=True)\n",
    "        \n",
    "    def confirm(self):\n",
    "        answer = askyesno(title=\"Confirmation\", message=\"Are you sure that you want to quit?\")\n",
    "        \n",
    "        if answer:\n",
    "            self.destroy()\n",
    "            \n",
    "if __name__ == \"__main__\":\n",
    "    app = App()\n",
    "    app.mainloop()"
   ]
  },
  {
   "cell_type": "markdown",
   "id": "283e399c-1c00-4e18-bcf7-7c1c2345ba3e",
   "metadata": {
    "tags": []
   },
   "source": [
    "## Tkinter Messagebox - askokcancel() Example\n",
    "\n",
    "https://www.pythontutorial.net/tkinter/tkinter-askokcancel/"
   ]
  },
  {
   "cell_type": "code",
   "execution_count": 4,
   "id": "df2e4a46-5046-4f68-bca7-14c0fceb680c",
   "metadata": {},
   "outputs": [],
   "source": [
    "import tkinter as tk\n",
    "from tkinter import ttk\n",
    "from tkinter.messagebox import askokcancel, showinfo\n",
    "\n",
    "class App(tk.Tk):\n",
    "    def __init__(self):\n",
    "        super().__init__()\n",
    "        \n",
    "        self.title(\"Tkinter OK/Cancel Dialog\")\n",
    "        self.geometry(\"300x150\")\n",
    "        self.attributes(\"-topmost\", 1)\n",
    "        \n",
    "        # delete all button\n",
    "        del_all_btn = ttk.Button(self, text=\"Delete All\", command=self.confirm)\n",
    "        del_all_btn.pack(expand=True)\n",
    "        \n",
    "    def confirm(self):\n",
    "        answer = askokcancel(title=\"Confirmation\", message=\"Deleting will delete all the data.\")\n",
    "        \n",
    "        if answer:\n",
    "            showinfo(\n",
    "                title=\"Confirmation\",\n",
    "                message=\"The data is deleted successfully.\")\n",
    "            \n",
    "            \n",
    "if __name__ == \"__main__\":\n",
    "    app = App()\n",
    "    app.mainloop()"
   ]
  },
  {
   "cell_type": "markdown",
   "id": "eb7b0bce-5f32-4eeb-9406-d7a342846431",
   "metadata": {
    "tags": []
   },
   "source": [
    "## Tkinter Messagebox - askretrycancel() Example\n",
    "\n",
    "https://www.pythontutorial.net/tkinter/tkinter-askretrycancel/"
   ]
  },
  {
   "cell_type": "code",
   "execution_count": 6,
   "id": "d5e35c9d-feeb-4e55-a70f-3b9fbcff3fd4",
   "metadata": {},
   "outputs": [],
   "source": [
    "import tkinter as tk\n",
    "from tkinter import ttk\n",
    "from tkinter.messagebox import askretrycancel, showinfo\n",
    "\n",
    "class App(tk.Tk):\n",
    "    def __init__(self):\n",
    "        super().__init__()\n",
    "        \n",
    "        self.title(\"Tkinter Retry/Cancel Dialog\")\n",
    "        self.geometry(\"300x150\")\n",
    "        self.attributes(\"-topmost\", 1)\n",
    "        \n",
    "        # button\n",
    "        btn = ttk.Button(self, text=\"Connect to the Database Server\", command=self.confirm)\n",
    "        btn.pack(expand=True)\n",
    "        \n",
    "    def confirm(self):\n",
    "        answer = askretrycancel(title=\"Confirmation\", message=\"The database server is unreachable. Do you want to retry?\")\n",
    "        \n",
    "        if answer:\n",
    "            showinfo(\n",
    "                title=\"Information\",\n",
    "                message=\"Attempt to connect again.\")\n",
    "            \n",
    "            \n",
    "if __name__ == \"__main__\":\n",
    "    app = App()\n",
    "    app.mainloop()"
   ]
  },
  {
   "cell_type": "markdown",
   "id": "f19d2aea-41ad-42d8-b6ac-c4068a056071",
   "metadata": {},
   "source": [
    "## All-in-One Example\n",
    "\n",
    "https://pythonguides.com/python-tkinter-messagebox/"
   ]
  },
  {
   "cell_type": "code",
   "execution_count": 5,
   "id": "6573e466-acac-43b7-96b5-53c6ca190b94",
   "metadata": {},
   "outputs": [],
   "source": [
    "from tkinter import *\n",
    "from tkinter import messagebox\n",
    "\n",
    "ws = Tk()\n",
    "ws.title('Python Guides')\n",
    "ws.geometry('300x200')\n",
    "ws.config(bg='#5FB691')\n",
    "\n",
    "def msg1():\n",
    "    messagebox.showinfo('information', 'Hi! You got a prompt.')\n",
    "    messagebox.showerror('error', 'Something went wrong!')\n",
    "    messagebox.showwarning('warning', 'accept T&C')\n",
    "    messagebox.askquestion('Ask Question', 'Do you want to continue?')\n",
    "    messagebox.askokcancel('Ok Cancel', 'Are You sure?')\n",
    "    messagebox.askyesno('Yes|No', 'Do you want to proceed?')\n",
    "    messagebox.askretrycancel('retry', 'Failed! want to try again?')\n",
    "\n",
    "Button(ws, text='Click Me', command=msg1).pack(pady=50)\n",
    "\n",
    "ws.mainloop()"
   ]
  },
  {
   "cell_type": "code",
   "execution_count": null,
   "id": "a0eba35b-fefe-434c-b732-3f946c682647",
   "metadata": {},
   "outputs": [],
   "source": []
  }
 ],
 "metadata": {
  "kernelspec": {
   "display_name": "Python 3 (ipykernel)",
   "language": "python",
   "name": "python3"
  },
  "language_info": {
   "codemirror_mode": {
    "name": "ipython",
    "version": 3
   },
   "file_extension": ".py",
   "mimetype": "text/x-python",
   "name": "python",
   "nbconvert_exporter": "python",
   "pygments_lexer": "ipython3",
   "version": "3.8.12"
  }
 },
 "nbformat": 4,
 "nbformat_minor": 5
}
