{
 "cells": [
  {
   "cell_type": "markdown",
   "id": "1e089412-fbdb-494d-b16f-09f035dedea3",
   "metadata": {},
   "source": [
    "## Tkinter Open File Dialog\n",
    "\n",
    "For the reference of complete command options and methods: https://www.pythontutorial.net/tkinter/tkinter-open-file-dialog/\n",
    "\n",
    "\n",
    "https://anzeljg.github.io/rin2/book2/2405/docs/tkinter/tkFileDialog.html"
   ]
  },
  {
   "cell_type": "markdown",
   "id": "a6cee545-1d7e-4d38-ae76-b00dec8feed0",
   "metadata": {
    "tags": []
   },
   "source": [
    "## Tkinter Open File Dialog Example\n",
    "\n",
    "If the user selects a file, the returned value is the complete path name of the selected file. If the user uses the Cancel button, the function returns an empty string."
   ]
  },
  {
   "cell_type": "markdown",
   "id": "fd2065a2-6c80-4bd5-8507-a4231e67a3dc",
   "metadata": {},
   "source": [
    "#### Select a single file"
   ]
  },
  {
   "cell_type": "code",
   "execution_count": 1,
   "id": "90ea497f-4125-46ac-bf2f-7c5b482d4aab",
   "metadata": {},
   "outputs": [],
   "source": [
    "import tkinter as tk\n",
    "from tkinter import ttk\n",
    "from tkinter.messagebox import showinfo\n",
    "from tkinter import filedialog as fd\n",
    "\n",
    "\n",
    "# create the main window\n",
    "root = tk.Tk()\n",
    "root.title(\"Tkinter Open File Dialog\")\n",
    "root.geometry(\"300x150\")\n",
    "root.attributes(\"-topmost\", 1)\n",
    "\n",
    "\n",
    "def select_file():\n",
    "    file_types = (\n",
    "        (\"text files\", \"*.txt\"),\n",
    "        (\"All files\", \"*.*\")\n",
    "    )\n",
    "    \n",
    "    filename = fd.askopenfilename(\n",
    "        title=\"Open a file\",\n",
    "        initialdir=\"/\",\n",
    "        filetypes=file_types)\n",
    "    \n",
    "    showinfo(\n",
    "        title=\"Selected File\",\n",
    "        message=filename\n",
    "    )\n",
    "\n",
    "# open button\n",
    "open_button = ttk.Button(\n",
    "    root,\n",
    "    text=\"Open a file\",\n",
    "    command=select_file\n",
    ")\n",
    "open_button.pack(expand=True)\n",
    "    \n",
    "root.mainloop()"
   ]
  },
  {
   "cell_type": "markdown",
   "id": "b187731f-258c-43cd-aa08-ca227e87bc80",
   "metadata": {
    "tags": []
   },
   "source": [
    "#### Select multiple files "
   ]
  },
  {
   "cell_type": "code",
   "execution_count": 3,
   "id": "b8cf5155-c98f-49e9-9b50-d2becfd7d884",
   "metadata": {},
   "outputs": [],
   "source": [
    "import tkinter as tk\n",
    "from tkinter import ttk\n",
    "from tkinter.messagebox import showinfo\n",
    "from tkinter import filedialog as fd\n",
    "\n",
    "\n",
    "# create the main window\n",
    "root = tk.Tk()\n",
    "root.title(\"Tkinter Open File Dialog\")\n",
    "root.geometry(\"300x150\")\n",
    "root.attributes(\"-topmost\", 1)\n",
    "\n",
    "\n",
    "def select_files():\n",
    "    file_types = (\n",
    "        (\"text files\", \"*.txt\"),\n",
    "        (\"All files\", \"*.*\")\n",
    "    )\n",
    "    \n",
    "    filenames = fd.askopenfilenames(\n",
    "        title=\"Open files\",\n",
    "        initialdir=\"/\",\n",
    "        filetypes=file_types)\n",
    "    \n",
    "    showinfo(\n",
    "        title=\"Selected Files\",\n",
    "        message=filenames\n",
    "    )\n",
    "\n",
    "# open button\n",
    "open_button = ttk.Button(\n",
    "    root,\n",
    "    text=\"Open files\",\n",
    "    command=select_files\n",
    ")\n",
    "\n",
    "open_button.pack(expand=True)\n",
    "    \n",
    "root.mainloop()"
   ]
  },
  {
   "cell_type": "markdown",
   "id": "283e399c-1c00-4e18-bcf7-7c1c2345ba3e",
   "metadata": {
    "tags": []
   },
   "source": [
    "## Opening Files Directly\n"
   ]
  },
  {
   "cell_type": "markdown",
   "id": "85b629e2-01f0-4340-ae8e-34cb91aa736f",
   "metadata": {},
   "source": [
    "The askopenfile() function displays a file dialog and returns a file object of the selected file:"
   ]
  },
  {
   "cell_type": "code",
   "execution_count": 14,
   "id": "df2e4a46-5046-4f68-bca7-14c0fceb680c",
   "metadata": {},
   "outputs": [
    {
     "name": "stdout",
     "output_type": "stream",
     "text": [
      "End of Line!\n"
     ]
    }
   ],
   "source": [
    "import tkinter as tk\n",
    "from tkinter import ttk\n",
    "from tkinter.messagebox import showinfo\n",
    "from tkinter import filedialog as fd\n",
    "\n",
    "\n",
    "# create the main window\n",
    "root = tk.Tk()\n",
    "root.title(\"Tkinter Display a Text File\")\n",
    "root.geometry(\"550x250\")\n",
    "root.attributes(\"-topmost\", 1)\n",
    "\n",
    "# add a text widget\n",
    "txt = tk.Text(root, height=12)\n",
    "txt.grid(column=0, row=0, sticky=\"nsew\")\n",
    "\n",
    "\n",
    "def open_text_file():\n",
    "    file_types = (\n",
    "        (\"text files\", \"*.txt\"),\n",
    "        (\"All files\", \"*.*\")\n",
    "    )\n",
    "    \n",
    "    f = fd.askopenfile(\n",
    "        title=\"Open files\",\n",
    "        initialdir=\"/\",\n",
    "        filetypes=file_types)\n",
    "    \n",
    "    # position format 'line.column', e.g. 1.0 means line 1 and character 0\n",
    "    # txt.insert(\"1.0\", f.readline())\n",
    "    continue_read = True\n",
    "    while continue_read:\n",
    "        line = f.readline()\n",
    "        if not line:\n",
    "            print(\"End of Line!\")\n",
    "            continue_read = False\n",
    "        else:\n",
    "            txt.insert(tk.END, line)\n",
    "    f.close()\n",
    "\n",
    "# open file button\n",
    "open_button = ttk.Button(\n",
    "    root,\n",
    "    text=\"Open file\",\n",
    "    command=open_text_file\n",
    ")\n",
    "\n",
    "open_button.grid(column=0, row=1, sticky=\"w\", padx=10, pady=10)\n",
    "    \n",
    "root.mainloop()"
   ]
  },
  {
   "cell_type": "code",
   "execution_count": null,
   "id": "a0eba35b-fefe-434c-b732-3f946c682647",
   "metadata": {},
   "outputs": [],
   "source": []
  }
 ],
 "metadata": {
  "kernelspec": {
   "display_name": "Python 3 (ipykernel)",
   "language": "python",
   "name": "python3"
  },
  "language_info": {
   "codemirror_mode": {
    "name": "ipython",
    "version": 3
   },
   "file_extension": ".py",
   "mimetype": "text/x-python",
   "name": "python",
   "nbconvert_exporter": "python",
   "pygments_lexer": "ipython3",
   "version": "3.8.12"
  }
 },
 "nbformat": 4,
 "nbformat_minor": 5
}
