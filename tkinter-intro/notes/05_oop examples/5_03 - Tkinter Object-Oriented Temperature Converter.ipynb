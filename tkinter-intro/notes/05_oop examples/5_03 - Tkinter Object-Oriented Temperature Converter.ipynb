{
 "cells": [
  {
   "cell_type": "markdown",
   "id": "dfdb8b63-c831-4d2a-9732-dbdc2fade2e4",
   "metadata": {},
   "source": [
    "## Tkinter Object-Oriented Temperature Converter\n",
    "\n",
    "https://www.pythontutorial.net/tkinter/tkinter-object-oriented-application/"
   ]
  },
  {
   "cell_type": "code",
   "execution_count": 3,
   "id": "193ccf85-0287-48fa-856b-ffcef28a05a1",
   "metadata": {},
   "outputs": [],
   "source": [
    "import tkinter as tk\n",
    "from tkinter import ttk\n",
    "from tkinter.messagebox import showerror\n",
    "\n",
    "# create the root window class\n",
    "class App(tk.Tk):\n",
    "    def __init__(self):\n",
    "        super().__init__()\n",
    "        self.geometry(\"500x100\")\n",
    "        self.attributes(\"-topmost\", 1)\n",
    "        self.title('OOP Example - Temperature Converter')\n",
    "\n",
    "# create the main frame class\n",
    "class MainFrame(tk.Frame):\n",
    "    def __init__(self, container):\n",
    "        super().__init__(container)\n",
    "        \n",
    "        options = {'padx': 5, 'pady': 5}\n",
    "        \n",
    "        # label\n",
    "        self.temp_lbl = ttk.Label(self, text=\"Fahrenheit\")\n",
    "        self.temp_lbl.grid(column=0, row=0, sticky=tk.W, **options)\n",
    "        \n",
    "        # entry\n",
    "        self.temp_f = tk.StringVar()\n",
    "        self.temp_f_entry = ttk.Entry(self, textvariable=self.temp_f)\n",
    "        self.temp_f_entry.grid(column=1, row=0, **options)\n",
    "        self.temp_f_entry.focus()\n",
    "        \n",
    "        # button\n",
    "        self.convert_btn = ttk.Button(self, text=\"Convert\", command=self.btn_clicked)\n",
    "        self.convert_btn.grid(column=2, row=0, sticky=tk.W, **options)\n",
    "        \n",
    "        # result label\n",
    "        self.result_lbl = ttk.Label(self)\n",
    "        self.result_lbl.grid(columnspan=3, row=1, **options)\n",
    "        \n",
    "        self.pack(padx=10, pady=10)\n",
    "        \n",
    "    def btn_clicked(self):\n",
    "        try:\n",
    "            temp_f_float = float(self.temp_f.get())\n",
    "            temp_c_float = (temp_f_float - 32) / 1.8\n",
    "            self.result_lbl.config(text=f\"{temp_f_float:.2f} Fahrenheit = {temp_c_float:.2f} Celsius\")\n",
    "        except ValueError as error:\n",
    "            showerror(title=\"Error\", message=error)\n",
    "\n",
    "        \n",
    "if __name__ == '__main__':\n",
    "    app = App()\n",
    "    frame = MainFrame(app)\n",
    "    app.mainloop()"
   ]
  },
  {
   "cell_type": "code",
   "execution_count": null,
   "id": "a066cf3b-e3ec-4f79-8b89-6d143727b354",
   "metadata": {},
   "outputs": [],
   "source": []
  }
 ],
 "metadata": {
  "kernelspec": {
   "display_name": "Python 3 (ipykernel)",
   "language": "python",
   "name": "python3"
  },
  "language_info": {
   "codemirror_mode": {
    "name": "ipython",
    "version": 3
   },
   "file_extension": ".py",
   "mimetype": "text/x-python",
   "name": "python",
   "nbconvert_exporter": "python",
   "pygments_lexer": "ipython3",
   "version": "3.8.12"
  }
 },
 "nbformat": 4,
 "nbformat_minor": 5
}