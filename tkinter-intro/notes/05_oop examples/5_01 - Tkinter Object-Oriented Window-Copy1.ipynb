{
 "cells": [
  {
   "cell_type": "markdown",
   "id": "dfdb8b63-c831-4d2a-9732-dbdc2fade2e4",
   "metadata": {},
   "source": [
    "## Tkinter Object-Oriented Window\n",
    "\n",
    "https://www.pythontutorial.net/tkinter/tkinter-object-oriented-window/"
   ]
  },
  {
   "cell_type": "code",
   "execution_count": 1,
   "id": "5b022250-792d-4b41-b2c7-9e1325842cb3",
   "metadata": {},
   "outputs": [],
   "source": [
    "# create a root window using OOP approach\n",
    "import tkinter as tk\n",
    "\n",
    "class App(tk.Tk):\n",
    "    def __init__(self):\n",
    "        super().__init__()\n",
    "        \n",
    "if __name__ == '__main__':\n",
    "    app = App()\n",
    "    app.mainloop()"
   ]
  },
  {
   "cell_type": "markdown",
   "id": "212d9deb-8a5b-4dee-a975-f5ed0f0d008c",
   "metadata": {},
   "source": [
    "## Another example of an object-oriented window in Tkinter\n",
    "\n",
    "The following class represents a window that consists of a label and a button. When you click the button, the program displays a message box:"
   ]
  },
  {
   "cell_type": "code",
   "execution_count": null,
   "id": "1ebcfdaf-317d-4466-b518-eec7f08a6390",
   "metadata": {},
   "outputs": [],
   "source": [
    "import tkinter as tk\n",
    "from tkinter import ttk\n",
    "from tkinter import messagebox\n",
    "\n",
    "class App(tk.Tk):\n",
    "    def __init__(self):\n",
    "        super().__init__()\n",
    "        self.geometry(\"200x50\")\n",
    "        \n",
    "        self.hello_lbl = ttk.Label(self, text=\"Hello, Tkinter!\")\n",
    "        self.hello_lbl.pack()\n",
    "        \n",
    "        self.click_btn = ttk.Button(self, text=\"Click Me\", command=self.btn_clicked)\n",
    "        self.click_btn.pack()\n",
    "    \n",
    "    def btn_clicked(self):\n",
    "        messagebox.showinfo(title='Information', message='Hello, Tkinter!')\n",
    "        \n",
    "        \n",
    "if __name__ == '__main__':\n",
    "    app = App()\n",
    "    app.mainloop()"
   ]
  },
  {
   "cell_type": "code",
   "execution_count": null,
   "id": "193ccf85-0287-48fa-856b-ffcef28a05a1",
   "metadata": {},
   "outputs": [],
   "source": []
  }
 ],
 "metadata": {
  "kernelspec": {
   "display_name": "Python 3 (ipykernel)",
   "language": "python",
   "name": "python3"
  },
  "language_info": {
   "codemirror_mode": {
    "name": "ipython",
    "version": 3
   },
   "file_extension": ".py",
   "mimetype": "text/x-python",
   "name": "python",
   "nbconvert_exporter": "python",
   "pygments_lexer": "ipython3",
   "version": "3.8.12"
  }
 },
 "nbformat": 4,
 "nbformat_minor": 5
}
