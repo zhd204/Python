{
 "cells": [
  {
   "cell_type": "markdown",
   "id": "dfdb8b63-c831-4d2a-9732-dbdc2fade2e4",
   "metadata": {},
   "source": [
    "## Tkinter Object-Oriented Frame\n",
    "\n",
    "https://www.pythontutorial.net/tkinter/tkinter-object-oriented-frame/"
   ]
  },
  {
   "cell_type": "code",
   "execution_count": 7,
   "id": "1ebcfdaf-317d-4466-b518-eec7f08a6390",
   "metadata": {},
   "outputs": [],
   "source": [
    "import tkinter as tk\n",
    "from tkinter import ttk\n",
    "from tkinter.messagebox import showinfo\n",
    "\n",
    "# create the root window class\n",
    "class App(tk.Tk):\n",
    "    def __init__(self):\n",
    "        super().__init__()\n",
    "        self.geometry(\"300x100\")\n",
    "        self.attributes(\"-topmost\", 1)\n",
    "        self.title('OOP Example - Frame')\n",
    "\n",
    "# create the main frame class\n",
    "class MainFrame(tk.Frame):\n",
    "    def __init__(self, container):\n",
    "        super().__init__()\n",
    "        \n",
    "        options = {'padx': 5, 'pady': 5}\n",
    "        \n",
    "        # label\n",
    "        self.hello_lbl = ttk.Label(self, text=\"Hello, Tkinter!\")\n",
    "        self.hello_lbl.pack(**options)\n",
    "        \n",
    "        # button\n",
    "        self.click_btn = ttk.Button(self, text=\"Click Me\", command=self.btn_clicked)\n",
    "        self.click_btn.pack(**options)\n",
    "        \n",
    "        self.pack(**options)\n",
    "        \n",
    "    def btn_clicked(self):\n",
    "        showinfo(title='Information', message='Hello, Tkinter!')\n",
    "        \n",
    "if __name__ == '__main__':\n",
    "    app = App()\n",
    "    frame = MainFrame(app)\n",
    "    app.mainloop()"
   ]
  },
  {
   "cell_type": "code",
   "execution_count": null,
   "id": "193ccf85-0287-48fa-856b-ffcef28a05a1",
   "metadata": {},
   "outputs": [],
   "source": []
  }
 ],
 "metadata": {
  "kernelspec": {
   "display_name": "Python 3 (ipykernel)",
   "language": "python",
   "name": "python3"
  },
  "language_info": {
   "codemirror_mode": {
    "name": "ipython",
    "version": 3
   },
   "file_extension": ".py",
   "mimetype": "text/x-python",
   "name": "python",
   "nbconvert_exporter": "python",
   "pygments_lexer": "ipython3",
   "version": "3.8.12"
  }
 },
 "nbformat": 4,
 "nbformat_minor": 5
}
