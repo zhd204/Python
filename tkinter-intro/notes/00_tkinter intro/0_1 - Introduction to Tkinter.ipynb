{
 "cells": [
  {
   "cell_type": "markdown",
   "id": "07359655-c120-4b26-8f16-0c502338fa40",
   "metadata": {},
   "source": [
    "# Tkinter Tutorial\n",
    "\n",
    "https://www.studytonight.com/tkinter\n",
    "\n",
    "Tkinter is a standard library in python used for creating Graphical User Interface (GUI) for Desktop Applications. With the help of Tkinter developing desktop applications is not a tough task.\n",
    "\n",
    "This tutorial will guide you to understand the working of the Tkinter module, its various components like Windows, Widgets and Frames and will then introduce you to all the available Tkinter widgets used for developing desktop applications.\n",
    "\n",
    "At the end of the tutorial we have few practical Tkinter projects for beginners like Calculator App, Text Editor App and Music Player App."
   ]
  },
  {
   "cell_type": "markdown",
   "id": "7bcedb8d-04c2-4ca7-b924-f1e3167c196d",
   "metadata": {},
   "source": [
    "## Introduction to Python Tkinter Module"
   ]
  },
  {
   "cell_type": "markdown",
   "id": "ea5f3425-ca0b-4a7d-b3c7-10bcacd7839a",
   "metadata": {},
   "source": [
    "Tkinter is a standard library in python used for creating Graphical User Interface (GUI) for Desktop Applications. With the help of Tkinter developing desktop applications is not a tough task.\n",
    "\n",
    "The primary GUI toolkit we will be using is Tk, which is Python's default GUI library. We'll access Tk from its Python interface called Tkinter (short for Tk interface)."
   ]
  },
  {
   "cell_type": "markdown",
   "id": "aeeccdd1-6582-49e6-8f56-dccd4b47acf8",
   "metadata": {},
   "source": [
    "#### GUI Programming in Python\n",
    "\n",
    "There are many ways to develop GUI based programs in Python. These different ways are given below:\n",
    "\n",
    "**Tkinter**:\n",
    "\n",
    "In Python, Tkinter is a standard GUI (graphical user interface) package. Tkinter is Python's default GUI module and also the most common way that is used for GUI programming in Python. *Note that Tkinter is a set of wrappers that implement the Tk widgets as Python classes.*\n",
    "\n",
    "**wxPython**:\n",
    "\n",
    "This is basically an open-source, cross-platform GUI toolkit that is written in C++. Also an alternative to Tkinter.\n",
    "\n",
    "**JPython**:\n",
    "\n",
    "JPython is a Python platform for Java that is providing Python scripts seamless access to Java class Libraries for the local machine.\n",
    "\n",
    "We will cover GUI Programming with Tkinter."
   ]
  },
  {
   "cell_type": "markdown",
   "id": "ea3bcb2c-3198-4529-9b47-3cd1984f7aad",
   "metadata": {},
   "source": [
    "\n",
    "#### What is Tkinter?\n",
    "\n",
    "Tkinter in Python helps in creating GUI Applications with a minimum hassle. Among various GUI Frameworks, Tkinter is the only framework that is built-in into Python's Standard Library.\n",
    "\n",
    " - An important feature in favor of Tkinter is that it is cross-platform, so the same code can easily work on Windows, macOS, and Linux.\n",
    "\n",
    "- Tkinter is a lightweight module.\n",
    "\n",
    "- It is simple to use."
   ]
  },
  {
   "cell_type": "markdown",
   "id": "6f77436b-c8aa-4fe8-89f6-47ef3a2deaa7",
   "metadata": {},
   "source": [
    "#### What are Tcl, Tk, and Tkinter?\n",
    "\n",
    "Let's try to understand more about the Tkinter module by discussing more about it origin.\n",
    "\n",
    "- As mentioned, Tkinter is Python's default GUI library, which is nothing but a wrapper module on top of the Tk toolkit.\n",
    "\n",
    "- Tkinter is based upon the Tk toolkit, and which was originally designed for the Tool Command Language (Tcl). As Tk is very popular thus it has been ported to a variety of other scripting languages, including Perl (Perl/Tk), Ruby (Ruby/Tk), and Python (Tkinter).\n",
    "\n",
    "- GUI development portability and flexibility of Tk makes it the right tool which can be used to design and implement a wide variety of commercial-quality GUI applications.\n",
    "\n",
    "- Python with Tkinter provides us a faster and efficient way in order to build useful applications that would have taken much time if you had to program directly in C/C++ with the help of native OS system libraries.\n",
    "\n",
    "- Once we have Tkinter up and running, we'll use basic building blocks known as widgets to create a variety of desktop applications."
   ]
  },
  {
   "cell_type": "markdown",
   "id": "9924ff4a-6446-477d-a54b-928c0eab152a",
   "metadata": {},
   "source": [
    "#### Install Tkinter\n",
    "\n",
    "Chances are, that Tkinter may be already installed on your system along with Python. But it is not true always. So let's first check if it is available.\n",
    "\n",
    "If you do not have Python installed on your system - Install Python first, and then check for Tkinter.\n",
    "\n",
    "You can determine whether Tkinter is available for your Python interpreter by attempting to import the Tkinter module - If Tkinter is available, then there will be no errors, as demonstrated in the following code:"
   ]
  },
  {
   "cell_type": "code",
   "execution_count": 2,
   "id": "f3df6a11-5280-439f-be32-3e8587baded2",
   "metadata": {},
   "outputs": [],
   "source": [
    "import tkinter"
   ]
  },
  {
   "cell_type": "markdown",
   "id": "fa3a77ea-f3a9-4732-8225-84c992dc4928",
   "metadata": {},
   "source": [
    "Nothing exploded, so we know we have **Tkinter available.** If you see any error like module not found, etc, then your **Python interpreter was not compiled with Tkinter enabled**, the module **import fails** and you might need to recompile your **Python interpreter to gain access to Tkinter.**"
   ]
  },
  {
   "cell_type": "markdown",
   "id": "55caeb5e-043d-4c3d-b49f-da6ee01d9cf7",
   "metadata": {},
   "source": [
    "\n",
    "#### Adding Tk to your Applications\n",
    "\n",
    "Basic steps of setting up a GUI application using Tkinter in Python are as follows:\n",
    "\n",
    "1. First of all, import the Tkinter module.\n",
    "\n",
    "2. The second step is to create a top-level windowing object that contains your entire GUI application.\n",
    "\n",
    "3. Then in the third step, you need to set up all your GUI components and their functionality.\n",
    "\n",
    "4. Then you need to connect these GUI components to the underlying application code.\n",
    "\n",
    "5. Then just enter the main event loop using mainloop()"
   ]
  },
  {
   "cell_type": "markdown",
   "id": "f5f37658-7a1f-488b-8408-1a7bfb3a7210",
   "metadata": {},
   "source": [
    "#### First Tkinter Example"
   ]
  },
  {
   "cell_type": "markdown",
   "id": "558bcf61-0b3c-41ec-8d73-022c8b08c7ed",
   "metadata": {},
   "source": [
    "As mentioned earlier that in GUI programming all main widgets are only built on the top-level window object.\n",
    "\n",
    "The top-level window object is created by the Tk class in Tkinter.\n",
    "\n",
    "Let us create a top-level window:"
   ]
  },
  {
   "cell_type": "code",
   "execution_count": 2,
   "id": "a7215711-c397-4a36-9606-7c8be8f7d253",
   "metadata": {},
   "outputs": [],
   "source": [
    "import tkinter as tk\n",
    "win = tk.Tk()\n",
    "\n",
    "# You can add widgets here\n",
    "\n",
    "win.mainloop()"
   ]
  },
  {
   "cell_type": "markdown",
   "id": "90225376-4640-4e8a-bd22-8f7e13f69817",
   "metadata": {},
   "source": [
    "1. **Tk(screenName=None, baseName=None, className='Tk', useTk=1)**\n",
    "\n",
    "    This method is mainly used to create the main window. You can also change the name of the window if you want, just by changing the className to the desired one.\n",
    "\n",
    "2. **The mainloop() Function**\n",
    "\n",
    "    This method is used to start the application. The mainloop() function is an infinite loop which is used to run the application, it will wait for an event to occur and  process the event as long as the window is not closed."
   ]
  },
  {
   "cell_type": "code",
   "execution_count": 11,
   "id": "f33a12a7-709a-42e8-9f97-c07d5bd0e961",
   "metadata": {},
   "outputs": [],
   "source": [
    "import tkinter as tk\n",
    "win = tk.Tk(className=' Windows Name')\n",
    "\n",
    "# You can add widgets here\n",
    "\n",
    "win.mainloop()"
   ]
  },
  {
   "cell_type": "markdown",
   "id": "cb61992e-3776-4322-bb65-daa1c748a0f2",
   "metadata": {},
   "source": []
  }
 ],
 "metadata": {
  "kernelspec": {
   "display_name": "Python 3 (ipykernel)",
   "language": "python",
   "name": "python3"
  },
  "language_info": {
   "codemirror_mode": {
    "name": "ipython",
    "version": 3
   },
   "file_extension": ".py",
   "mimetype": "text/x-python",
   "name": "python",
   "nbconvert_exporter": "python",
   "pygments_lexer": "ipython3",
   "version": "3.8.12"
  }
 },
 "nbformat": 4,
 "nbformat_minor": 5
}
