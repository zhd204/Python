{
 "cells": [
  {
   "cell_type": "markdown",
   "id": "7bcedb8d-04c2-4ca7-b924-f1e3167c196d",
   "metadata": {},
   "source": [
    "In this tutorial, we will learn about Tkinter Windows in Python which is the main Window of the GUI application inside which every other component runs. We have covered the basic Tkinter GUI application Components in which we have explained how Tkinter Windows, Widgets, and Frames are building blocks of a Tkinter App."
   ]
  },
  {
   "cell_type": "markdown",
   "id": "fea0c41b-08fb-4dd7-8318-d630cde1c834",
   "metadata": {},
   "source": [
    "## Tkinter Windows"
   ]
  },
  {
   "cell_type": "markdown",
   "id": "c6ea0f2d-8ee0-493b-ae6d-f768bea1003c",
   "metadata": {},
   "source": [
    "The Tkinter window is the foundational element of the Tkinter GUI. Tkinter window is a container in which all other GUI elements(widgets) live.\n",
    "\n",
    "Here is the syntax for creating a basic Tkinter Window:\n",
    "\n",
    "win = Tk()\n",
    "\n",
    "Yes, we use the Tk() function to create our Tkinter app window in which all the other components are added."
   ]
  },
  {
   "cell_type": "code",
   "execution_count": 2,
   "id": "9e459b5c-64ad-424f-abd6-0068ce35a020",
   "metadata": {},
   "outputs": [],
   "source": [
    "from tkinter import *\n",
    "\n",
    "window = Tk()\n",
    "\n",
    "# You can add your widgets here.\n",
    "\n",
    "window.title('Hello Tkinter')\n",
    "window.geometry(\"300x200+100+200\")\n",
    "window.mainloop()"
   ]
  },
  {
   "cell_type": "markdown",
   "id": "ea3bcb2c-3198-4529-9b47-3cd1984f7aad",
   "metadata": {},
   "source": [
    "Here is what we have done in the code:\n",
    "\n",
    "- The first step is to import the Tkinter module in the code.\n",
    "\n",
    "- After importing, the second step is to set up the application object by calling the Tk() function. This will create a top-level window (root) having a frame with a title bar and control box with the minimize and close buttons, and a client area to hold other widgets.\n",
    "\n",
    "- After that, you can add the widgets you might want to add in your code like buttons, textbox, scrollbar, labels, and many more.\n",
    "\n",
    "- The window.title() function is used to provide the title to the user interface as you can see in the output.\n",
    "\n",
    "- In the line window.geometry(\"300x200+10+20); the geometry() method defines the width, height, and coordinates of the top left corner of the frame as follows (all values are generally in pixels) in the same way. Here is the syntax:\n",
    "\n",
    "    window.geometry(\"widthxheight+XPOS+YPOS\")\n",
    "    \n",
    "    refer to https://tkdocs.com/shipman/geometry.html\n",
    "\n",
    "- After that, the application object enters an event listening loop by calling the mainloop() method. In this way, the application is now constantly waiting for any event generated on the elements in it. There could be an event like text entered in a text field, a selection made from the dropdown or radio button, single/double click actions of the mouse, etc.\n",
    "\n",
    "The application's functionality involves executing appropriate callback functions in response to a particular type of event.\n",
    "\n",
    "The event loop will terminate as soon as there is a click made on the close button on the title bar.\n",
    "\n"
   ]
  },
  {
   "cell_type": "markdown",
   "id": "cb61992e-3776-4322-bb65-daa1c748a0f2",
   "metadata": {},
   "source": [
    "#### Example - Center the Window\n",
    "\n",
    "https://www.pythontutorial.net/tkinter/tkinter-window/"
   ]
  },
  {
   "cell_type": "code",
   "execution_count": 3,
   "id": "a5d97930-1146-457c-8a20-2466e1a3ae80",
   "metadata": {},
   "outputs": [],
   "source": [
    "import tkinter as tk\n",
    "\n",
    "root = tk.Tk()\n",
    "root.title('Tkinter Window - Center')\n",
    "\n",
    "root.resizable(False, False)  # make the window fixed size\n",
    "\n",
    "window_width = 300\n",
    "window_height = 200\n",
    "\n",
    "# get the screen dimension\n",
    "screen_width = root.winfo_screenwidth()  # universal widget method, https://anzeljg.github.io/rin2/book2/2405/docs/tkinter/universal.html\n",
    "sccreen_height = root.winfo_screenheight()\n",
    "\n",
    "# find the center point\n",
    "center_x = int(screen_width/2 - window_width/2)\n",
    "center_y = int(sccreen_height/2 - window_height/2)\n",
    "\n",
    "# set the position of the window to the center of the screen\n",
    "root.geometry(f\"{window_width}x{window_height}+{center_x}+{center_y}\")\n",
    "\n",
    "root.mainloop()"
   ]
  },
  {
   "cell_type": "markdown",
   "id": "e474ad24-3dce-4bf8-a127-7c1b451cb097",
   "metadata": {},
   "source": [
    "#### Windows root.attributes\n",
    "\n",
    "k.Tk.attributes sets platform specific attributes. The attributes in Windows are,\n",
    "\n",
    "- -alpha (sets transparency)\n",
    "- -transparentcolor\n",
    "- -disabled\n",
    "- -fullscreen (sets fullscreen)\n",
    "- -toolwindow\n",
    "- -topmost (sets the window stack order)"
   ]
  },
  {
   "cell_type": "code",
   "execution_count": 10,
   "id": "8067c05a-d7d5-4511-9963-be6edf116d68",
   "metadata": {},
   "outputs": [],
   "source": [
    "import tkinter as tk\n",
    "\n",
    "root = tk.Tk()\n",
    "root.title('Tkinter Window Demo')\n",
    "root.geometry('600x400+50+50')\n",
    "root.resizable(False, False)\n",
    "root.attributes('-alpha', 1)\n",
    "# root.attributes('-fullscreen', 1)\n",
    "root.attributes('-topmost', 1)  # always on top\n",
    "root.iconbitmap(\"images/pythontutorial.ico\")  # change the icon, might not work in the MacOS\n",
    "\n",
    "root.mainloop()"
   ]
  },
  {
   "cell_type": "markdown",
   "id": "69001e0f-0f47-4bd2-9e91-9752cc73e7bb",
   "metadata": {},
   "source": [
    "#### Summary\n",
    "\n",
    "- Use the *title()* method to change the title of the window.\n",
    "- Use the *geometry()* method to change the size and location of the window.\n",
    "- Use the *resizable()* method to specify whether a window can be resizable horizontally or vertically.\n",
    "- Use the *window.attributes('-alpha',0.5)* to set the transparency for the window.\n",
    "- Use the *window.attributes('-topmost', 1)* to make the window always on top.\n",
    "- Use *lift()* and *lower()* methods to move the window up and down of the window stacking order.\n",
    "- Use the *iconbitmap()* method to change the default icon of the window."
   ]
  },
  {
   "cell_type": "code",
   "execution_count": null,
   "id": "1d0d97b3-c701-4868-8ba9-61053a3d76b7",
   "metadata": {},
   "outputs": [],
   "source": []
  }
 ],
 "metadata": {
  "kernelspec": {
   "display_name": "Python 3 (ipykernel)",
   "language": "python",
   "name": "python3"
  },
  "language_info": {
   "codemirror_mode": {
    "name": "ipython",
    "version": 3
   },
   "file_extension": ".py",
   "mimetype": "text/x-python",
   "name": "python",
   "nbconvert_exporter": "python",
   "pygments_lexer": "ipython3",
   "version": "3.8.12"
  }
 },
 "nbformat": 4,
 "nbformat_minor": 5
}
