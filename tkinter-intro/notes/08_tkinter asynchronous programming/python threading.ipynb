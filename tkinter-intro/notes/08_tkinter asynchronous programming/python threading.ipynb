{
 "cells": [
  {
   "cell_type": "markdown",
   "id": "f042409e-8df0-4875-a8f2-85062e01e5bd",
   "metadata": {},
   "source": [
    "## Python Threading\n",
    "\n",
    "For the reference of complete command options and methods: \n",
    "\n",
    "- https://www.pythontutorial.net/advanced-python/differences-between-processes-and-threads/\n",
    "- https://www.pythontutorial.net/advanced-python/python-threading/\n",
    "- https://www.pythontutorial.net/advanced-python/python-threading-lock/\n",
    "\n"
   ]
  },
  {
   "cell_type": "markdown",
   "id": "8b896336-832e-4e16-ada3-40c596f96dc7",
   "metadata": {},
   "source": [
    "#### When to use Python threading\n",
    "As introduced in the process and thread tutorial, there’re two main tasks:\n",
    "\n",
    "- I/O-bound tasks – the time spending on I/O significantly more than the time spending on computation\n",
    "- CPU-bound tasks – the time spending on computation is significantly higher than the time waiting for I/O.\n",
    "\n",
    "Python threading is optimized for I/O bound tasks. For example, requesting remote resources, connecting a database server, or reading and writing files.\n",
    "\n",
    "\n",
    "#### Summary\n",
    "Use the Python threading module to create a multi-threaded application.\n",
    "Use the Thread(function, args) to create a new thread.\n",
    "Call the start() method of the Thread to start the thread.\n",
    "Call the join() method o the Thread to wait for the thread to complete in the main thread.\n",
    "Only use threading for I/O bound processing applications."
   ]
  },
  {
   "cell_type": "markdown",
   "id": "eb45c5d2-b98e-4509-9b3d-8669fbfe1b11",
   "metadata": {},
   "source": [
    "#### Compare the two programs below"
   ]
  },
  {
   "cell_type": "code",
   "execution_count": 2,
   "id": "0c505eaa-464c-4b95-9584-5cb73e16be82",
   "metadata": {},
   "outputs": [
    {
     "name": "stdout",
     "output_type": "stream",
     "text": [
      "Starting a task...\n",
      "done\n",
      "Starting a task...\n",
      "done\n",
      "It took  2.01 second(s) to complete.\n"
     ]
    }
   ],
   "source": [
    "from time import sleep, perf_counter\n",
    "\n",
    "def task():\n",
    "    print('Starting a task...')\n",
    "    sleep(1)\n",
    "    print('done')\n",
    "\n",
    "\n",
    "start_time = perf_counter()\n",
    "\n",
    "task()\n",
    "task()\n",
    "\n",
    "end_time = perf_counter()\n",
    "\n",
    "print(f'It took {end_time- start_time: 0.2f} second(s) to complete.')"
   ]
  },
  {
   "cell_type": "code",
   "execution_count": 3,
   "id": "72466817-98fa-493e-b2d8-5b6e0982a637",
   "metadata": {},
   "outputs": [
    {
     "name": "stdout",
     "output_type": "stream",
     "text": [
      "Starting a task...\n",
      "Starting a task...\n",
      "donedone\n",
      "\n",
      "It took  1.01 second(s) to complete.\n"
     ]
    }
   ],
   "source": [
    "from time import sleep, perf_counter\n",
    "from threading import Thread\n",
    "\n",
    "\n",
    "def task():\n",
    "    print('Starting a task...')\n",
    "    sleep(1)\n",
    "    print('done')\n",
    "\n",
    "\n",
    "start_time = perf_counter()\n",
    "\n",
    "# create two new threads\n",
    "t1 = Thread(target=task)\n",
    "t2 = Thread(target=task)\n",
    "\n",
    "# start the threads\n",
    "t1.start()\n",
    "t2.start()\n",
    "\n",
    "# wait for the threads to complete\n",
    "t1.join()\n",
    "t2.join()\n",
    "\n",
    "end_time = perf_counter()\n",
    "\n",
    "print(f'It took {end_time- start_time: 0.2f} second(s) to complete.')"
   ]
  },
  {
   "cell_type": "markdown",
   "id": "287daa30-35cc-4270-92f1-faf52cffaf62",
   "metadata": {},
   "source": [
    "#### Python Threading Example\n",
    "\n",
    "Suppose that you have a list of text files in a folder e.g., C:/temp/. And you want to replace a text with a new one in all the files.\n"
   ]
  },
  {
   "cell_type": "code",
   "execution_count": 26,
   "id": "15cae314-0a66-4ec3-bce7-0f2ab297976e",
   "metadata": {},
   "outputs": [],
   "source": [
    "# preparation\n",
    "# create 10 text files\n",
    "\n",
    "for i in range(1, 11):\n",
    "    with open(f\"threading_temp/file{i}\", 'w') as f:\n",
    "        f.write(f\"This is test file{i}.\\n\")\n",
    "        f.write(\"Target string is ids.\")\n"
   ]
  },
  {
   "cell_type": "markdown",
   "id": "253ed48f-5f8e-4905-afc8-c92516174a02",
   "metadata": {},
   "source": [
    "The following **single-threaded** program shows how to replace a substring with the new one in the text files:"
   ]
  },
  {
   "cell_type": "code",
   "execution_count": 27,
   "id": "6786d62d-eb27-41f7-a221-daf96e2fe367",
   "metadata": {},
   "outputs": [
    {
     "name": "stdout",
     "output_type": "stream",
     "text": [
      "Processing the file threading_temp/file10\n",
      "Processing the file threading_temp/file3\n",
      "Processing the file threading_temp/file4\n",
      "Processing the file threading_temp/file5\n",
      "Processing the file threading_temp/file2\n",
      "Processing the file threading_temp/file7\n",
      "Processing the file threading_temp/file9\n",
      "Processing the file threading_temp/file8\n",
      "Processing the file threading_temp/file1\n",
      "Processing the file threading_temp/file6\n",
      "It took 0.00478 second(s) to complete.\n"
     ]
    }
   ],
   "source": [
    "from time import perf_counter\n",
    "from os import listdir\n",
    "from os.path import isfile, join\n",
    "\n",
    "def replace(filename, substr, new_substr):\n",
    "    print(f\"Processing the file {filename}\")\n",
    "    \n",
    "    with open(filename, 'r') as f:\n",
    "        content = f.read()\n",
    "    \n",
    "    content = content.replace(substr, new_substr)\n",
    "    \n",
    "    with open(filename, 'w') as f:\n",
    "        f.write(content)\n",
    "\n",
    "def list_files(path):\n",
    "    files = [f for f in listdir(path) if isfile(join(path, f))]\n",
    "    return files\n",
    "                                    \n",
    "def main():\n",
    "    filenames = list_files(\"threading_temp/\")\n",
    "    \n",
    "    for filename in filenames:\n",
    "        replace(f\"threading_temp/{filename}\", 'ids', 'id')\n",
    "\n",
    "if __name__ == \"__main__\":\n",
    "    start_time = perf_counter()\n",
    "    main()\n",
    "    end_time = perf_counter()\n",
    "    \n",
    "    print(f\"It took {end_time - start_time :0.5f} second(s) to complete.\")\n",
    "    "
   ]
  },
  {
   "cell_type": "code",
   "execution_count": 28,
   "id": "fca63e76-f754-482e-93b5-f8aea9bf59ba",
   "metadata": {},
   "outputs": [
    {
     "name": "stdout",
     "output_type": "stream",
     "text": [
      "Processing the file threading_temp/file10\n",
      "\n",
      "Processing the file threading_temp/file3\n",
      "Processing the file threading_temp/file4\n",
      "\n",
      "Processing the file threading_temp/file5\n",
      "\n",
      "Processing the file threading_temp/file2\n",
      "Processing the file threading_temp/file7\n",
      "\n",
      "\n",
      "Processing the file threading_temp/file9\n",
      "\n",
      "Processing the file threading_temp/file8\n",
      "\n",
      "\n",
      "Processing the file threading_temp/file1\n",
      "\n",
      "Processing the file threading_temp/file6\n",
      "\n",
      "It took 0.00651 second(s) to complete.\n"
     ]
    }
   ],
   "source": [
    "from time import perf_counter\n",
    "from os import listdir\n",
    "from os.path import isfile, join\n",
    "from threading import Thread\n",
    "\n",
    "def replace(filename, substr, new_substr):\n",
    "    print(f\"Processing the file {filename}\\n\")\n",
    "    \n",
    "    with open(filename, 'r') as f:\n",
    "        content = f.read()\n",
    "    \n",
    "    content = content.replace(substr, new_substr)\n",
    "    \n",
    "    with open(filename, 'w') as f:\n",
    "        f.write(content)\n",
    "\n",
    "def list_files(path):\n",
    "    files = [f for f in listdir(path) if isfile(join(path, f))]\n",
    "    return files\n",
    "                                    \n",
    "def main():\n",
    "    filenames = list_files(\"threading_temp/\")\n",
    "    \n",
    "    threads = [Thread(target=replace, args=(f\"threading_temp/{filename}\", \"id\", \"ids\")) for filename in filenames]\n",
    "    \n",
    "    for thread in threads:\n",
    "        thread.start()\n",
    "        \n",
    "    for thread in threads:\n",
    "        thread.join()\n",
    "    \n",
    "if __name__ == \"__main__\":\n",
    "    start_time = perf_counter()\n",
    "    main()\n",
    "    end_time = perf_counter()\n",
    "    \n",
    "    print(f\"It took {end_time - start_time :0.5f} second(s) to complete.\")\n",
    "    "
   ]
  },
  {
   "cell_type": "code",
   "execution_count": 32,
   "id": "41f5db1c-69fe-4925-ab45-87465dcc6ec9",
   "metadata": {},
   "outputs": [],
   "source": [
    "# preparation\n",
    "# create 10 text files\n",
    "\n",
    "for i in range(1, 11):\n",
    "    with open(f\"temp/test{i}.txt\", 'w') as f:\n",
    "        f.write(f\"This is test file{i}.\\n\")\n",
    "        f.write(\"Target string is ids.\")\n"
   ]
  },
  {
   "cell_type": "code",
   "execution_count": 36,
   "id": "57f56dd9-b237-4c59-8b74-09167a354200",
   "metadata": {},
   "outputs": [
    {
     "name": "stdout",
     "output_type": "stream",
     "text": [
      "Processing the file temp/test1.txt\n",
      "Processing the file temp/test2.txt\n",
      "Processing the file temp/test3.txt\n",
      "Processing the file temp/test4.txt\n",
      "Processing the file temp/test5.txt\n",
      "Processing the file temp/test6.txt\n",
      "Processing the file temp/test7.txt\n",
      "Processing the file temp/test8.txt\n",
      "Processing the file temp/test9.txt\n",
      "Processing the file temp/test10.txt\n",
      "It took 0.00435 second(s) to complete.\n"
     ]
    }
   ],
   "source": [
    "from time import perf_counter\n",
    "\n",
    "\n",
    "def replace(filename, substr, new_substr):\n",
    "    print(f'Processing the file {filename}')\n",
    "    # get the contents of the file\n",
    "    with open(filename, 'r') as f:\n",
    "        content = f.read()\n",
    "\n",
    "    # replace the substr by new_substr\n",
    "    content = content.replace(substr, new_substr)\n",
    "\n",
    "    # write data into the file\n",
    "    with open(filename, 'w') as f:\n",
    "        f.write(content)\n",
    "\n",
    "\n",
    "def main():\n",
    "    filenames = [\n",
    "        'temp/test1.txt',\n",
    "        'temp/test2.txt',\n",
    "        'temp/test3.txt',\n",
    "        'temp/test4.txt',\n",
    "        'temp/test5.txt',\n",
    "        'temp/test6.txt',\n",
    "        'temp/test7.txt',\n",
    "        'temp/test8.txt',\n",
    "        'temp/test9.txt',\n",
    "        'temp/test10.txt',\n",
    "    ]\n",
    "\n",
    "    for filename in filenames:\n",
    "        replace(filename, 'ids', 'id')\n",
    "\n",
    "\n",
    "if __name__ == \"__main__\":\n",
    "    start_time = perf_counter()\n",
    "\n",
    "    main()\n",
    "\n",
    "    end_time = perf_counter()\n",
    "    print(f'It took {end_time- start_time :0.5f} second(s) to complete.')"
   ]
  },
  {
   "cell_type": "code",
   "execution_count": 35,
   "id": "79a75c3c-fefa-400f-b2b6-fadd09ab5595",
   "metadata": {},
   "outputs": [
    {
     "name": "stdout",
     "output_type": "stream",
     "text": [
      "Processing the file temp/test1.txt\n",
      "Processing the file temp/test2.txt\n",
      "Processing the file temp/test3.txt\n",
      "Processing the file temp/test4.txt\n",
      "Processing the file temp/test5.txtProcessing the file temp/test6.txt\n",
      "\n",
      "Processing the file temp/test7.txt\n",
      "Processing the file temp/test8.txt\n",
      "Processing the file temp/test9.txtProcessing the file temp/test10.txt\n",
      "\n",
      "It took 0.00645 second(s) to complete.\n"
     ]
    }
   ],
   "source": [
    "from threading import Thread\n",
    "from time import perf_counter\n",
    "\n",
    "\n",
    "def replace(filename, substr, new_substr):\n",
    "    print(f'Processing the file {filename}')\n",
    "    # get the contents of the file\n",
    "    with open(filename, 'r') as f:\n",
    "        content = f.read()\n",
    "\n",
    "    # replace the substr by new_substr\n",
    "    content = content.replace(substr, new_substr)\n",
    "\n",
    "    # write data into the file\n",
    "    with open(filename, 'w') as f:\n",
    "        f.write(content)\n",
    "\n",
    "\n",
    "def main():\n",
    "    filenames = [\n",
    "       'temp/test1.txt',\n",
    "        'temp/test2.txt',\n",
    "        'temp/test3.txt',\n",
    "        'temp/test4.txt',\n",
    "        'temp/test5.txt',\n",
    "        'temp/test6.txt',\n",
    "        'temp/test7.txt',\n",
    "        'temp/test8.txt',\n",
    "        'temp/test9.txt',\n",
    "        'temp/test10.txt',\n",
    "    ]\n",
    "\n",
    "    # create threads\n",
    "    threads = [Thread(target=replace, args=(filename, 'id', 'ids'))\n",
    "            for filename in filenames]\n",
    "\n",
    "    # start the threads\n",
    "    for thread in threads:\n",
    "        thread.start()\n",
    "\n",
    "    # wait for the threads to complete\n",
    "    for thread in threads:\n",
    "        thread.join()\n",
    "\n",
    "\n",
    "if __name__ == \"__main__\":\n",
    "    start_time = perf_counter()\n",
    "\n",
    "    main()\n",
    "\n",
    "    end_time = perf_counter()\n",
    "    print(f'It took {end_time- start_time :0.5f} second(s) to complete.')"
   ]
  },
  {
   "cell_type": "code",
   "execution_count": null,
   "id": "d21ef223-784c-48a5-8acb-571346abc232",
   "metadata": {},
   "outputs": [],
   "source": []
  }
 ],
 "metadata": {
  "kernelspec": {
   "display_name": "Python 3 (ipykernel)",
   "language": "python",
   "name": "python3"
  },
  "language_info": {
   "codemirror_mode": {
    "name": "ipython",
    "version": 3
   },
   "file_extension": ".py",
   "mimetype": "text/x-python",
   "name": "python",
   "nbconvert_exporter": "python",
   "pygments_lexer": "ipython3",
   "version": "3.8.12"
  }
 },
 "nbformat": 4,
 "nbformat_minor": 5
}
