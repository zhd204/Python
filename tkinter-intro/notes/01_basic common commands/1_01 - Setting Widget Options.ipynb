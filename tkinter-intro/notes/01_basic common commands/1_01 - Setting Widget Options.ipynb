{
 "cells": [
  {
   "cell_type": "markdown",
   "id": "cd06d3eb-502e-465c-8313-b09bc26df5a2",
   "metadata": {},
   "source": [
    "## 3 Ways to Set Options for a (Tk Themed) Widget\n",
    "\n",
    "For the reference of complete command options and methods:\n",
    "\n",
    "https://www.pythontutorial.net/tkinter/tkinter-options/\n",
    "\n",
    "Tkinter allows you to set the options of a widget using one of the following ways:\n",
    "\n",
    "- At widget creation, using keyword arguments.\n",
    "- After widget creation, using a dictionary index.\n",
    "- And use the config() method with keyword attributes."
   ]
  },
  {
   "cell_type": "markdown",
   "id": "21422f9a-b81f-4e3d-b1a7-017298cb5de7",
   "metadata": {
    "tags": []
   },
   "source": [
    "#### Using keyword arguments when creating the widget"
   ]
  },
  {
   "cell_type": "code",
   "execution_count": 4,
   "id": "b6ffe7a8-bdd9-4631-ae56-d24fd561b6d5",
   "metadata": {
    "tags": []
   },
   "outputs": [],
   "source": [
    "import tkinter as tk\n",
    "from tkinter import ttk\n",
    "\n",
    "\n",
    "root = tk.Tk()\n",
    "root.geometry(\"300x200\")\n",
    "root.attributes('-topmost', 1)  # always on top\n",
    "ttk.Label(root, text='Hi, there').pack()\n",
    "\n",
    "root.mainloop()"
   ]
  },
  {
   "cell_type": "markdown",
   "id": "7f4db33a-3e74-4e8f-b91e-58c3512b1e7a",
   "metadata": {
    "tags": []
   },
   "source": [
    "#### Using a dictionary index after the widget creation"
   ]
  },
  {
   "cell_type": "code",
   "execution_count": 5,
   "id": "bb31ace1-5221-4875-8de5-1dd2e72910fd",
   "metadata": {
    "tags": []
   },
   "outputs": [],
   "source": [
    "import tkinter as tk\n",
    "from tkinter import ttk\n",
    "\n",
    "\n",
    "root = tk.Tk()\n",
    "root.geometry(\"300x200\")\n",
    "root.attributes('-topmost', 1)  # always on top\n",
    "label = ttk.Label(root)\n",
    "label['text'] = \"Hi there!\"\n",
    "label.pack()\n",
    "\n",
    "\n",
    "\n",
    "root.mainloop()"
   ]
  },
  {
   "cell_type": "markdown",
   "id": "b9780a9c-6256-4cda-895e-d170ce9883be",
   "metadata": {
    "tags": []
   },
   "source": [
    "#### Using the config() method with keyword attributes"
   ]
  },
  {
   "cell_type": "code",
   "execution_count": 6,
   "id": "0a5778a9-1251-4459-baa3-5f8e43de3f96",
   "metadata": {
    "tags": []
   },
   "outputs": [],
   "source": [
    "import tkinter as tk\n",
    "from tkinter import ttk\n",
    "\n",
    "\n",
    "root = tk.Tk()\n",
    "root.geometry(\"300x200\")\n",
    "root.attributes('-topmost', 1)  # always on top\n",
    "label = ttk.Label(root)\n",
    "label.config(text=\"Hi, there!\")\n",
    "label.pack()\n",
    "\n",
    "root.mainloop()"
   ]
  },
  {
   "cell_type": "code",
   "execution_count": null,
   "id": "e8c3933d-dda7-4bcc-9f08-c5914ef43265",
   "metadata": {},
   "outputs": [],
   "source": []
  }
 ],
 "metadata": {
  "kernelspec": {
   "display_name": "Python 3 (ipykernel)",
   "language": "python",
   "name": "python3"
  },
  "language_info": {
   "codemirror_mode": {
    "name": "ipython",
    "version": 3
   },
   "file_extension": ".py",
   "mimetype": "text/x-python",
   "name": "python",
   "nbconvert_exporter": "python",
   "pygments_lexer": "ipython3",
   "version": "3.8.12"
  }
 },
 "nbformat": 4,
 "nbformat_minor": 5
}
