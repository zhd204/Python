{
 "cells": [
  {
   "cell_type": "markdown",
   "id": "cd06d3eb-502e-465c-8313-b09bc26df5a2",
   "metadata": {
    "tags": []
   },
   "source": [
    "## Introduction to Tkinter event binding\n",
    "\n",
    "For the reference of complete command options and methods:\n",
    "\n",
    "https://www.pythontutorial.net/tkinter/tkinter-event-binding/\n",
    "\n",
    "Assigning a function to an event of a widget is called **event binding**. When the event occurs, the assigned function is invoked automatically.\n",
    "\n",
    "The following shows the general syntax of the bind() method:\n",
    "\n",
    "    widget.bind(event, handler, add=None)\n",
    "    \n",
    "When an event occurs in the widget, Tkinter will invoke the handler automatically with the event detail.\n",
    "\n",
    "If you want to register an additional handler, you can pass the '+' to the add argument. It means that you can have multiple event handlers that respond to the same event."
   ]
  },
  {
   "cell_type": "markdown",
   "id": "21422f9a-b81f-4e3d-b1a7-017298cb5de7",
   "metadata": {
    "tags": []
   },
   "source": [
    "#### Example of event binding\n",
    "\n",
    "The following program illustrates how to bind the return_pressed function to the Return key pressed event of the 'Save' button:"
   ]
  },
  {
   "cell_type": "code",
   "execution_count": 3,
   "id": "b6ffe7a8-bdd9-4631-ae56-d24fd561b6d5",
   "metadata": {
    "tags": []
   },
   "outputs": [
    {
     "name": "stdout",
     "output_type": "stream",
     "text": [
      "Return key pressed.\n",
      "Return key pressed.\n",
      "Return key pressed.\n"
     ]
    }
   ],
   "source": [
    "import tkinter as tk\n",
    "from tkinter import ttk\n",
    "\n",
    "def return_pressed(event):\n",
    "    print(\"Return key pressed.\")\n",
    "    \n",
    "    \n",
    "root = tk.Tk()\n",
    "root.geometry(\"300x200\")\n",
    "root.attributes('-topmost', 1)  # always on top\n",
    "\n",
    "button = ttk.Button(root, text=\"Click Me!\")\n",
    "button.bind(\"<Return>\", return_pressed)\n",
    "\n",
    "button.focus()  # to place the focus on the button. otherwise, need to click the button to put focus\n",
    "                # event bounded only works when the button has focus\n",
    "button.pack(expand=True)\n",
    "\n",
    "root.mainloop()"
   ]
  },
  {
   "cell_type": "markdown",
   "id": "7f4db33a-3e74-4e8f-b91e-58c3512b1e7a",
   "metadata": {
    "tags": []
   },
   "source": [
    "The following example illustrates how to use the bind() method to register multiple handlers for the same event:"
   ]
  },
  {
   "cell_type": "code",
   "execution_count": 5,
   "id": "bb31ace1-5221-4875-8de5-1dd2e72910fd",
   "metadata": {
    "tags": []
   },
   "outputs": [
    {
     "name": "stdout",
     "output_type": "stream",
     "text": [
      "Return key pressed.\n",
      "<KeyPress event keysym=Return keycode=603979789 x=101 y=38>\n",
      "Return key pressed.\n",
      "<KeyPress event keysym=Return keycode=603979789 x=101 y=38>\n",
      "Return key pressed.\n",
      "<KeyPress event keysym=Return keycode=603979789 x=101 y=38>\n",
      "Return key pressed.\n",
      "<KeyPress event keysym=Return keycode=603979789 x=101 y=38>\n"
     ]
    }
   ],
   "source": [
    "import tkinter as tk\n",
    "from tkinter import ttk\n",
    "\n",
    "def return_pressed(event):\n",
    "    print(\"Return key pressed.\")\n",
    "\n",
    "def log(event):\n",
    "    print(event)\n",
    "\n",
    "\n",
    "root = tk.Tk()\n",
    "root.geometry(\"300x200\")\n",
    "root.attributes('-topmost', 1)  # always on top\n",
    "\n",
    "btn = ttk.Button(root, text=\"Save\")\n",
    "btn.bind(\"<Return>\", return_pressed)\n",
    "btn.bind(\"<Return>\", log, add=\"+\")  # add='+' registered additional handler, which is the log() function.\n",
    "\n",
    "btn.focus()\n",
    "btn.pack(expand=True)\n",
    "\n",
    "root.mainloop()"
   ]
  },
  {
   "cell_type": "markdown",
   "id": "2183c7c3-ef23-4b70-83c2-08853042e5c6",
   "metadata": {
    "tags": []
   },
   "source": [
    "#### Event Patterns\n",
    "\n",
    "The following shows the general syntax of an event pattern:\n",
    "\n",
    "    <modifier-type-detail>\n",
    "    \n",
    "For details about:\n",
    "- modifier\n",
    "- type\n",
    "- detail\n",
    "\n",
    "Refer to https://www.pythontutorial.net/tkinter/tkinter-event-binding/"
   ]
  },
  {
   "cell_type": "markdown",
   "id": "77c06a2f-0ff1-4ff2-bb0e-902edbad2465",
   "metadata": {},
   "source": [
    "#### Others\n",
    "\n",
    "- Binding events to root window\n",
    "\n",
    "        root.bind('<Return>', handler)\n",
    "\n",
    "\n",
    "- Instance-level binding vs class-level binding\n",
    "\n",
    "        root.bind_class('Entry', '<Control-V>', paste)\n",
    "        \n",
    "\n",
    "- Unbinding events\n",
    "\n",
    "        widget.unbind(event)"
   ]
  },
  {
   "cell_type": "code",
   "execution_count": null,
   "id": "e7b18fc5-bc52-4a5b-a8f8-d3c6c1643750",
   "metadata": {},
   "outputs": [],
   "source": []
  }
 ],
 "metadata": {
  "kernelspec": {
   "display_name": "Python 3 (ipykernel)",
   "language": "python",
   "name": "python3"
  },
  "language_info": {
   "codemirror_mode": {
    "name": "ipython",
    "version": 3
   },
   "file_extension": ".py",
   "mimetype": "text/x-python",
   "name": "python",
   "nbconvert_exporter": "python",
   "pygments_lexer": "ipython3",
   "version": "3.8.12"
  }
 },
 "nbformat": 4,
 "nbformat_minor": 5
}
