{
 "cells": [
  {
   "cell_type": "markdown",
   "id": "cd06d3eb-502e-465c-8313-b09bc26df5a2",
   "metadata": {},
   "source": [
    "## Introduction to Tkinter command binding\n",
    "\n",
    "For the reference of complete command options and methods:\n",
    "\n",
    "https://www.pythontutorial.net/tkinter/tkinter-command/\n",
    "\n",
    "In Tkinter, **some widgets** (not all the widgets) allow you to associate a *callback* function with an event using the command binding.\n",
    "\n",
    "It means that you can assign the name of a function to the command option of the widget so that when the event occurs on the widget, the function will be called automatically.\n",
    "\n",
    "To use the command binding, you follow these steps:\n",
    "\n",
    "- First, define a function as a callback.\n",
    "- Then, assign the name of the function to the command option of the widget."
   ]
  },
  {
   "cell_type": "markdown",
   "id": "21422f9a-b81f-4e3d-b1a7-017298cb5de7",
   "metadata": {
    "tags": []
   },
   "source": [
    "#### Example of callback function WITHOUT command arguments"
   ]
  },
  {
   "cell_type": "code",
   "execution_count": 2,
   "id": "b6ffe7a8-bdd9-4631-ae56-d24fd561b6d5",
   "metadata": {
    "tags": []
   },
   "outputs": [
    {
     "name": "stdout",
     "output_type": "stream",
     "text": [
      "Button clicked\n",
      "Button clicked\n"
     ]
    }
   ],
   "source": [
    "import tkinter as tk\n",
    "from tkinter import ttk\n",
    "\n",
    "\n",
    "root = tk.Tk()\n",
    "root.geometry(\"300x200\")\n",
    "root.attributes('-topmost', 1)  # always on top\n",
    "\n",
    "def button_clicked():\n",
    "    print('Button clicked')\n",
    "\n",
    "button = ttk.Button(root, text=\"Click Me!\", command=button_clicked)\n",
    "button.pack()\n",
    "\n",
    "root.mainloop()"
   ]
  },
  {
   "cell_type": "markdown",
   "id": "7f4db33a-3e74-4e8f-b91e-58c3512b1e7a",
   "metadata": {
    "tags": []
   },
   "source": [
    "#### Example of callback function WITHOUT command arguments: Lambda Expression !!!"
   ]
  },
  {
   "cell_type": "code",
   "execution_count": 3,
   "id": "bb31ace1-5221-4875-8de5-1dd2e72910fd",
   "metadata": {
    "tags": []
   },
   "outputs": [
    {
     "name": "stdout",
     "output_type": "stream",
     "text": [
      "Rock\n",
      "Paper\n",
      "Scissors\n"
     ]
    }
   ],
   "source": [
    "import tkinter as tk\n",
    "from tkinter import ttk\n",
    "\n",
    "\n",
    "root = tk.Tk()\n",
    "root.geometry(\"300x200\")\n",
    "root.attributes('-topmost', 1)  # always on top\n",
    "\n",
    "def select(option):\n",
    "    print(option)\n",
    "\n",
    "ttk.Button(root, text=\"Rock\", command=lambda: select(\"Rock\")).pack()\n",
    "ttk.Button(root, text=\"Paper\", command=lambda: select(\"Paper\")).pack()\n",
    "ttk.Button(root, text=\"Scissors\", command=lambda: select(\"Scissors\")).pack()\n",
    "\n",
    "\n",
    "\n",
    "root.mainloop()"
   ]
  },
  {
   "cell_type": "markdown",
   "id": "2183c7c3-ef23-4b70-83c2-08853042e5c6",
   "metadata": {
    "tags": []
   },
   "source": [
    "#### Limitation of command binding\n",
    "\n",
    "- The *command* option isn't available in all widgets.\n",
    "- The *command* button binds to the left-click and the backspace. It doesn't bind to the *Return* key\n",
    "\n",
    "To overcome these limitations, the alternative way for associating a function with an event is called **event binding**."
   ]
  },
  {
   "cell_type": "code",
   "execution_count": null,
   "id": "19c91905-c034-4d13-b571-1866469a7ff0",
   "metadata": {},
   "outputs": [],
   "source": []
  }
 ],
 "metadata": {
  "kernelspec": {
   "display_name": "Python 3 (ipykernel)",
   "language": "python",
   "name": "python3"
  },
  "language_info": {
   "codemirror_mode": {
    "name": "ipython",
    "version": 3
   },
   "file_extension": ".py",
   "mimetype": "text/x-python",
   "name": "python",
   "nbconvert_exporter": "python",
   "pygments_lexer": "ipython3",
   "version": "3.8.12"
  }
 },
 "nbformat": 4,
 "nbformat_minor": 5
}
