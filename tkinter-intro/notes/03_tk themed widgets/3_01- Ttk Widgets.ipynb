{
 "cells": [
  {
   "cell_type": "markdown",
   "id": "d72c1e8a-8bc1-4aeb-adfd-45865dd1c97d",
   "metadata": {},
   "source": [
    "## Tk Themed Widgets\n",
    "\n",
    "https://www.pythontutorial.net/tkinter/tkinter-ttk/\n",
    "\n",
    "https://anzeljg.github.io/rin2/book2/2405/docs/tkinter/ttk.html"
   ]
  },
  {
   "cell_type": "markdown",
   "id": "fd6a6117-d723-46da-99ed-52024f64a13a",
   "metadata": {},
   "source": [
    "Tkinter has two generations of widgets:\n",
    "\n",
    "- The old classic tk widgets. Tkinter introduced them in 1991.\n",
    "- The newer themed ttk widgets added in 2007 with Tk 8.5. The newer Tk themed widgets replace many (but not all) classic widgets."
   ]
  },
  {
   "cell_type": "code",
   "execution_count": 1,
   "id": "0a6ec250-32d8-4e1d-82da-05a8752049b0",
   "metadata": {},
   "outputs": [],
   "source": [
    "import tkinter as tk\n",
    "from tkinter import ttk\n",
    "\n",
    "root = tk.Tk()\n",
    "\n",
    "tk.Label(root, text='Classic Label').pack()\n",
    "ttk.Label(root, text='Themed Label').pack()\n",
    "\n",
    "root.mainloop()"
   ]
  },
  {
   "cell_type": "markdown",
   "id": "853e816e-74bb-42c1-a832-6d27e68cae74",
   "metadata": {},
   "source": [
    "#### Advantages of using Tk themed widgets\n",
    "\n",
    "By using the Tk themed widgets, you gain the following advantages:\n",
    "\n",
    "- Separating the widget’s behavior and appearance – the ttk widgets attempt to separate the code that implements the widgets’ behaviors from their appearance through the **styling system**.\n",
    "- Native look & feel – the ttk widgets have the native look and feel of the platform on which the program runs.\n",
    "- Simplify the state-specific widget behaviors – the ttk widgets simplify and generalize the **state-specific widget behavior**."
   ]
  },
  {
   "cell_type": "markdown",
   "id": "e2aa3398-ffaf-4744-98db-c32570ba614e",
   "metadata": {},
   "source": [
    "#### ttk Widgets Replacing Existing Tkinter Widgets\n",
    "\n",
    "- Button\n",
    "- Checkbutton\n",
    "- Entry\n",
    "- Frame\n",
    "- Label\n",
    "- LabelFrame\n",
    "- Menubutton\n",
    "- PanedWindow\n",
    "- Radiobutton\n",
    "- Scale\n",
    "- Scrollbar\n",
    "- Spinbox"
   ]
  },
  {
   "cell_type": "markdown",
   "id": "c63b0df1-1b8b-4308-8e7a-03ed2aa02d92",
   "metadata": {},
   "source": [
    "#### ttk Specific Widgets\n",
    "\n",
    "- Combobox\n",
    "- Notebook\n",
    "- Progressbar\n",
    "- Separator\n",
    "- Sizegrip\n",
    "- Treeview"
   ]
  },
  {
   "cell_type": "code",
   "execution_count": null,
   "id": "ee4ecd4f-432d-4afd-a345-5df3b7b7981f",
   "metadata": {},
   "outputs": [],
   "source": []
  }
 ],
 "metadata": {
  "kernelspec": {
   "display_name": "Python 3 (ipykernel)",
   "language": "python",
   "name": "python3"
  },
  "language_info": {
   "codemirror_mode": {
    "name": "ipython",
    "version": 3
   },
   "file_extension": ".py",
   "mimetype": "text/x-python",
   "name": "python",
   "nbconvert_exporter": "python",
   "pygments_lexer": "ipython3",
   "version": "3.8.12"
  }
 },
 "nbformat": 4,
 "nbformat_minor": 5
}
