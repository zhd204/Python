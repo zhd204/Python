{
 "cells": [
  {
   "cell_type": "markdown",
   "id": "d72c1e8a-8bc1-4aeb-adfd-45865dd1c97d",
   "metadata": {},
   "source": [
    "## Ttk ScrolledText Widget\n",
    "\n",
    "For the reference of complete command options and methods: https://www.pythontutorial.net/tkinter/tkinter-scrolledtext/\n",
    "\n"
   ]
  },
  {
   "cell_type": "markdown",
   "id": "3be1f6d2-38ce-4b5b-a587-9e1f013696f1",
   "metadata": {},
   "source": [
    "## Ttk ScrolledText Widget Example"
   ]
  },
  {
   "cell_type": "code",
   "execution_count": 1,
   "id": "ab2f6b30-db8d-41ea-8aa5-81c2d7e3c27a",
   "metadata": {
    "tags": []
   },
   "outputs": [],
   "source": [
    "import tkinter as tk\n",
    "from tkinter.scrolledtext import ScrolledText\n",
    "\n",
    "# root window\n",
    "root = tk.Tk()\n",
    "root.geometry(\"300x200\")\n",
    "root.resizable(False, False)\n",
    "root.title(\"ScrolledText Widget\")\n",
    "root.attributes(\"-topmost\", 1)\n",
    "\n",
    "\n",
    "st = ScrolledText(root, width=50, height=10)\n",
    "st.pack(fill=tk.BOTH, side=tk.LEFT, expand=True)\n",
    "\n",
    "root.mainloop()"
   ]
  },
  {
   "cell_type": "markdown",
   "id": "8bac055c-2431-41dd-ac9a-a655bc820195",
   "metadata": {},
   "source": [
    "Same program but written using the object-oriented programming approach:"
   ]
  },
  {
   "cell_type": "code",
   "execution_count": null,
   "id": "f8474662-d6a9-4ca4-a05e-3283ae9cf2f2",
   "metadata": {},
   "outputs": [],
   "source": [
    "import tkinter as tk\n",
    "from tkinter.scrolledtext import ScrolledText\n",
    "\n",
    "class App(tk.Tk):\n",
    "    def __init__(self):\n",
    "        super().__init__()\n",
    "        self.title(\"ScrolledText Widget\")\n",
    "        st = ScrolledText(self, width=50, height=10)\n",
    "        st.pack(fill=tk.BOTH, side=tk.LEFT, expand=True)\n",
    "        \n",
    "if __name__ == \"__main__\":\n",
    "    app = App()\n",
    "    app.mainloop()"
   ]
  },
  {
   "cell_type": "code",
   "execution_count": null,
   "id": "7c3eb315-819d-429d-9e83-99f59f38af04",
   "metadata": {},
   "outputs": [],
   "source": []
  }
 ],
 "metadata": {
  "kernelspec": {
   "display_name": "Python 3 (ipykernel)",
   "language": "python",
   "name": "python3"
  },
  "language_info": {
   "codemirror_mode": {
    "name": "ipython",
    "version": 3
   },
   "file_extension": ".py",
   "mimetype": "text/x-python",
   "name": "python",
   "nbconvert_exporter": "python",
   "pygments_lexer": "ipython3",
   "version": "3.8.12"
  }
 },
 "nbformat": 4,
 "nbformat_minor": 5
}
