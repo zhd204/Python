{
 "cells": [
  {
   "cell_type": "markdown",
   "id": "d72c1e8a-8bc1-4aeb-adfd-45865dd1c97d",
   "metadata": {},
   "source": [
    "## Ttk Sizegrip Widget\n",
    "\n",
    "For the reference of complete command options and methods: https://www.pythontutorial.net/tkinter/tkinter-sizegrip/\n",
    "\n"
   ]
  },
  {
   "cell_type": "markdown",
   "id": "3be1f6d2-38ce-4b5b-a587-9e1f013696f1",
   "metadata": {},
   "source": [
    "## Ttk Sizegrip Widget Example"
   ]
  },
  {
   "cell_type": "code",
   "execution_count": 6,
   "id": "ab2f6b30-db8d-41ea-8aa5-81c2d7e3c27a",
   "metadata": {
    "tags": []
   },
   "outputs": [],
   "source": [
    "import tkinter as tk\n",
    "from tkinter import ttk\n",
    "\n",
    "# root window\n",
    "root = tk.Tk()\n",
    "root.geometry(\"300x200\")\n",
    "root.resizable(True, True)\n",
    "root.title(\"Separator Widget Demo\")\n",
    "root.attributes(\"-topmost\", 1)\n",
    "\n",
    "root.columnconfigure(0, weight=1)\n",
    "root.rowconfigure(0, weight=1)\n",
    "\n",
    "sg = ttk.Sizegrip(root)\n",
    "sg.grid(row=1, sticky=tk.SE)\n",
    "\n",
    "root.mainloop()"
   ]
  },
  {
   "cell_type": "code",
   "execution_count": null,
   "id": "7c3eb315-819d-429d-9e83-99f59f38af04",
   "metadata": {},
   "outputs": [],
   "source": []
  }
 ],
 "metadata": {
  "kernelspec": {
   "display_name": "Python 3 (ipykernel)",
   "language": "python",
   "name": "python3"
  },
  "language_info": {
   "codemirror_mode": {
    "name": "ipython",
    "version": 3
   },
   "file_extension": ".py",
   "mimetype": "text/x-python",
   "name": "python",
   "nbconvert_exporter": "python",
   "pygments_lexer": "ipython3",
   "version": "3.8.12"
  }
 },
 "nbformat": 4,
 "nbformat_minor": 5
}
