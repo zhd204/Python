{
 "cells": [
  {
   "cell_type": "markdown",
   "id": "d72c1e8a-8bc1-4aeb-adfd-45865dd1c97d",
   "metadata": {},
   "source": [
    "## Ttk Listbox Widget\n",
    "\n",
    "For the reference of complete command options and methods: https://www.pythontutorial.net/tkinter/tkinter-listbox/\n"
   ]
  },
  {
   "cell_type": "markdown",
   "id": "3be1f6d2-38ce-4b5b-a587-9e1f013696f1",
   "metadata": {},
   "source": [
    "## Ttk Listbox Widget Example"
   ]
  },
  {
   "cell_type": "code",
   "execution_count": 15,
   "id": "ab2f6b30-db8d-41ea-8aa5-81c2d7e3c27a",
   "metadata": {
    "tags": []
   },
   "outputs": [],
   "source": [
    "import tkinter as tk\n",
    "from tkinter import ttk\n",
    "from tkinter.messagebox import showinfo\n",
    "\n",
    "root = tk.Tk()\n",
    "root.geometry('250x100')\n",
    "root.resizable(False, False)\n",
    "root.title('Listbox Widget Demo')\n",
    "root.attributes(\"-topmost\", 1)\n",
    "\n",
    "root.columnconfigure(0, weight=1)\n",
    "root.rowconfigure(0, weight=1)\n",
    "\n",
    "# create a list box\n",
    "langs = ('Java', 'C#', 'C', 'C++', 'Python', 'Go', 'JavaScript', 'PHP', 'Swift')\n",
    "\n",
    "langs_var = tk.StringVar(value=langs)\n",
    "\n",
    "# The selectmode option determines whether you can select a single item or multiple items at a time.\n",
    "# 'browse' – allows a single selection.\n",
    "# 'extended' – allows multiple selection.\n",
    "\n",
    "listbox = tk.Listbox(\n",
    "    root,\n",
    "    listvariable=langs_var,\n",
    "    height=6,\n",
    "    selectmode=\"extended\")\n",
    "\n",
    "listbox.grid(column=0, row=0, sticky='nwes')\n",
    "\n",
    "# link a scrollbar to a list\n",
    "scrollbar = ttk.Scrollbar(\n",
    "    root,\n",
    "    orient='vertical',\n",
    "    command=listbox.yview\n",
    ")\n",
    "\n",
    "listbox['yscrollcommand'] = scrollbar.set\n",
    "\n",
    "scrollbar.grid(\n",
    "    column=1,\n",
    "    row=0,\n",
    "    sticky='ns'\n",
    ")\n",
    "\n",
    "# handle event\n",
    "def items_selected(event):\n",
    "    \"\"\" handle item selected event \"\"\"\n",
    "    # get selected indices\n",
    "    selected_indices = listbox.curselection()  #  The curselection() method returns a list of currently selected indices.\n",
    "    # get selected items\n",
    "    selected_langs = ','.join([listbox.get(i) for i in selected_indices])\n",
    "    msg = f\"You selected: {selected_langs}\"\n",
    "    \n",
    "    showinfo(\n",
    "        title=\"Information\",\n",
    "        message=msg)\n",
    "    \n",
    "# To execute a function when the selected items changes, you bind that function to the <<ListboxSelect>> event:  \n",
    "listbox.bind(\"<<ListboxSelect>>\", items_selected)\n",
    "\n",
    "root.mainloop()"
   ]
  },
  {
   "cell_type": "code",
   "execution_count": null,
   "id": "7c3eb315-819d-429d-9e83-99f59f38af04",
   "metadata": {},
   "outputs": [],
   "source": []
  },
  {
   "cell_type": "code",
   "execution_count": null,
   "id": "967105cb-b821-4250-bbb7-7290e8c42775",
   "metadata": {},
   "outputs": [],
   "source": []
  }
 ],
 "metadata": {
  "kernelspec": {
   "display_name": "Python 3 (ipykernel)",
   "language": "python",
   "name": "python3"
  },
  "language_info": {
   "codemirror_mode": {
    "name": "ipython",
    "version": 3
   },
   "file_extension": ".py",
   "mimetype": "text/x-python",
   "name": "python",
   "nbconvert_exporter": "python",
   "pygments_lexer": "ipython3",
   "version": "3.8.12"
  }
 },
 "nbformat": 4,
 "nbformat_minor": 5
}
