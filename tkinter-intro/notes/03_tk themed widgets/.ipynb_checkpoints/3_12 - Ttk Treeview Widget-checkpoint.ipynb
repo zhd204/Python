{
 "cells": [
  {
   "cell_type": "markdown",
   "id": "d72c1e8a-8bc1-4aeb-adfd-45865dd1c97d",
   "metadata": {},
   "source": [
    "## Ttk Treeview Widget\n",
    "\n",
    "For the reference of complete command options and methods: https://www.pythontutorial.net/tkinter/tkinter-treeview/\n",
    "\n",
    "https://anzeljg.github.io/rin2/book2/2405/docs/tkinter/ttk-Treeview.html\n",
    "\n",
    "https://docs.python.org/3/library/tkinter.ttk.html#treeview"
   ]
  },
  {
   "cell_type": "markdown",
   "id": "3be1f6d2-38ce-4b5b-a587-9e1f013696f1",
   "metadata": {},
   "source": [
    "## Ttk Treeview Widget Example - Using Tkinter Treeview to display tabular data"
   ]
  },
  {
   "cell_type": "code",
   "execution_count": 11,
   "id": "ab2f6b30-db8d-41ea-8aa5-81c2d7e3c27a",
   "metadata": {
    "tags": []
   },
   "outputs": [
    {
     "name": "stdout",
     "output_type": "stream",
     "text": [
      "text \n",
      "image \n",
      "values ['first1', 'last1', 'email1@example.com']\n",
      "open 0\n",
      "tags \n",
      "text \n",
      "image \n",
      "values ['first1', 'last1', 'email1@example.com']\n",
      "open 0\n",
      "tags \n",
      "text \n",
      "image \n",
      "values ['first2', 'last2', 'email2@example.com']\n",
      "open 0\n",
      "tags \n",
      "text \n",
      "image \n",
      "values ['first51', 'last51', 'email51@example.com']\n",
      "open 0\n",
      "tags \n"
     ]
    }
   ],
   "source": [
    "import tkinter as tk\n",
    "from tkinter import ttk\n",
    "from tkinter.messagebox import showinfo\n",
    "\n",
    "\n",
    "root = tk.Tk()\n",
    "root.title('Treeview demo')\n",
    "root.geometry('620x200')\n",
    "root.attributes(\"-topmost\", 1)\n",
    "\n",
    "# columns\n",
    "columns = ('#1', '#2', '#3')  # 1 out of 3 ways to show column Identifiers\n",
    "# A string of the form '#n', where n is an integer, specifying the nth display column.\n",
    "\n",
    "tree = ttk.Treeview(root, columns=columns, show='headings')\n",
    "\n",
    "# define headings\n",
    "# syntax: .heading(cid, option=None, **kw), cid could be either a column identifier or a column identifier.\n",
    "#          options are: anchor, command, image and text.\n",
    "tree.heading('#1', text='First Name')\n",
    "tree.heading('#2', text='Last Name')\n",
    "tree.heading('#3', text='Email')\n",
    "\n",
    "# generate sample data\n",
    "contacts = []\n",
    "for n in range(1, 100):\n",
    "    contacts.append((f'first{n}', f'last{n}', f'email{n}@example.com'))\n",
    "    \n",
    "# adding data to the treeview\n",
    "# syntax: .insert(parent, index, iid=None, **kw)\n",
    "#           parent is the item ID of the parent item, or the \"\" to create a new top-level item.\n",
    "#           index is an integer, or the value “end”, specifying where in the list of parent’s children to insert the new item.\n",
    "for contact in contacts:\n",
    "    tree.insert(\"\", tk.END, values=contact)\n",
    "\n",
    "# bind the select event\n",
    "def item_selected(event):\n",
    "    for selected_item in tree.selection():  # returns a tuple of selected items.\n",
    "        # dictionary\n",
    "        item = tree.item(selected_item)  # Query or modify the options for the specified item. f no options are given, a dict with options/values for the item is returned.\n",
    "        for k, v in item.items():\n",
    "            print(k,v)\n",
    "        # list\n",
    "        record = item['values']\n",
    "        #\n",
    "        showinfo(title='Information', message=','.join(record))\n",
    "        \n",
    "\n",
    "tree.bind('<<TreeviewSelect>>', item_selected)\n",
    "        \n",
    "\n",
    "tree.grid(row=0, column=0, sticky='nsew')\n",
    "\n",
    "# add a scrollbar\n",
    "scrollbar = ttk.Scrollbar(root, orient=tk.VERTICAL, command=tree.yview)\n",
    "tree.configure(yscroll=scrollbar.set)\n",
    "scrollbar.grid(row=0, column=1, sticky='ns')\n",
    "\n",
    "# run the app\n",
    "root.mainloop()"
   ]
  },
  {
   "cell_type": "markdown",
   "id": "815abacb-4334-4b66-9f4a-a4f78d4b6a9c",
   "metadata": {},
   "source": [
    "## Ttk Treeview Widget Example - Using Tkinter Treeview to display hierarchical data"
   ]
  },
  {
   "cell_type": "code",
   "execution_count": 24,
   "id": "b6b5b65b-32e9-439a-b4b7-6ff49ec83b1a",
   "metadata": {},
   "outputs": [
    {
     "name": "stdout",
     "output_type": "stream",
     "text": [
      "0\n"
     ]
    }
   ],
   "source": [
    "import tkinter as tk\n",
    "from tkinter import ttk\n",
    "from tkinter.messagebox import showinfo\n",
    "\n",
    "# create root window\n",
    "root = tk.Tk()\n",
    "root.title(\"Treeview Demo - Hierarchical Data\")\n",
    "root.geometry(\"400x200\")\n",
    "root.attributes(\"-topmost\", 1)\n",
    "root.resizable(False, False)\n",
    "\n",
    "# configure the grid layout\n",
    "root.rowconfigure(0, weight=1)\n",
    "root.columnconfigure(0, weight=1)\n",
    "\n",
    "# create a treeview\n",
    "tree = ttk.Treeview(root)\n",
    "tree.heading('#0', text='Departments', anchor='w')\n",
    "\n",
    "# adding data\n",
    "tree.insert('', tk.END, text='Administration', iid=0, open=False)\n",
    "tree.insert('', tk.END, text='Logistics', iid=1, open=False)\n",
    "tree.insert('', tk.END, text='Sales', iid=2, open=False)\n",
    "tree.insert('', tk.END, text='Finance', iid=3, open=False)\n",
    "tree.insert('', tk.END, text='IT', iid=4, open=False)\n",
    "\n",
    "# adding children of first node\n",
    "iid_name1 = tree.insert('', tk.END, text='John Doe', iid=5, open=False)\n",
    "iid_name2 = tree.insert('', tk.END, text='Jane Doe', iid=6, open=False)\n",
    "\n",
    "index_1 = tree.index(0)\n",
    "\n",
    "print(index_1)\n",
    "\n",
    "# tree.move(5, 0, 0)\n",
    "# tree.move(6, 0, 1)\n",
    "\n",
    "tree.move(iid_name1, index_1, 0)\n",
    "tree.move(iid_name2, index_1, 1)\n",
    "\n",
    "\n",
    "# place the Treeview widget on the root window\n",
    "tree.grid(column=0, row=0, sticky='nsew')\n",
    "\n",
    "# run the app\n",
    "root.mainloop()"
   ]
  },
  {
   "cell_type": "code",
   "execution_count": null,
   "id": "02783067-6d2d-403c-af37-a89b507ace09",
   "metadata": {},
   "outputs": [],
   "source": []
  }
 ],
 "metadata": {
  "kernelspec": {
   "display_name": "Python 3 (ipykernel)",
   "language": "python",
   "name": "python3"
  },
  "language_info": {
   "codemirror_mode": {
    "name": "ipython",
    "version": 3
   },
   "file_extension": ".py",
   "mimetype": "text/x-python",
   "name": "python",
   "nbconvert_exporter": "python",
   "pygments_lexer": "ipython3",
   "version": "3.8.12"
  }
 },
 "nbformat": 4,
 "nbformat_minor": 5
}
