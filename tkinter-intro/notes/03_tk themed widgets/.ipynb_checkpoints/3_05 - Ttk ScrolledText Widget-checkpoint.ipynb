{
 "cells": [
  {
   "cell_type": "markdown",
   "id": "d72c1e8a-8bc1-4aeb-adfd-45865dd1c97d",
   "metadata": {},
   "source": [
    "## Ttk Button Widget\n",
    "\n",
    "For the reference of complete command options and methods: https://www.pythontutorial.net/tkinter/tkinter-button/\n",
    "\n",
    "https://anzeljg.github.io/rin2/book2/2405/docs/tkinter/ttk-Button.html"
   ]
  },
  {
   "cell_type": "markdown",
   "id": "3be1f6d2-38ce-4b5b-a587-9e1f013696f1",
   "metadata": {},
   "source": [
    "## Ttk Button Widget Example"
   ]
  },
  {
   "cell_type": "code",
   "execution_count": 3,
   "id": "ab2f6b30-db8d-41ea-8aa5-81c2d7e3c27a",
   "metadata": {
    "tags": []
   },
   "outputs": [],
   "source": [
    "import tkinter as tk\n",
    "from tkinter import ttk\n",
    "from tkinter.messagebox import showinfo\n",
    "\n",
    "# root window\n",
    "root = tk.Tk()\n",
    "root.geometry(\"300x200\")\n",
    "root.resizable(False, False)\n",
    "root.title(\"Image Button Demo\")\n",
    "root.attributes(\"-topmost\", 1)\n",
    "\n",
    "# download button handler\n",
    "def download_clicked():\n",
    "    showinfo(\n",
    "        title='Information',\n",
    "        message='Download button clicked!'\n",
    "    )\n",
    "    \n",
    "download_icon = tk.PhotoImage(file=\"image/download.png\")\n",
    "\n",
    "download_btn = ttk.Button(\n",
    "    root,\n",
    "    image=download_icon,\n",
    "    text=\"Download\",\n",
    "    compound=tk.LEFT,  # compound is the option to definde relative position between text and graph\n",
    "    command=download_clicked\n",
    ")\n",
    "\n",
    "download_btn.pack(\n",
    "    ipadx=5,\n",
    "    ipady=5,\n",
    "    expand=True\n",
    ")\n",
    "\n",
    "root.mainloop()"
   ]
  },
  {
   "cell_type": "code",
   "execution_count": null,
   "id": "998de73b-4266-4ef7-8338-9187f42d72ea",
   "metadata": {},
   "outputs": [],
   "source": []
  }
 ],
 "metadata": {
  "kernelspec": {
   "display_name": "Python 3 (ipykernel)",
   "language": "python",
   "name": "python3"
  },
  "language_info": {
   "codemirror_mode": {
    "name": "ipython",
    "version": 3
   },
   "file_extension": ".py",
   "mimetype": "text/x-python",
   "name": "python",
   "nbconvert_exporter": "python",
   "pygments_lexer": "ipython3",
   "version": "3.8.12"
  }
 },
 "nbformat": 4,
 "nbformat_minor": 5
}
