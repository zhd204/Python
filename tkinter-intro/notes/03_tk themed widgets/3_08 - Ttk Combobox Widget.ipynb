{
 "cells": [
  {
   "cell_type": "markdown",
   "id": "d72c1e8a-8bc1-4aeb-adfd-45865dd1c97d",
   "metadata": {},
   "source": [
    "## Ttk Combobox Widget\n",
    "\n",
    "For the reference of complete command options and methods: https://www.pythontutorial.net/tkinter/tkinter-combobox/\n",
    "\n",
    "https://anzeljg.github.io/rin2/book2/2405/docs/tkinter/ttk-Combobox.html"
   ]
  },
  {
   "cell_type": "markdown",
   "id": "3be1f6d2-38ce-4b5b-a587-9e1f013696f1",
   "metadata": {},
   "source": [
    "## Ttk Combobox Widget Example"
   ]
  },
  {
   "cell_type": "code",
   "execution_count": 20,
   "id": "ab2f6b30-db8d-41ea-8aa5-81c2d7e3c27a",
   "metadata": {
    "tags": []
   },
   "outputs": [],
   "source": [
    "import tkinter as tk\n",
    "from tkinter import ttk\n",
    "from tkinter.messagebox import showinfo\n",
    "\n",
    "root = tk.Tk()\n",
    "root.geometry('300x200')\n",
    "root.resizable(False, False)\n",
    "root.title('Combobox Widget')\n",
    "root.attributes(\"-topmost\", 1)\n",
    "\n",
    "\n",
    "def month_changed(event):\n",
    "    msg = f'You selected {month_cb.get()}!'\n",
    "    showinfo(title='Result', message=msg)\n",
    "\n",
    "\n",
    "# month of year\n",
    "months = ('Jan', 'Feb', 'Mar', 'Apr', 'May', 'Jun',\n",
    "        'Jul', 'Aug', 'Sep', 'Oct', 'Nov', 'Dec')\n",
    "\n",
    "label = ttk.Label(text=\"Please select a month:\")\n",
    "label.pack(fill='x', padx=5, pady=5)\n",
    "\n",
    "# create a combobox\n",
    "selected_month = tk.StringVar()\n",
    "\n",
    "month_cb = ttk.Combobox(root, textvariable=selected_month)\n",
    "month_cb['values'] = months\n",
    "\n",
    "# By default, you can enter a new entry in the combobox. \n",
    "# If you don’t want this, you can set the state option to 'readonly':\n",
    "month_cb['state'] = 'readonly'\n",
    "# To re-enable editing the combobox, you use the 'normal' state like this:\n",
    "# month_cb['state'] = 'normal'\n",
    "\n",
    "month_cb.pack(fill='x', padx=5, pady=5)\n",
    "\n",
    "# A combobox will generate a '<<ComboboxSelected>>' virtual event that you can bind to whenever its selected value changes:\n",
    "month_cb.bind('<<ComboboxSelected>>', month_changed)\n",
    "\n",
    "\n",
    "root.mainloop()"
   ]
  },
  {
   "cell_type": "code",
   "execution_count": null,
   "id": "7c3eb315-819d-429d-9e83-99f59f38af04",
   "metadata": {},
   "outputs": [],
   "source": []
  },
  {
   "cell_type": "code",
   "execution_count": null,
   "id": "967105cb-b821-4250-bbb7-7290e8c42775",
   "metadata": {},
   "outputs": [],
   "source": []
  }
 ],
 "metadata": {
  "kernelspec": {
   "display_name": "Python 3 (ipykernel)",
   "language": "python",
   "name": "python3"
  },
  "language_info": {
   "codemirror_mode": {
    "name": "ipython",
    "version": 3
   },
   "file_extension": ".py",
   "mimetype": "text/x-python",
   "name": "python",
   "nbconvert_exporter": "python",
   "pygments_lexer": "ipython3",
   "version": "3.8.12"
  }
 },
 "nbformat": 4,
 "nbformat_minor": 5
}
