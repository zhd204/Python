{
 "cells": [
  {
   "cell_type": "markdown",
   "id": "d72c1e8a-8bc1-4aeb-adfd-45865dd1c97d",
   "metadata": {},
   "source": [
    "## Ttk Notebook Widget\n",
    "\n",
    "For the reference of complete command options and methods: https://www.pythontutorial.net/tkinter/tkinter-notebook/\n",
    "\n",
    "https://anzeljg.github.io/rin2/book2/2405/docs/tkinter/ttk-Notebook.html"
   ]
  },
  {
   "cell_type": "markdown",
   "id": "3be1f6d2-38ce-4b5b-a587-9e1f013696f1",
   "metadata": {},
   "source": [
    "## Ttk Notebook Widget Example"
   ]
  },
  {
   "cell_type": "code",
   "execution_count": 10,
   "id": "ab2f6b30-db8d-41ea-8aa5-81c2d7e3c27a",
   "metadata": {
    "tags": []
   },
   "outputs": [],
   "source": [
    "import tkinter as tk\n",
    "from tkinter import ttk\n",
    "\n",
    "# root window\n",
    "root = tk.Tk()\n",
    "root.geometry(\"400x300\")\n",
    "root.title(\"Notebook Demo\")\n",
    "root.attributes(\"-topmost\", 1)\n",
    "\n",
    "# create a notebook\n",
    "notebook = ttk.Notebook(root)\n",
    "notebook.pack(pady=10, expand=True)\n",
    "\n",
    "# create frames\n",
    "frame1 = ttk.Frame(notebook, width=400, height=280)\n",
    "frame2 = ttk.Frame(notebook, width=400, height=280)\n",
    "\n",
    "frame1.pack(fill=\"both\", expand=True)\n",
    "frame2.pack(fill=\"both\", expand=True)\n",
    "\n",
    "# add frames to notebook\n",
    "\n",
    "notebook.add(frame1, text=\"General Information\")\n",
    "notebook.add(frame2, text=\"Profile\")\n",
    "\n",
    "label1 = ttk.Label(frame1, text=\"Label1\")\n",
    "label1.place(x=150, y=10)\n",
    "\n",
    "label2 = ttk.Label(frame2, text=\"Label2\")\n",
    "label2.place(x=150, y=10)\n",
    "\n",
    "root.mainloop()"
   ]
  },
  {
   "cell_type": "code",
   "execution_count": 13,
   "id": "967105cb-b821-4250-bbb7-7290e8c42775",
   "metadata": {},
   "outputs": [],
   "source": [
    "import tkinter as tk\n",
    "from tkinter import ttk\n",
    "from tkinter.messagebox import showinfo\n",
    "\n",
    "# root window\n",
    "root = tk.Tk()\n",
    "root.geometry(\"300x120\")\n",
    "root.title(\"Progressbar Demo\")\n",
    "root.attributes(\"-topmost\", 1)\n",
    "\n",
    "root.grid()\n",
    "\n",
    "def update_progress_label():\n",
    "    return f\"Current Progress: {pb['value']}%\"\n",
    "\n",
    "def progress():\n",
    "    if pb['value'] < 100:  #  get the progress bar current progress value\n",
    "        pb['value'] += 20\n",
    "        value_label['text'] = update_progress_label()\n",
    "    else:\n",
    "        showinfo(message=\"The progress complete!\")\n",
    "\n",
    "def stop():\n",
    "    pb.stop()\n",
    "    value_label['text'] = update_progress_label()\n",
    "    \n",
    "# progressbar\n",
    "pb = ttk.Progressbar(\n",
    "    root,\n",
    "    orient='horizontal',\n",
    "    mode='determinate',\n",
    "    length=280\n",
    ")\n",
    "\n",
    "# place the processbar\n",
    "pb.grid(column=0, row=0, columnspan=2, padx=10, pady=20)\n",
    "\n",
    "# label\n",
    "value_label = ttk.Label(root, text=update_progress_label())\n",
    "value_label.grid(column=0, row=1, columnspan=2)\n",
    "\n",
    "# start button\n",
    "start_btn = ttk.Button(\n",
    "    root,\n",
    "    text='Start',\n",
    "    command=progress  # start method from the progressbar widget\n",
    ")\n",
    "start_btn.grid(column=0, row=2, padx=10, pady=10, sticky=tk.E)\n",
    "\n",
    "# stop button\n",
    "stop_btn = ttk.Button(\n",
    "    root,\n",
    "    text='Stop',\n",
    "    command=stop  # stop method from the progressbar widget\n",
    ")\n",
    "stop_btn.grid(column=1, row=2, padx=10, pady=10, sticky=tk.W)\n",
    "\n",
    "\n",
    "root.mainloop()"
   ]
  },
  {
   "cell_type": "code",
   "execution_count": null,
   "id": "c5837284-9b91-4a34-a2c2-800f8f8c74af",
   "metadata": {},
   "outputs": [],
   "source": []
  }
 ],
 "metadata": {
  "kernelspec": {
   "display_name": "Python 3 (ipykernel)",
   "language": "python",
   "name": "python3"
  },
  "language_info": {
   "codemirror_mode": {
    "name": "ipython",
    "version": 3
   },
   "file_extension": ".py",
   "mimetype": "text/x-python",
   "name": "python",
   "nbconvert_exporter": "python",
   "pygments_lexer": "ipython3",
   "version": "3.8.12"
  }
 },
 "nbformat": 4,
 "nbformat_minor": 5
}
