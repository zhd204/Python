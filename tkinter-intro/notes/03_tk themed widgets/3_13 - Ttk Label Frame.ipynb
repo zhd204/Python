{
 "cells": [
  {
   "cell_type": "markdown",
   "id": "d72c1e8a-8bc1-4aeb-adfd-45865dd1c97d",
   "metadata": {},
   "source": [
    "## Ttk Label Frame Widget\n",
    "\n",
    "For the reference of complete command options and methods: https://www.pythontutorial.net/tkinter/tkinter-labelframe/"
   ]
  },
  {
   "cell_type": "markdown",
   "id": "3be1f6d2-38ce-4b5b-a587-9e1f013696f1",
   "metadata": {},
   "source": [
    "## Ttk Label Frame Widget Example"
   ]
  },
  {
   "cell_type": "code",
   "execution_count": 1,
   "id": "5b0fdf24-311a-4c7b-b286-6c4b8bf9bf84",
   "metadata": {},
   "outputs": [],
   "source": [
    "import tkinter as tk\n",
    "from tkinter import ttk\n",
    "\n",
    "\n",
    "# root window\n",
    "root = tk.Tk()\n",
    "root.geometry('300x200')\n",
    "root.resizable(False, False)\n",
    "root.title('LabelFrame Demo')\n",
    "\n",
    "# label frame\n",
    "lf = ttk.LabelFrame(\n",
    "    root,\n",
    "    text='Alignment')\n",
    "\n",
    "lf.grid(column=0, row=0, padx=20, pady=20)\n",
    "\n",
    "alignment = tk.StringVar()\n",
    "\n",
    "# left radio button\n",
    "left_radio = ttk.Radiobutton(\n",
    "    lf,\n",
    "    text='Left',\n",
    "    value='left',\n",
    "    variable=alignment\n",
    ")\n",
    "left_radio.grid(column=0, row=0, ipadx=10, ipady=10)\n",
    "\n",
    "# center radio button\n",
    "center_radio = ttk.Radiobutton(\n",
    "    lf,\n",
    "    text='Center',\n",
    "    value='center',\n",
    "    variable=alignment\n",
    ")\n",
    "\n",
    "center_radio.grid(column=1, row=0, ipadx=10, ipady=10)\n",
    "\n",
    "# right alignment radiobutton\n",
    "right_radio = ttk.Radiobutton(\n",
    "    lf,\n",
    "    text='Right',\n",
    "    value='right',\n",
    "    variable=alignment\n",
    ")\n",
    "right_radio.grid(column=2, row=0, ipadx=10, ipady=10)\n",
    "\n",
    "root.mainloop()"
   ]
  },
  {
   "cell_type": "code",
   "execution_count": null,
   "id": "6e4ab74f-3056-4eaa-9d7d-6f2ca95296e3",
   "metadata": {},
   "outputs": [],
   "source": []
  }
 ],
 "metadata": {
  "kernelspec": {
   "display_name": "Python 3 (ipykernel)",
   "language": "python",
   "name": "python3"
  },
  "language_info": {
   "codemirror_mode": {
    "name": "ipython",
    "version": 3
   },
   "file_extension": ".py",
   "mimetype": "text/x-python",
   "name": "python",
   "nbconvert_exporter": "python",
   "pygments_lexer": "ipython3",
   "version": "3.8.12"
  }
 },
 "nbformat": 4,
 "nbformat_minor": 5
}
