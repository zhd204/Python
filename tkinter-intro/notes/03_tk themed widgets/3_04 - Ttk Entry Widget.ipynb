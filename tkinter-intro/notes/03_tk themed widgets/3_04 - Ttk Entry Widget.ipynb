{
 "cells": [
  {
   "cell_type": "markdown",
   "id": "d72c1e8a-8bc1-4aeb-adfd-45865dd1c97d",
   "metadata": {},
   "source": [
    "## Ttk Entry Widget\n",
    "\n",
    "For the reference of complete command options and methods: https://www.pythontutorial.net/tkinter/tkinter-entry/\n",
    "\n",
    "https://anzeljg.github.io/rin2/book2/2405/docs/tkinter/ttk-Entry.html"
   ]
  },
  {
   "cell_type": "markdown",
   "id": "3be1f6d2-38ce-4b5b-a587-9e1f013696f1",
   "metadata": {},
   "source": [
    "## Ttk Entry Widget Example"
   ]
  },
  {
   "cell_type": "code",
   "execution_count": 10,
   "id": "ab2f6b30-db8d-41ea-8aa5-81c2d7e3c27a",
   "metadata": {
    "tags": []
   },
   "outputs": [],
   "source": [
    "import tkinter as tk\n",
    "from tkinter import ttk\n",
    "from tkinter.messagebox import showinfo\n",
    "\n",
    "# root window\n",
    "root = tk.Tk()\n",
    "root.geometry(\"300x200\")\n",
    "root.resizable(False, False)\n",
    "root.title(\"Sign In\")\n",
    "root.attributes(\"-topmost\", 1)\n",
    "\n",
    "# store email address and password\n",
    "email = tk.StringVar()\n",
    "password = tk.StringVar()\n",
    "\n",
    "def login_clicked():\n",
    "    \"\"\" callback when the login button clicked \"\"\"\n",
    "    msg = f\"You entered email: {email.get()} and password: {password.get()}\"\n",
    "    showinfo(\n",
    "        title=\"Information\",\n",
    "        message=msg\n",
    "    )\n",
    "\n",
    "# sign in frame\n",
    "signin = ttk.Frame(root)\n",
    "signin.pack(padx=10, pady=10, fill='x', expand=True)\n",
    "\n",
    "# email\n",
    "email_label = ttk.Label(signin, text=\"Email Address:\")\n",
    "email_label.pack(fill=\"x\", expand=True)\n",
    "\n",
    "email_entry = ttk.Entry(signin, textvariable=email)\n",
    "email_entry.pack(fill=\"x\", expand=True)\n",
    "email_entry.focus()\n",
    "\n",
    "# password\n",
    "password_label = ttk.Label(signin, text=\"Password:\")\n",
    "password_label.pack(fill='x', expand=True)\n",
    "\n",
    "password_entry = ttk.Entry(signin, textvariable=password, show=\"*\")\n",
    "password_entry.pack(fill='x', expand=True)\n",
    "\n",
    "# login button\n",
    "login_button = ttk.Button(signin, text=\"Login\", command=login_clicked)\n",
    "login_button.pack(fill='x', expand=True, pady=10)\n",
    "\n",
    "root.mainloop()"
   ]
  },
  {
   "cell_type": "code",
   "execution_count": null,
   "id": "998de73b-4266-4ef7-8338-9187f42d72ea",
   "metadata": {},
   "outputs": [],
   "source": []
  }
 ],
 "metadata": {
  "kernelspec": {
   "display_name": "Python 3 (ipykernel)",
   "language": "python",
   "name": "python3"
  },
  "language_info": {
   "codemirror_mode": {
    "name": "ipython",
    "version": 3
   },
   "file_extension": ".py",
   "mimetype": "text/x-python",
   "name": "python",
   "nbconvert_exporter": "python",
   "pygments_lexer": "ipython3",
   "version": "3.8.12"
  }
 },
 "nbformat": 4,
 "nbformat_minor": 5
}
