{
 "cells": [
  {
   "cell_type": "markdown",
   "id": "7bcedb8d-04c2-4ca7-b924-f1e3167c196d",
   "metadata": {},
   "source": [
    "In this tutorial, we will learn about Tkinter Windows in Python which is the main Window of the GUI application inside which every other component runs. We have covered the basic Tkinter GUI application Components in which we have explained how Tkinter Windows, Widgets, and Frames are building blocks of a Tkinter App."
   ]
  },
  {
   "cell_type": "markdown",
   "id": "fea0c41b-08fb-4dd7-8318-d630cde1c834",
   "metadata": {},
   "source": [
    "## Tkinter Windows"
   ]
  },
  {
   "cell_type": "markdown",
   "id": "c6ea0f2d-8ee0-493b-ae6d-f768bea1003c",
   "metadata": {},
   "source": [
    "The Tkinter window is the foundational element of the Tkinter GUI. Tkinter window is a container in which all other GUI elements(widgets) live.\n",
    "\n",
    "Here is the syntax for creating a basic Tkinter Window:\n",
    "\n",
    "win = Tk()\n",
    "\n",
    "Yes, we use the Tk() function to create our Tkinter app window in which all the other components are added."
   ]
  },
  {
   "cell_type": "code",
   "execution_count": 2,
   "id": "9e459b5c-64ad-424f-abd6-0068ce35a020",
   "metadata": {},
   "outputs": [],
   "source": [
    "from tkinter import *\n",
    "\n",
    "window = Tk()\n",
    "\n",
    "# You can add your widgets here.\n",
    "\n",
    "window.title('Hello Tkinter')\n",
    "window.geometry(\"300x200+100+200\")\n",
    "window.mainloop()"
   ]
  },
  {
   "cell_type": "markdown",
   "id": "ea3bcb2c-3198-4529-9b47-3cd1984f7aad",
   "metadata": {},
   "source": [
    "Here is what we have done in the code:\n",
    "\n",
    "- The first step is to import the Tkinter module in the code.\n",
    "\n",
    "- After importing, the second step is to set up the application object by calling the Tk() function. This will create a top-level window (root) having a frame with a title bar and control box with the minimize and close buttons, and a client area to hold other widgets.\n",
    "\n",
    "- After that, you can add the widgets you might want to add in your code like buttons, textbox, scrollbar, labels, and many more.\n",
    "\n",
    "- The window.title() function is used to provide the title to the user interface as you can see in the output.\n",
    "\n",
    "- In the line window.geometry(\"300x200+10+20); the geometry() method defines the width, height, and coordinates of the top left corner of the frame as follows (all values are generally in pixels) in the same way. Here is the syntax:\n",
    "\n",
    "    window.geometry(\"widthxheight+XPOS+YPOS\")\n",
    "    \n",
    "    refer to https://tkdocs.com/shipman/geometry.html\n",
    "\n",
    "- After that, the application object enters an event listening loop by calling the mainloop() method. In this way, the application is now constantly waiting for any event generated on the elements in it. There could be an event like text entered in a text field, a selection made from the dropdown or radio button, single/double click actions of the mouse, etc.\n",
    "\n",
    "The application's functionality involves executing appropriate callback functions in response to a particular type of event.\n",
    "\n",
    "The event loop will terminate as soon as there is a click made on the close button on the title bar.\n",
    "\n"
   ]
  },
  {
   "cell_type": "markdown",
   "id": "cb61992e-3776-4322-bb65-daa1c748a0f2",
   "metadata": {},
   "source": []
  }
 ],
 "metadata": {
  "kernelspec": {
   "display_name": "Python 3",
   "language": "python",
   "name": "python3"
  },
  "language_info": {
   "codemirror_mode": {
    "name": "ipython",
    "version": 3
   },
   "file_extension": ".py",
   "mimetype": "text/x-python",
   "name": "python",
   "nbconvert_exporter": "python",
   "pygments_lexer": "ipython3",
   "version": "3.8.5"
  }
 },
 "nbformat": 4,
 "nbformat_minor": 5
}
