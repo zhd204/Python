{
 "cells": [
  {
   "cell_type": "markdown",
   "id": "d72c1e8a-8bc1-4aeb-adfd-45865dd1c97d",
   "metadata": {},
   "source": [
    "## Tkinter Radiobutton Widget\n",
    "\n",
    "For the reference of complete command options and methods:\n",
    "https://anzeljg.github.io/rin2/book2/2405/docs/tkinter/radiobutton.html"
   ]
  },
  {
   "cell_type": "markdown",
   "id": "3be1f6d2-38ce-4b5b-a587-9e1f013696f1",
   "metadata": {},
   "source": [
    "## Tkinter Radiobutton Widget Example"
   ]
  },
  {
   "cell_type": "code",
   "execution_count": 6,
   "id": "90ea497f-4125-46ac-bf2f-7c5b482d4aab",
   "metadata": {},
   "outputs": [],
   "source": [
    "from tkinter import *\n",
    "\n",
    "def sel():\n",
    "    selection = f\"You selected the option {v.get()}\"\n",
    "    label.config(text=selection)\n",
    "    \n",
    "win = Tk()\n",
    "win.geometry(\"200x200\")\n",
    "\n",
    "# Create a control variable\n",
    "v = StringVar(win, \"1\")\n",
    "\n",
    "options = {\n",
    "    \"Option A\" : \"1\",\n",
    "    \"Option B\" : \"2\",\n",
    "    \"Option C\" : \"3\",\n",
    "    \"Option D\" : \"4\"\n",
    "}\n",
    "\n",
    "for txt, val in options.items():\n",
    "    Radiobutton(win, text=txt, variable=v, value=val, command=sel).pack(ipady=4)\n",
    "    \n",
    "label = Label(win)\n",
    "label.pack()\n",
    "\n",
    "mainloop()"
   ]
  },
  {
   "cell_type": "markdown",
   "id": "51195b71-1f8c-44c0-8645-f0b065780cb0",
   "metadata": {},
   "source": [
    "Below we have another example of this widget where we will add **[styling](https://anzeljg.github.io/rin2/book2/2405/docs/tkinter/ttk-style-layer.html)** to radiobutton using style class:"
   ]
  },
  {
   "cell_type": "code",
   "execution_count": 9,
   "id": "6535c42c-5f2e-4565-8bda-83a8dc55df12",
   "metadata": {},
   "outputs": [],
   "source": [
    "from tkinter import * \n",
    "from tkinter.ttk import *\n",
    "\n",
    "win= Tk() \n",
    "win.geometry('200x200') \n",
    "v = StringVar(win, \"1\") \n",
    "\n",
    "# we will add Style class to add style to Radiobutton\n",
    "# https://anzeljg.github.io/rin2/book2/2405/docs/tkinter/ttk-style-layer.html\n",
    "style = Style(win) \n",
    "style.configure(\"TRadiobutton\", background = \"light blue\", \n",
    "\t\t\t\tforeground = \"orange\", font = (\"arial\", 14, \"bold\")) \n",
    "\n",
    "# Dictionary to create multiple buttons \n",
    "values = {\"RadioButton 1\" : \"1\", \n",
    "\t\t\"RadioButton 2\" : \"2\", \n",
    "\t\t\"RadioButton 3\" : \"3\" \n",
    "\t\t} \n",
    "\n",
    "for (text, value) in values.items(): \n",
    "\tRadiobutton(win, text = text, variable = v, \n",
    "\t\t\t\tvalue = value).pack(side = TOP, ipady = 3) \n",
    "mainloop() "
   ]
  },
  {
   "cell_type": "code",
   "execution_count": null,
   "id": "162e6a5a-8da8-4e05-bbac-405bb3c45f12",
   "metadata": {},
   "outputs": [],
   "source": []
  }
 ],
 "metadata": {
  "kernelspec": {
   "display_name": "Python 3",
   "language": "python",
   "name": "python3"
  },
  "language_info": {
   "codemirror_mode": {
    "name": "ipython",
    "version": 3
   },
   "file_extension": ".py",
   "mimetype": "text/x-python",
   "name": "python",
   "nbconvert_exporter": "python",
   "pygments_lexer": "ipython3",
   "version": "3.8.5"
  }
 },
 "nbformat": 4,
 "nbformat_minor": 5
}
